{
 "cells": [
  {
   "cell_type": "code",
   "execution_count": 30,
   "id": "e773a70b",
   "metadata": {},
   "outputs": [],
   "source": [
    "import re\n",
    "\n",
    "import torch\n",
    "import torch.nn as nn\n",
    "import torch.optim as optim\n",
    "from torch.utils.data import TensorDataset, DataLoader\n",
    "import matplotlib.pyplot as plt\n",
    "import seaborn as sns\n",
    "from tqdm import tqdm\n",
    "\n",
    "from nltk import word_tokenize, pos_tag\n",
    "from nltk.stem import WordNetLemmatizer\n",
    "from nltk.corpus import stopwords, wordnet\n",
    "from bs4 import BeautifulSoup\n",
    "\n",
    "from datasets import load_dataset\n",
    "from sklearn.model_selection import train_test_split\n",
    "from sklearn.feature_extraction.text import TfidfVectorizer, CountVectorizer\n",
    "from torchmetrics.classification import BinaryAccuracy, BinaryF1Score, BinaryConfusionMatrix\n",
    "\n",
    "import numpy as np\n",
    "from collections import defaultdict\n",
    "from torch.nn.utils.rnn import pad_sequence\n",
    "\n",
    "import contractions"
   ]
  },
  {
   "cell_type": "code",
   "execution_count": 31,
   "id": "bcfee395",
   "metadata": {},
   "outputs": [
    {
     "data": {
      "text/plain": [
       "device(type='cuda')"
      ]
     },
     "execution_count": 31,
     "metadata": {},
     "output_type": "execute_result"
    }
   ],
   "source": [
    "device = torch.device(\"cuda\" if torch.cuda.is_available() else \"cpu\")\n",
    "device"
   ]
  },
  {
   "cell_type": "markdown",
   "id": "2062d8f4",
   "metadata": {},
   "source": [
    "### Load dataset"
   ]
  },
  {
   "cell_type": "code",
   "execution_count": 32,
   "id": "4ee0d27c",
   "metadata": {},
   "outputs": [
    {
     "name": "stderr",
     "output_type": "stream",
     "text": [
      "Using the latest cached version of the dataset since imdb couldn't be found on the Hugging Face Hub\n",
      "Found the latest cached dataset configuration 'plain_text' at data\\imdb\\plain_text\\0.0.0\\e6281661ce1c48d982bc483cf8a173c1bbeb5d31 (last modified on Mon Jul 28 19:25:48 2025).\n"
     ]
    },
    {
     "data": {
      "text/plain": [
       "DatasetDict({\n",
       "    train: Dataset({\n",
       "        features: ['text', 'label'],\n",
       "        num_rows: 25000\n",
       "    })\n",
       "    test: Dataset({\n",
       "        features: ['text', 'label'],\n",
       "        num_rows: 25000\n",
       "    })\n",
       "    unsupervised: Dataset({\n",
       "        features: ['text', 'label'],\n",
       "        num_rows: 50000\n",
       "    })\n",
       "})"
      ]
     },
     "execution_count": 32,
     "metadata": {},
     "output_type": "execute_result"
    }
   ],
   "source": [
    "dataset = load_dataset(\"imdb\", cache_dir='./data')\n",
    "dataset"
   ]
  },
  {
   "cell_type": "markdown",
   "id": "4a5a0a7c",
   "metadata": {},
   "source": [
    "### Preprocessing"
   ]
  },
  {
   "cell_type": "code",
   "execution_count": 33,
   "id": "afced86f",
   "metadata": {},
   "outputs": [],
   "source": [
    "split_Dataset = dataset['train'].train_test_split(test_size=0.2, shuffle=True)\n",
    "\n",
    "train = split_Dataset['train']\n",
    "val = split_Dataset['test']\n",
    "test = dataset['test']"
   ]
  },
  {
   "cell_type": "code",
   "execution_count": 34,
   "id": "45c78443",
   "metadata": {},
   "outputs": [],
   "source": [
    "X_train, y_train = train['text'], train['label']\n",
    "X_val, y_val = val['text'], val['label']\n",
    "X_test, y_test = test['text'], test['label']"
   ]
  },
  {
   "cell_type": "markdown",
   "id": "6217b026",
   "metadata": {},
   "source": [
    "#### Remove html scripts, square brackets & special character"
   ]
  },
  {
   "cell_type": "code",
   "execution_count": 35,
   "id": "323fbd54",
   "metadata": {},
   "outputs": [],
   "source": [
    "def strip_html(text):\n",
    "    soup = BeautifulSoup(text, \"html.parser\")\n",
    "    return soup.get_text()\n",
    "\n",
    "def remove_between_square_brackets(text):\n",
    "    return re.sub('\\[[^]]*\\]', '', text)\n",
    "\n",
    "def remove_special_characters(text):\n",
    "    pattern=r'[^a-zA-z0-9\\s]'\n",
    "    text=re.sub(pattern,'',text)\n",
    "    return text\n",
    "\n",
    "def clean_text(text):\n",
    "    text = contractions.fix(text)\n",
    "    text = strip_html(text)\n",
    "    text = remove_between_square_brackets(text)\n",
    "    text = remove_special_characters(text)\n",
    "    return text"
   ]
  },
  {
   "cell_type": "code",
   "execution_count": 36,
   "id": "d55068f5",
   "metadata": {},
   "outputs": [],
   "source": [
    "X_train = [clean_text(text) for text in X_train]\n",
    "X_val   = [clean_text(text) for text in X_val]\n",
    "X_test  = [clean_text(text) for text in X_test]"
   ]
  },
  {
   "cell_type": "markdown",
   "id": "992b3718",
   "metadata": {},
   "source": [
    "### Tokenize"
   ]
  },
  {
   "cell_type": "code",
   "execution_count": 37,
   "id": "e645ebcb",
   "metadata": {},
   "outputs": [],
   "source": [
    "X_train_tokenized = [[token for token in word_tokenize(text.lower())] for text in X_train]\n",
    "X_val_tokenized = [[token for token in word_tokenize(text.lower())] for text in X_val]\n",
    "X_test_tokenized = [[token for token in word_tokenize(text.lower())] for text in X_test]"
   ]
  },
  {
   "cell_type": "code",
   "execution_count": 38,
   "id": "785c9286",
   "metadata": {},
   "outputs": [
    {
     "name": "stdout",
     "output_type": "stream",
     "text": [
      "To be honest I watched this movie only because of my pubert needs I mean I could not get women at my age I was 9 or 10 so I thought watching Elviras cleavage was the closet thing to sexI ended up having a great time with this cult classic about horror comedy Halloween parties sassy humor and some sexy evil displayed by ElviraThey just do not make movies like this anymore It had the feeling of an amateur effort mixed with a late night cable talk show host style The truth is that it generated plenty of fans because of it is humor and the ability to perform by Cassandra This is classic that reminds me of the good days of USA Up All Night\n",
      "['to', 'be', 'honest', 'i', 'watched', 'this', 'movie', 'only', 'because', 'of', 'my', 'pubert', 'needs', 'i', 'mean', 'i', 'could', 'not', 'get', 'women', 'at', 'my', 'age', 'i', 'was', '9', 'or', '10', 'so', 'i', 'thought', 'watching', 'elviras', 'cleavage', 'was', 'the', 'closet', 'thing', 'to', 'sexi', 'ended', 'up', 'having', 'a', 'great', 'time', 'with', 'this', 'cult', 'classic', 'about', 'horror', 'comedy', 'halloween', 'parties', 'sassy', 'humor', 'and', 'some', 'sexy', 'evil', 'displayed', 'by', 'elvirathey', 'just', 'do', 'not', 'make', 'movies', 'like', 'this', 'anymore', 'it', 'had', 'the', 'feeling', 'of', 'an', 'amateur', 'effort', 'mixed', 'with', 'a', 'late', 'night', 'cable', 'talk', 'show', 'host', 'style', 'the', 'truth', 'is', 'that', 'it', 'generated', 'plenty', 'of', 'fans', 'because', 'of', 'it', 'is', 'humor', 'and', 'the', 'ability', 'to', 'perform', 'by', 'cassandra', 'this', 'is', 'classic', 'that', 'reminds', 'me', 'of', 'the', 'good', 'days', 'of', 'usa', 'up', 'all', 'night']\n"
     ]
    }
   ],
   "source": [
    "print(X_train[0])\n",
    "print(X_train_tokenized[0])"
   ]
  },
  {
   "cell_type": "markdown",
   "id": "9a619316",
   "metadata": {},
   "source": [
    "### Delete stopwords"
   ]
  },
  {
   "cell_type": "code",
   "execution_count": 39,
   "id": "df993773",
   "metadata": {},
   "outputs": [
    {
     "name": "stdout",
     "output_type": "stream",
     "text": [
      "['a', 'about', 'above', 'after', 'again', 'against', 'ain', 'all', 'am', 'an', 'and', 'any', 'are', 'aren', \"aren't\", 'as', 'at', 'be', 'because', 'been', 'before', 'being', 'below', 'between', 'both', 'but', 'by', 'can', 'couldn', \"couldn't\", 'd', 'did', 'didn', \"didn't\", 'do', 'does', 'doesn', \"doesn't\", 'doing', 'don', \"don't\", 'down', 'during', 'each', 'few', 'for', 'from', 'further', 'had', 'hadn', \"hadn't\", 'has', 'hasn', \"hasn't\", 'have', 'haven', \"haven't\", 'having', 'he', \"he'd\", \"he'll\", 'her', 'here', 'hers', 'herself', \"he's\", 'him', 'himself', 'his', 'how', 'i', \"i'd\", 'if', \"i'll\", \"i'm\", 'in', 'into', 'is', 'isn', \"isn't\", 'it', \"it'd\", \"it'll\", \"it's\", 'its', 'itself', \"i've\", 'just', 'll', 'm', 'ma', 'me', 'mightn', \"mightn't\", 'more', 'most', 'mustn', \"mustn't\", 'my', 'myself', 'needn', \"needn't\", 'no', 'nor', 'not', 'now', 'o', 'of', 'off', 'on', 'once', 'only', 'or', 'other', 'our', 'ours', 'ourselves', 'out', 'over', 'own', 're', 's', 'same', 'shan', \"shan't\", 'she', \"she'd\", \"she'll\", \"she's\", 'should', 'shouldn', \"shouldn't\", \"should've\", 'so', 'some', 'such', 't', 'than', 'that', \"that'll\", 'the', 'their', 'theirs', 'them', 'themselves', 'then', 'there', 'these', 'they', \"they'd\", \"they'll\", \"they're\", \"they've\", 'this', 'those', 'through', 'to', 'too', 'under', 'until', 'up', 've', 'very', 'was', 'wasn', \"wasn't\", 'we', \"we'd\", \"we'll\", \"we're\", 'were', 'weren', \"weren't\", \"we've\", 'what', 'when', 'where', 'which', 'while', 'who', 'whom', 'why', 'will', 'with', 'won', \"won't\", 'wouldn', \"wouldn't\", 'y', 'you', \"you'd\", \"you'll\", 'your', \"you're\", 'yours', 'yourself', 'yourselves', \"you've\"]\n"
     ]
    }
   ],
   "source": [
    "stopword_list = stopwords.words('english')\n",
    "print(stopword_list)"
   ]
  },
  {
   "cell_type": "code",
   "execution_count": 40,
   "id": "8573dd45",
   "metadata": {},
   "outputs": [],
   "source": [
    "X_train_cleaned = [[token for token in text if token not in stopword_list]for text in X_train_tokenized]\n",
    "X_val_cleaned = [[token for token in text if token not in stopword_list]for text in X_val_tokenized]\n",
    "X_test_cleaned = [[token for token in text if token not in stopword_list]for text in X_test_tokenized]"
   ]
  },
  {
   "cell_type": "code",
   "execution_count": 41,
   "id": "e96a8551",
   "metadata": {},
   "outputs": [
    {
     "name": "stdout",
     "output_type": "stream",
     "text": [
      "To be honest I watched this movie only because of my pubert needs I mean I could not get women at my age I was 9 or 10 so I thought watching Elviras cleavage was the closet thing to sexI ended up having a great time with this cult classic about horror comedy Halloween parties sassy humor and some sexy evil displayed by ElviraThey just do not make movies like this anymore It had the feeling of an amateur effort mixed with a late night cable talk show host style The truth is that it generated plenty of fans because of it is humor and the ability to perform by Cassandra This is classic that reminds me of the good days of USA Up All Night\n",
      "['honest', 'watched', 'movie', 'pubert', 'needs', 'mean', 'could', 'get', 'women', 'age', '9', '10', 'thought', 'watching', 'elviras', 'cleavage', 'closet', 'thing', 'sexi', 'ended', 'great', 'time', 'cult', 'classic', 'horror', 'comedy', 'halloween', 'parties', 'sassy', 'humor', 'sexy', 'evil', 'displayed', 'elvirathey', 'make', 'movies', 'like', 'anymore', 'feeling', 'amateur', 'effort', 'mixed', 'late', 'night', 'cable', 'talk', 'show', 'host', 'style', 'truth', 'generated', 'plenty', 'fans', 'humor', 'ability', 'perform', 'cassandra', 'classic', 'reminds', 'good', 'days', 'usa', 'night']\n"
     ]
    }
   ],
   "source": [
    "print(X_train[0])\n",
    "print(X_train_cleaned[0])"
   ]
  },
  {
   "cell_type": "markdown",
   "id": "cea2e6c2",
   "metadata": {},
   "source": [
    "### Lemmatize "
   ]
  },
  {
   "cell_type": "code",
   "execution_count": 42,
   "id": "41e06e45",
   "metadata": {},
   "outputs": [],
   "source": [
    "lemmatizer = WordNetLemmatizer()\n",
    "\n",
    "def get_wordnet_pos(tag) :\n",
    "    if tag.startswith('J'):\n",
    "        return wordnet.ADJ\n",
    "    elif tag.startswith('V'):\n",
    "        return wordnet.VERB\n",
    "    elif tag.startswith('N'):\n",
    "        return wordnet.NOUN\n",
    "    elif tag.startswith('R'):\n",
    "        return wordnet.ADV\n",
    "    else:\n",
    "        return wordnet.NOUN"
   ]
  },
  {
   "cell_type": "code",
   "execution_count": 43,
   "id": "7b058aaf",
   "metadata": {},
   "outputs": [],
   "source": [
    "X_train_lemmatized = [[lemmatizer.lemmatize(token, get_wordnet_pos(pos))for token, pos in pos_tag(text)]for text in X_train_cleaned]\n",
    "X_val_lemmatized = [[lemmatizer.lemmatize(token, get_wordnet_pos(pos))for token, pos in pos_tag(text)]for text in X_val_cleaned]\n",
    "X_test_lemmatized = [[lemmatizer.lemmatize(token, get_wordnet_pos(pos))for token, pos in pos_tag(text)]for text in X_test_cleaned]"
   ]
  },
  {
   "cell_type": "code",
   "execution_count": 44,
   "id": "765e51f6",
   "metadata": {},
   "outputs": [
    {
     "name": "stdout",
     "output_type": "stream",
     "text": [
      "To be honest I watched this movie only because of my pubert needs I mean I could not get women at my age I was 9 or 10 so I thought watching Elviras cleavage was the closet thing to sexI ended up having a great time with this cult classic about horror comedy Halloween parties sassy humor and some sexy evil displayed by ElviraThey just do not make movies like this anymore It had the feeling of an amateur effort mixed with a late night cable talk show host style The truth is that it generated plenty of fans because of it is humor and the ability to perform by Cassandra This is classic that reminds me of the good days of USA Up All Night\n",
      "['honest', 'watched', 'movie', 'pubert', 'need', 'mean', 'could', 'get', 'woman', 'age', '9', '10', 'thought', 'watch', 'elviras', 'cleavage', 'closet', 'thing', 'sexi', 'end', 'great', 'time', 'cult', 'classic', 'horror', 'comedy', 'halloween', 'party', 'sassy', 'humor', 'sexy', 'evil', 'display', 'elvirathey', 'make', 'movie', 'like', 'anymore', 'feel', 'amateur', 'effort', 'mixed', 'late', 'night', 'cable', 'talk', 'show', 'host', 'style', 'truth', 'generate', 'plenty', 'fan', 'humor', 'ability', 'perform', 'cassandra', 'classic', 'remind', 'good', 'day', 'usa', 'night']\n"
     ]
    }
   ],
   "source": [
    "print(X_train[0])\n",
    "print(X_train_lemmatized[0])"
   ]
  },
  {
   "cell_type": "code",
   "execution_count": 45,
   "id": "7316d09b",
   "metadata": {},
   "outputs": [],
   "source": [
    "X_train_str = [' '.join(tokens) for tokens in X_train_lemmatized]\n",
    "X_val_str = [' '.join(tokens) for tokens in X_val_lemmatized]\n",
    "X_test_str = [' '.join(tokens) for tokens in X_test_lemmatized]"
   ]
  },
  {
   "cell_type": "code",
   "execution_count": 46,
   "id": "cdd11ec2",
   "metadata": {},
   "outputs": [
    {
     "data": {
      "text/plain": [
       "'honest watched movie pubert need mean could get woman age 9 10 thought watch elviras cleavage closet thing sexi end great time cult classic horror comedy halloween party sassy humor sexy evil display elvirathey make movie like anymore feel amateur effort mixed late night cable talk show host style truth generate plenty fan humor ability perform cassandra classic remind good day usa night'"
      ]
     },
     "execution_count": 46,
     "metadata": {},
     "output_type": "execute_result"
    }
   ],
   "source": [
    "X_train_str[0]"
   ]
  },
  {
   "cell_type": "markdown",
   "id": "65a78abb",
   "metadata": {},
   "source": [
    "### TFidf"
   ]
  },
  {
   "cell_type": "code",
   "execution_count": 75,
   "id": "14047f69",
   "metadata": {},
   "outputs": [],
   "source": [
    "vectorizer = TfidfVectorizer(max_features=5000)\n",
    "\n",
    "X_train_tfidf = vectorizer.fit_transform(X_train_str)\n",
    "X_val_tfidf = vectorizer.transform(X_val_str)\n",
    "X_test_tfidf = vectorizer.transform(X_test_str)"
   ]
  },
  {
   "cell_type": "markdown",
   "id": "3fd70a6f",
   "metadata": {},
   "source": [
    "#### Convert to tensor"
   ]
  },
  {
   "cell_type": "code",
   "execution_count": 76,
   "id": "123842db",
   "metadata": {},
   "outputs": [],
   "source": [
    "X_train_tensor = torch.tensor(X_train_tfidf.toarray(), dtype=torch.float32)\n",
    "y_train_tensor = torch.tensor(y_train, dtype=torch.float32)\n",
    "\n",
    "X_val_tensor = torch.tensor(X_val_tfidf.toarray(), dtype=torch.float32)\n",
    "y_val_tensor = torch.tensor(y_val, dtype=torch.float32)\n",
    "\n",
    "X_test_tensor = torch.tensor(X_test_tfidf.toarray(), dtype=torch.float32)\n",
    "y_test_tensor = torch.tensor(y_test, dtype=torch.float32)"
   ]
  },
  {
   "cell_type": "markdown",
   "id": "18310e7e",
   "metadata": {},
   "source": [
    "#### Dataloader"
   ]
  },
  {
   "cell_type": "code",
   "execution_count": 77,
   "id": "e95b98c7",
   "metadata": {},
   "outputs": [],
   "source": [
    "train_dataset = TensorDataset(X_train_tensor, y_train_tensor)\n",
    "val_dataset = TensorDataset(X_val_tensor, y_val_tensor)\n",
    "test_dataset = TensorDataset(X_test_tensor, y_test_tensor)\n",
    "\n",
    "train_loader = DataLoader(train_dataset, batch_size=32, shuffle=True)\n",
    "val_loader = DataLoader(val_dataset, batch_size=32)\n",
    "test_loader = DataLoader(test_dataset, batch_size=32)"
   ]
  },
  {
   "cell_type": "markdown",
   "id": "f6aa61ac",
   "metadata": {},
   "source": [
    "#### MLP model"
   ]
  },
  {
   "cell_type": "code",
   "execution_count": 89,
   "id": "bbc4bb87",
   "metadata": {},
   "outputs": [],
   "source": [
    "class MLP(nn.Module):\n",
    "    def __init__(self, input_dim):\n",
    "        super(MLP, self).__init__()\n",
    "        self.model = nn.Sequential(\n",
    "            nn.Linear(input_dim, 64),\n",
    "            nn.BatchNorm1d(64),\n",
    "            nn.ReLU(),\n",
    "            nn.Dropout(0.6),\n",
    "            nn.Linear(64, 1)\n",
    "        )\n",
    "\n",
    "    def forward(self, x):\n",
    "        return self.model(x).squeeze()"
   ]
  },
  {
   "cell_type": "code",
   "execution_count": 165,
   "id": "d6c0a29b",
   "metadata": {},
   "outputs": [],
   "source": [
    "model_tfidf = MLP(input_dim=5000).to(device)\n",
    "\n",
    "criterion = nn.BCEWithLogitsLoss()\n",
    "optimizer = optim.AdamW(model_tfidf.parameters(), lr=0.00005, weight_decay=0.01)\n",
    "scheduler_tfidf = optim.lr_scheduler.StepLR(optimizer, step_size=2, gamma=0.5)"
   ]
  },
  {
   "cell_type": "markdown",
   "id": "c1fdeda8",
   "metadata": {},
   "source": [
    "### train model"
   ]
  },
  {
   "cell_type": "code",
   "execution_count": 166,
   "id": "f5372b17",
   "metadata": {},
   "outputs": [],
   "source": [
    "accuracy_metric = BinaryAccuracy().to(device)\n",
    "f1_metric = BinaryF1Score().to(device)"
   ]
  },
  {
   "cell_type": "code",
   "execution_count": 167,
   "id": "b1599f55",
   "metadata": {},
   "outputs": [
    {
     "name": "stderr",
     "output_type": "stream",
     "text": [
      "                                                                                       \r"
     ]
    },
    {
     "name": "stdout",
     "output_type": "stream",
     "text": [
      "[Epoch 1] Train Loss: 354.1142 || Val Loss: 69.3808 | Acc: 0.8440 | F1: 0.8475\n"
     ]
    },
    {
     "name": "stderr",
     "output_type": "stream",
     "text": [
      "                                                                                       \r"
     ]
    },
    {
     "name": "stdout",
     "output_type": "stream",
     "text": [
      "[Epoch 2] Train Loss: 250.8586 || Val Loss: 57.0997 | Acc: 0.8632 | F1: 0.8675\n"
     ]
    },
    {
     "name": "stderr",
     "output_type": "stream",
     "text": [
      "                                                                                       \r"
     ]
    },
    {
     "name": "stdout",
     "output_type": "stream",
     "text": [
      "[Epoch 3] Train Loss: 212.1585 || Val Loss: 54.0075 | Acc: 0.8700 | F1: 0.8706\n"
     ]
    },
    {
     "name": "stderr",
     "output_type": "stream",
     "text": [
      "                                                                                       \r"
     ]
    },
    {
     "name": "stdout",
     "output_type": "stream",
     "text": [
      "[Epoch 4] Train Loss: 193.6552 || Val Loss: 51.8676 | Acc: 0.8718 | F1: 0.8722\n"
     ]
    },
    {
     "name": "stderr",
     "output_type": "stream",
     "text": [
      "                                                                                       \r"
     ]
    },
    {
     "name": "stdout",
     "output_type": "stream",
     "text": [
      "[Epoch 5] Train Loss: 178.7542 || Val Loss: 50.2243 | Acc: 0.8724 | F1: 0.8730\n"
     ]
    },
    {
     "name": "stderr",
     "output_type": "stream",
     "text": [
      "                                                                                       \r"
     ]
    },
    {
     "name": "stdout",
     "output_type": "stream",
     "text": [
      "[Epoch 6] Train Loss: 170.2556 || Val Loss: 49.5147 | Acc: 0.8752 | F1: 0.8788\n"
     ]
    },
    {
     "name": "stderr",
     "output_type": "stream",
     "text": [
      "                                                                                       \r"
     ]
    },
    {
     "name": "stdout",
     "output_type": "stream",
     "text": [
      "[Epoch 7] Train Loss: 164.2856 || Val Loss: 49.0781 | Acc: 0.8750 | F1: 0.8773\n"
     ]
    },
    {
     "name": "stderr",
     "output_type": "stream",
     "text": [
      "                                                                                       \r"
     ]
    },
    {
     "name": "stdout",
     "output_type": "stream",
     "text": [
      "[Epoch 8] Train Loss: 161.9724 || Val Loss: 48.9501 | Acc: 0.8754 | F1: 0.8779\n"
     ]
    },
    {
     "name": "stderr",
     "output_type": "stream",
     "text": [
      "                                                                                       "
     ]
    },
    {
     "name": "stdout",
     "output_type": "stream",
     "text": [
      "[Epoch 9] Train Loss: 159.7796 || Val Loss: 48.2916 | Acc: 0.8756 | F1: 0.8784\n",
      "Early stopping triggered.\n"
     ]
    },
    {
     "name": "stderr",
     "output_type": "stream",
     "text": [
      "\r"
     ]
    }
   ],
   "source": [
    "best_f1 = 0\n",
    "patience = 3\n",
    "counter = 0\n",
    "\n",
    "epochs = 30\n",
    "\n",
    "for epoch in range(epochs):\n",
    "    model_tfidf.train()\n",
    "    total_loss = 0\n",
    "\n",
    "    train_loop = tqdm(train_loader, desc=f'Epoch {epoch+1}/{epochs} [Training]', leave=False)\n",
    "    for text, label in train_loop:\n",
    "        text, label = text.to(device), label.to(device)\n",
    "\n",
    "        optimizer.zero_grad()\n",
    "        outputs = model_tfidf(text)\n",
    "        loss = criterion(outputs, label)\n",
    "        loss.backward()\n",
    "        optimizer.step()\n",
    "        \n",
    "        total_loss += loss.item()\n",
    "        train_loop.set_postfix(loss=loss.item())\n",
    "    \n",
    "    model_tfidf.eval()\n",
    "    val_loss = 0\n",
    "    accuracy_metric.reset()\n",
    "    f1_metric.reset()\n",
    "\n",
    "    with torch.no_grad() :\n",
    "        val_loop = tqdm(val_loader, desc=f\"Epoch {epoch+1}/{epochs} [Validation]\", leave=False)\n",
    "        for text, label in val_loop:\n",
    "            text, label = text.to(device), label.to(device)\n",
    "\n",
    "            outputs = model_tfidf(text)\n",
    "            loss = criterion(outputs, label)\n",
    "            val_loss += loss.item()\n",
    "\n",
    "            probs = torch.sigmoid(outputs)\n",
    "            preds = (probs > 0.5).float()\n",
    "            accuracy_metric.update(preds, label)\n",
    "            f1_metric.update(preds, label)\n",
    "\n",
    "            val_loop.set_postfix(loss=loss.item())\n",
    "    val_acc = accuracy_metric.compute().item()\n",
    "    val_f1 = f1_metric.compute().item()\n",
    "\n",
    "    print(f\"[Epoch {epoch+1}] Train Loss: {total_loss:.4f} || \"\n",
    "          f\"Val Loss: {val_loss:.4f} | Acc: {val_acc:.4f} | F1: {val_f1:.4f}\")\n",
    "    \n",
    "    if val_f1 > best_f1:\n",
    "        best_f1 = val_f1\n",
    "        counter = 0\n",
    "        torch.save(model_tfidf.state_dict(), \"./models/tfidf.pth\")\n",
    "    else:\n",
    "        counter += 1\n",
    "        if counter >= patience:\n",
    "            print(\"Early stopping triggered.\")\n",
    "            break\n",
    "\n",
    "    scheduler_tfidf.step()"
   ]
  },
  {
   "cell_type": "code",
   "execution_count": 168,
   "id": "37acdeff",
   "metadata": {},
   "outputs": [
    {
     "data": {
      "text/plain": [
       "<All keys matched successfully>"
      ]
     },
     "execution_count": 168,
     "metadata": {},
     "output_type": "execute_result"
    }
   ],
   "source": [
    "model_tfidf.load_state_dict(torch.load('./models/tfidf.pth'))"
   ]
  },
  {
   "cell_type": "markdown",
   "id": "aa4c019a",
   "metadata": {},
   "source": [
    "### Test"
   ]
  },
  {
   "cell_type": "code",
   "execution_count": 169,
   "id": "c70542a1",
   "metadata": {},
   "outputs": [],
   "source": [
    "def create_heatmap(confusion_matrix) :\n",
    "    plt.figure(figsize=(12, 7))\n",
    "    sns.heatmap(confusion_matrix.compute().to('cpu'),\n",
    "                annot=True, \n",
    "                fmt='d', \n",
    "                cmap='Blues', \n",
    "                linewidths=0.5, \n",
    "                square=True, \n",
    "                cbar_kws={\"shrink\": 0.75},\n",
    "\n",
    "    )\n",
    "\n",
    "\n",
    "    plt.title(\"Confusion Matrix\", fontsize=16)\n",
    "    plt.xlabel(\"Predicted Labels\", fontsize=14)\n",
    "    plt.ylabel(\"True Labels\", fontsize=14)\n",
    "    plt.xticks(fontsize=12)\n",
    "    plt.yticks(fontsize=12)\n",
    "    plt.tight_layout()\n",
    "    plt.show()"
   ]
  },
  {
   "cell_type": "code",
   "execution_count": 170,
   "id": "59873bf4",
   "metadata": {},
   "outputs": [
    {
     "name": "stdout",
     "output_type": "stream",
     "text": [
      "test F1 : 0.8747352957725525\n",
      "test acc : 0.8722400069236755\n"
     ]
    },
    {
     "data": {
      "image/png": "[encoded data removed]",
      "text/plain": [
       "<Figure size 1200x700 with 2 Axes>"
      ]
     },
     "metadata": {},
     "output_type": "display_data"
    }
   ],
   "source": [
    "accuracy_metric_test = BinaryAccuracy().to(device)\n",
    "f1_metric_test = BinaryF1Score().to(device)\n",
    "CF = BinaryConfusionMatrix().to(device)\n",
    "\n",
    "model_tfidf.eval()\n",
    "with torch.no_grad() :\n",
    "    for text, label in test_loader:\n",
    "        text, label = text.to(device), label.to(device)\n",
    "        outputs = model_tfidf(text)\n",
    "        loss = criterion(outputs, label)\n",
    "\n",
    "        probs = torch.sigmoid(outputs)\n",
    "        preds = (probs > 0.5).float()\n",
    "        accuracy_metric_test.update(preds, label)\n",
    "        f1_metric_test.update(preds, label)\n",
    "        CF.update(preds, label)\n",
    "\n",
    "print(f\"test F1 : {f1_metric_test.compute().item()}\\ntest acc : {accuracy_metric_test.compute().item()}\" )\n",
    "create_heatmap(CF)"
   ]
  },
  {
   "cell_type": "markdown",
   "id": "b91b1df1",
   "metadata": {},
   "source": [
    "### BagofWords"
   ]
  },
  {
   "cell_type": "code",
   "execution_count": 171,
   "id": "a722b1fa",
   "metadata": {},
   "outputs": [],
   "source": [
    "vectorizer_BOW = CountVectorizer(max_features=5000)\n",
    "\n",
    "X_train_BOW = vectorizer_BOW.fit_transform(X_train_str)\n",
    "X_val_BOW = vectorizer_BOW.transform(X_val_str)\n",
    "X_test_BOW = vectorizer_BOW.transform(X_test_str)"
   ]
  },
  {
   "cell_type": "markdown",
   "id": "885e87c3",
   "metadata": {},
   "source": [
    "#### Convert to tensor"
   ]
  },
  {
   "cell_type": "code",
   "execution_count": 172,
   "id": "d8860d65",
   "metadata": {},
   "outputs": [],
   "source": [
    "X_train_tensor = torch.tensor(X_train_BOW.toarray(), dtype=torch.float32)\n",
    "y_train_tensor = torch.tensor(y_train, dtype=torch.float32)\n",
    "\n",
    "X_val_tensor = torch.tensor(X_val_BOW.toarray(), dtype=torch.float32)\n",
    "y_val_tensor = torch.tensor(y_val, dtype=torch.float32)\n",
    "\n",
    "X_test_tensor = torch.tensor(X_test_BOW.toarray(), dtype=torch.float32)\n",
    "y_test_tensor = torch.tensor(y_test, dtype=torch.float32)"
   ]
  },
  {
   "cell_type": "markdown",
   "id": "899f18cd",
   "metadata": {},
   "source": [
    "#### Dataloader"
   ]
  },
  {
   "cell_type": "code",
   "execution_count": 173,
   "id": "eef5ccdd",
   "metadata": {},
   "outputs": [],
   "source": [
    "train_dataset_BOW = TensorDataset(X_train_tensor, y_train_tensor)\n",
    "val_dataset_BOW = TensorDataset(X_val_tensor, y_val_tensor)\n",
    "test_dataset_BOW = TensorDataset(X_test_tensor, y_test_tensor)\n",
    "\n",
    "train_loader_BOW = DataLoader(train_dataset_BOW, batch_size=32, shuffle=True)\n",
    "val_loader_BOW = DataLoader(val_dataset_BOW, batch_size=32)\n",
    "test_loader_BOW = DataLoader(test_dataset_BOW, batch_size=32)"
   ]
  },
  {
   "cell_type": "markdown",
   "id": "b051b467",
   "metadata": {},
   "source": [
    "### Train"
   ]
  },
  {
   "cell_type": "code",
   "execution_count": 178,
   "id": "25c93944",
   "metadata": {},
   "outputs": [],
   "source": [
    "model_BOW = MLP(input_dim=5000).to(device)\n",
    "\n",
    "criterion_BOW = nn.BCEWithLogitsLoss()\n",
    "optimizer_BOW = optim.AdamW(model_BOW.parameters(), lr=0.00005, weight_decay=0.01)\n",
    "scheduler_BOW = optim.lr_scheduler.StepLR(optimizer_BOW, step_size=2, gamma=0.5)"
   ]
  },
  {
   "cell_type": "code",
   "execution_count": 179,
   "id": "73e738c7",
   "metadata": {},
   "outputs": [
    {
     "name": "stderr",
     "output_type": "stream",
     "text": [
      "                                                                                       \r"
     ]
    },
    {
     "name": "stdout",
     "output_type": "stream",
     "text": [
      "[Epoch 1] Train Loss: 363.4311 || Val Loss: 73.9861 | Acc: 0.8380 | F1: 0.8392\n"
     ]
    },
    {
     "name": "stderr",
     "output_type": "stream",
     "text": [
      "                                                                                       \r"
     ]
    },
    {
     "name": "stdout",
     "output_type": "stream",
     "text": [
      "[Epoch 2] Train Loss: 269.1328 || Val Loss: 61.9942 | Acc: 0.8598 | F1: 0.8642\n"
     ]
    },
    {
     "name": "stderr",
     "output_type": "stream",
     "text": [
      "                                                                                       \r"
     ]
    },
    {
     "name": "stdout",
     "output_type": "stream",
     "text": [
      "[Epoch 3] Train Loss: 231.3607 || Val Loss: 57.9123 | Acc: 0.8638 | F1: 0.8669\n"
     ]
    },
    {
     "name": "stderr",
     "output_type": "stream",
     "text": [
      "                                                                                       \r"
     ]
    },
    {
     "name": "stdout",
     "output_type": "stream",
     "text": [
      "[Epoch 4] Train Loss: 214.7285 || Val Loss: 54.9697 | Acc: 0.8684 | F1: 0.8689\n"
     ]
    },
    {
     "name": "stderr",
     "output_type": "stream",
     "text": [
      "                                                                                       \r"
     ]
    },
    {
     "name": "stdout",
     "output_type": "stream",
     "text": [
      "[Epoch 5] Train Loss: 200.6484 || Val Loss: 53.7478 | Acc: 0.8702 | F1: 0.8697\n"
     ]
    },
    {
     "name": "stderr",
     "output_type": "stream",
     "text": [
      "                                                                                       \r"
     ]
    },
    {
     "name": "stdout",
     "output_type": "stream",
     "text": [
      "[Epoch 6] Train Loss: 193.4575 || Val Loss: 52.1787 | Acc: 0.8706 | F1: 0.8702\n"
     ]
    },
    {
     "name": "stderr",
     "output_type": "stream",
     "text": [
      "                                                                                       \r"
     ]
    },
    {
     "name": "stdout",
     "output_type": "stream",
     "text": [
      "[Epoch 7] Train Loss: 186.7546 || Val Loss: 52.5179 | Acc: 0.8718 | F1: 0.8702\n"
     ]
    },
    {
     "name": "stderr",
     "output_type": "stream",
     "text": [
      "                                                                                       \r"
     ]
    },
    {
     "name": "stdout",
     "output_type": "stream",
     "text": [
      "[Epoch 8] Train Loss: 184.3595 || Val Loss: 51.7284 | Acc: 0.8720 | F1: 0.8734\n"
     ]
    },
    {
     "name": "stderr",
     "output_type": "stream",
     "text": [
      "                                                                                       \r"
     ]
    },
    {
     "name": "stdout",
     "output_type": "stream",
     "text": [
      "[Epoch 9] Train Loss: 181.8475 || Val Loss: 51.5329 | Acc: 0.8714 | F1: 0.8731\n"
     ]
    },
    {
     "name": "stderr",
     "output_type": "stream",
     "text": [
      "                                                                                        \r"
     ]
    },
    {
     "name": "stdout",
     "output_type": "stream",
     "text": [
      "[Epoch 10] Train Loss: 179.6248 || Val Loss: 51.5750 | Acc: 0.8726 | F1: 0.8735\n"
     ]
    },
    {
     "name": "stderr",
     "output_type": "stream",
     "text": [
      "                                                                                        \r"
     ]
    },
    {
     "name": "stdout",
     "output_type": "stream",
     "text": [
      "[Epoch 11] Train Loss: 177.8996 || Val Loss: 51.4271 | Acc: 0.8724 | F1: 0.8706\n"
     ]
    },
    {
     "name": "stderr",
     "output_type": "stream",
     "text": [
      "                                                                                        \r"
     ]
    },
    {
     "name": "stdout",
     "output_type": "stream",
     "text": [
      "[Epoch 12] Train Loss: 177.1381 || Val Loss: 51.3846 | Acc: 0.8708 | F1: 0.8695\n"
     ]
    },
    {
     "name": "stderr",
     "output_type": "stream",
     "text": [
      "                                                                                        "
     ]
    },
    {
     "name": "stdout",
     "output_type": "stream",
     "text": [
      "[Epoch 13] Train Loss: 178.2611 || Val Loss: 50.3345 | Acc: 0.8708 | F1: 0.8727\n",
      "Early stopping triggered.\n"
     ]
    },
    {
     "name": "stderr",
     "output_type": "stream",
     "text": [
      "\r"
     ]
    }
   ],
   "source": [
    "accuracy_metric = BinaryAccuracy().to(device)\n",
    "f1_metric = BinaryF1Score().to(device)\n",
    "\n",
    "best_f1 = 0\n",
    "patience = 3\n",
    "counter = 0\n",
    "\n",
    "epochs = 30\n",
    "\n",
    "for epoch in range(epochs):\n",
    "    model_BOW.train()\n",
    "    total_loss = 0\n",
    "\n",
    "    train_loop = tqdm(train_loader_BOW, desc=f'Epoch {epoch+1}/{epochs} [Training]', leave=False)\n",
    "    for text, label in train_loop:\n",
    "        text, label = text.to(device), label.to(device)\n",
    "\n",
    "        optimizer_BOW.zero_grad()\n",
    "        outputs = model_BOW(text)\n",
    "        loss = criterion_BOW(outputs, label)\n",
    "        loss.backward()\n",
    "        optimizer_BOW.step()\n",
    "        \n",
    "        total_loss += loss.item()\n",
    "        train_loop.set_postfix(loss=loss.item())\n",
    "    \n",
    "    model_BOW.eval()\n",
    "    val_loss = 0\n",
    "    accuracy_metric.reset()\n",
    "    f1_metric.reset()\n",
    "\n",
    "    with torch.no_grad() :\n",
    "        val_loop = tqdm(val_loader_BOW, desc=f\"Epoch {epoch+1}/{epochs} [Validation]\", leave=False)\n",
    "        for text, label in val_loop:\n",
    "            text, label = text.to(device), label.to(device)\n",
    "\n",
    "            outputs = model_BOW(text)\n",
    "            loss = criterion_BOW(outputs, label)\n",
    "            val_loss += loss.item()\n",
    "\n",
    "            probs = torch.sigmoid(outputs)\n",
    "            preds = (probs > 0.5).float()\n",
    "            accuracy_metric.update(preds, label)\n",
    "            f1_metric.update(preds, label)\n",
    "\n",
    "            val_loop.set_postfix(loss=loss.item())\n",
    "    val_acc = accuracy_metric.compute().item()\n",
    "    val_f1 = f1_metric.compute().item()\n",
    "\n",
    "    print(f\"[Epoch {epoch+1}] Train Loss: {total_loss:.4f} || \"\n",
    "          f\"Val Loss: {val_loss:.4f} | Acc: {val_acc:.4f} | F1: {val_f1:.4f}\")\n",
    "    \n",
    "    if val_f1 > best_f1:\n",
    "        best_f1 = val_f1\n",
    "        counter = 0\n",
    "        torch.save(model_tfidf.state_dict(), \"./models/BOW.pth\")\n",
    "    else:\n",
    "        counter += 1\n",
    "        if counter >= patience:\n",
    "            print(\"Early stopping triggered.\")\n",
    "            break\n",
    "\n",
    "    scheduler_BOW.step()"
   ]
  },
  {
   "cell_type": "code",
   "execution_count": 180,
   "id": "315575b3",
   "metadata": {},
   "outputs": [
    {
     "data": {
      "text/plain": [
       "<All keys matched successfully>"
      ]
     },
     "execution_count": 180,
     "metadata": {},
     "output_type": "execute_result"
    }
   ],
   "source": [
    "model_BOW.load_state_dict(torch.load(\"./models/BOW.pth\"))"
   ]
  },
  {
   "cell_type": "markdown",
   "id": "44b4870f",
   "metadata": {},
   "source": [
    "### Test"
   ]
  },
  {
   "cell_type": "code",
   "execution_count": 181,
   "id": "ee7658d2",
   "metadata": {},
   "outputs": [
    {
     "name": "stdout",
     "output_type": "stream",
     "text": [
      "test F1 : 0.8685831427574158\n",
      "test acc : 0.8668799996376038\n"
     ]
    },
    {
     "data": {
      "image/png": "[encoded data removed]",
      "text/plain": [
       "<Figure size 1200x700 with 2 Axes>"
      ]
     },
     "metadata": {},
     "output_type": "display_data"
    }
   ],
   "source": [
    "accuracy_metric_test = BinaryAccuracy().to(device)\n",
    "f1_metric_test = BinaryF1Score().to(device)\n",
    "CF = BinaryConfusionMatrix().to(device)\n",
    "\n",
    "with torch.no_grad() :\n",
    "    for text, label in test_loader_BOW:\n",
    "        text, label = text.to(device), label.to(device)\n",
    "\n",
    "        outputs = model_BOW(text)\n",
    "        loss = criterion_BOW(outputs, label)\n",
    "\n",
    "        probs = torch.sigmoid(outputs)\n",
    "        preds = (probs > 0.5).float()\n",
    "        accuracy_metric_test.update(preds, label)\n",
    "        f1_metric_test.update(preds, label)\n",
    "        CF.update(preds, label)\n",
    "\n",
    "print(f\"test F1 : {f1_metric_test.compute().item()}\\ntest acc : {accuracy_metric_test.compute().item()}\" )\n",
    "create_heatmap(CF)"
   ]
  },
  {
   "cell_type": "markdown",
   "id": "6b333d78",
   "metadata": {},
   "source": [
    "### GLoVe"
   ]
  },
  {
   "cell_type": "markdown",
   "id": "269b0221",
   "metadata": {},
   "source": [
    "#### Load"
   ]
  },
  {
   "cell_type": "code",
   "execution_count": 182,
   "id": "455eaca2",
   "metadata": {},
   "outputs": [],
   "source": [
    "glove_path = \"./data/GLoVe/glove.6B.100d.txt\"\n",
    "glove_cache = './glove/glove_cache.npy'\n",
    "embedding_dim = 100\n",
    "\n",
    "word2vec = {}\n",
    "with open(glove_path, \"r\", encoding=\"utf-8\") as f:\n",
    "    for line in f:\n",
    "        values = line.split()\n",
    "        word = values[0]\n",
    "        vec = np.asarray(values[1:], dtype='float32')\n",
    "        word2vec[word] = vec"
   ]
  },
  {
   "cell_type": "markdown",
   "id": "31935de2",
   "metadata": {},
   "source": [
    "#### Vocab and embedding"
   ]
  },
  {
   "cell_type": "code",
   "execution_count": 183,
   "id": "b2f8f29b",
   "metadata": {},
   "outputs": [],
   "source": [
    "word2idx = {\"<PAD>\": 0, \"<UNK>\": 1}\n",
    "idx = 2\n",
    "for tokens in X_train_lemmatized:\n",
    "    for token in tokens:\n",
    "        if token not in word2idx:\n",
    "            word2idx[token] = idx\n",
    "            idx += 1"
   ]
  },
  {
   "cell_type": "code",
   "execution_count": 184,
   "id": "49ce3535",
   "metadata": {},
   "outputs": [],
   "source": [
    "embedding_matrix = np.zeros((len(word2idx), embedding_dim))\n",
    "for word, i in word2idx.items():\n",
    "    vec = word2vec.get(word)\n",
    "    if vec is not None:\n",
    "        embedding_matrix[i] = vec\n",
    "    else:\n",
    "        embedding_matrix[i] = np.random.normal(scale=0.6, size=(embedding_dim,))"
   ]
  },
  {
   "cell_type": "code",
   "execution_count": 185,
   "id": "155f7bb1",
   "metadata": {},
   "outputs": [],
   "source": [
    "X_train_indices = [[word2idx.get(word, word2idx[\"<UNK>\"]) for word in review] for review in X_train_lemmatized ]\n",
    "X_val_indices = [[word2idx.get(word, word2idx[\"<UNK>\"]) for word in review] for review in X_val_lemmatized ]\n",
    "X_test_indices = [[word2idx.get(word, word2idx[\"<UNK>\"]) for word in review] for review in X_test_lemmatized ]"
   ]
  },
  {
   "cell_type": "markdown",
   "id": "7125af17",
   "metadata": {},
   "source": [
    "#### pad sequences"
   ]
  },
  {
   "cell_type": "code",
   "execution_count": 186,
   "id": "7d864141",
   "metadata": {},
   "outputs": [],
   "source": [
    "X_train_tensor = pad_sequence(\n",
    "    [torch.tensor(seq) for seq in X_train_indices],\n",
    "    batch_first=True,\n",
    "    padding_value=word2idx[\"<PAD>\"]\n",
    ")\n",
    "\n",
    "X_val_tensor = pad_sequence(\n",
    "    [torch.tensor(seq) for seq in X_val_indices],\n",
    "    batch_first=True,\n",
    "    padding_value=word2idx[\"<PAD>\"]\n",
    ")\n",
    "\n",
    "X_test_tensor = pad_sequence(\n",
    "    [torch.tensor(seq) for seq in X_test_indices],\n",
    "    batch_first=True,\n",
    "    padding_value=word2idx[\"<PAD>\"]\n",
    ")"
   ]
  },
  {
   "cell_type": "markdown",
   "id": "996445f9",
   "metadata": {},
   "source": [
    "### Dataloader"
   ]
  },
  {
   "cell_type": "code",
   "execution_count": 187,
   "id": "9559b4fc",
   "metadata": {},
   "outputs": [],
   "source": [
    "train_dataset_G = TensorDataset(X_train_tensor, y_train_tensor)\n",
    "val_dataset_G = TensorDataset(X_val_tensor, y_val_tensor)\n",
    "test_dataset_G = TensorDataset(X_test_tensor, y_test_tensor)\n",
    "\n",
    "train_loader_G = DataLoader(train_dataset_G, batch_size=32, shuffle=True)\n",
    "val_loader_G = DataLoader(val_dataset_G, batch_size=32)\n",
    "test_loader_G = DataLoader(test_dataset_G, batch_size=32)"
   ]
  },
  {
   "cell_type": "markdown",
   "id": "8ed7f54e",
   "metadata": {},
   "source": [
    "### Model"
   ]
  },
  {
   "cell_type": "code",
   "execution_count": 302,
   "id": "c0160b14",
   "metadata": {},
   "outputs": [],
   "source": [
    "class Text_classifier(nn.Module) :\n",
    "    def __init__(self, embedding_matrix):\n",
    "        super().__init__()\n",
    "        _ , embedding_dim = embedding_matrix.shape\n",
    "        self.embedding = nn.Embedding.from_pretrained(torch.tensor(embedding_matrix, dtype=torch.float32), freeze=False)\n",
    "        self.FC = nn.Sequential(\n",
    "            nn.Linear(embedding_dim, 64),\n",
    "            nn.ReLU(),\n",
    "            nn.Dropout(0.6),\n",
    "            nn.Linear(64, 1)\n",
    "        )\n",
    "\n",
    "    def forward(self, x):\n",
    "        embedded = self.embedding(x)\n",
    "        avg_emb = embedded.mean(dim=1)\n",
    "        return self.FC(avg_emb).squeeze()"
   ]
  },
  {
   "cell_type": "code",
   "execution_count": 303,
   "id": "96e487e8",
   "metadata": {},
   "outputs": [],
   "source": [
    "model_GLove = Text_classifier(embedding_matrix).to(device)\n",
    "\n",
    "criterion = nn.BCEWithLogitsLoss()\n",
    "optimizer_GLoVe = optim.AdamW(model_GLove.parameters(), lr=0.002)\n",
    "scheduler = optim.lr_scheduler.StepLR(optimizer_GLoVe, step_size=10, gamma=0.5)"
   ]
  },
  {
   "cell_type": "markdown",
   "id": "223fd536",
   "metadata": {},
   "source": [
    "### Training"
   ]
  },
  {
   "cell_type": "code",
   "execution_count": 304,
   "id": "0fd711b9",
   "metadata": {},
   "outputs": [
    {
     "name": "stderr",
     "output_type": "stream",
     "text": [
      "                                                                                       \r"
     ]
    },
    {
     "name": "stdout",
     "output_type": "stream",
     "text": [
      "[Epoch 1] Train Loss: 433.7786 || Val Loss: 108.8377 | Acc: 0.4998 | F1: 0.6665\n",
      "Best model saved at epoch 1 with F1: 0.6665\n"
     ]
    },
    {
     "name": "stderr",
     "output_type": "stream",
     "text": [
      "                                                                                       \r"
     ]
    },
    {
     "name": "stdout",
     "output_type": "stream",
     "text": [
      "[Epoch 2] Train Loss: 410.9266 || Val Loss: 87.1197 | Acc: 0.7882 | F1: 0.7517\n",
      "Best model saved at epoch 2 with F1: 0.7517\n"
     ]
    },
    {
     "name": "stderr",
     "output_type": "stream",
     "text": [
      "                                                                                       \r"
     ]
    },
    {
     "name": "stdout",
     "output_type": "stream",
     "text": [
      "[Epoch 3] Train Loss: 254.0092 || Val Loss: 61.1503 | Acc: 0.8288 | F1: 0.8060\n",
      "Best model saved at epoch 3 with F1: 0.8060\n"
     ]
    },
    {
     "name": "stderr",
     "output_type": "stream",
     "text": [
      "                                                                                       \r"
     ]
    },
    {
     "name": "stdout",
     "output_type": "stream",
     "text": [
      "[Epoch 4] Train Loss: 178.0206 || Val Loss: 48.5454 | Acc: 0.8778 | F1: 0.8743\n",
      "Best model saved at epoch 4 with F1: 0.8743\n"
     ]
    },
    {
     "name": "stderr",
     "output_type": "stream",
     "text": [
      "                                                                                       \r"
     ]
    },
    {
     "name": "stdout",
     "output_type": "stream",
     "text": [
      "[Epoch 5] Train Loss: 141.4392 || Val Loss: 45.5240 | Acc: 0.8804 | F1: 0.8784\n",
      "Best model saved at epoch 5 with F1: 0.8784\n"
     ]
    },
    {
     "name": "stderr",
     "output_type": "stream",
     "text": [
      "                                                                                        \r"
     ]
    },
    {
     "name": "stdout",
     "output_type": "stream",
     "text": [
      "[Epoch 6] Train Loss: 112.7597 || Val Loss: 44.0667 | Acc: 0.8848 | F1: 0.8840\n",
      "Best model saved at epoch 6 with F1: 0.8840\n"
     ]
    },
    {
     "name": "stderr",
     "output_type": "stream",
     "text": [
      "                                                                                        \r"
     ]
    },
    {
     "name": "stdout",
     "output_type": "stream",
     "text": [
      "[Epoch 7] Train Loss: 88.9803 || Val Loss: 44.9276 | Acc: 0.8864 | F1: 0.8883\n",
      "Best model saved at epoch 7 with F1: 0.8883\n"
     ]
    },
    {
     "name": "stderr",
     "output_type": "stream",
     "text": [
      "                                                                                        \r"
     ]
    },
    {
     "name": "stdout",
     "output_type": "stream",
     "text": [
      "[Epoch 8] Train Loss: 70.4663 || Val Loss: 49.6325 | Acc: 0.8778 | F1: 0.8709\n",
      "No improvement for 1 epochs (patience: 4)\n"
     ]
    },
    {
     "name": "stderr",
     "output_type": "stream",
     "text": [
      "                                                                                        \r"
     ]
    },
    {
     "name": "stdout",
     "output_type": "stream",
     "text": [
      "[Epoch 9] Train Loss: 54.9838 || Val Loss: 49.2734 | Acc: 0.8846 | F1: 0.8827\n",
      "No improvement for 2 epochs (patience: 4)\n"
     ]
    },
    {
     "name": "stderr",
     "output_type": "stream",
     "text": [
      "                                                                                        \r"
     ]
    },
    {
     "name": "stdout",
     "output_type": "stream",
     "text": [
      "[Epoch 10] Train Loss: 44.1510 || Val Loss: 54.9203 | Acc: 0.8756 | F1: 0.8701\n",
      "No improvement for 3 epochs (patience: 4)\n"
     ]
    },
    {
     "name": "stderr",
     "output_type": "stream",
     "text": [
      "                                                                                         "
     ]
    },
    {
     "name": "stdout",
     "output_type": "stream",
     "text": [
      "[Epoch 11] Train Loss: 29.9163 || Val Loss: 56.5339 | Acc: 0.8808 | F1: 0.8774\n",
      "No improvement for 4 epochs (patience: 4)\n",
      "Early stopping at epoch 11. Best F1: 0.8883\n"
     ]
    },
    {
     "name": "stderr",
     "output_type": "stream",
     "text": [
      "\r"
     ]
    }
   ],
   "source": [
    "accuracy_metric = BinaryAccuracy().to(device)\n",
    "f1_metric = BinaryF1Score().to(device)\n",
    "\n",
    "best_f1 = 0\n",
    "patience = 4\n",
    "counter = 0\n",
    "\n",
    "for epoch in range(30):\n",
    "    model_GLove.train()\n",
    "    total_loss = 0\n",
    "\n",
    "    train_loop = tqdm(train_loader_G, desc=f'Epoch {epoch+1}/{30} [Training]', leave=False)\n",
    "    for text, label in train_loop:\n",
    "        text, label = text.to(device), label.to(device)\n",
    "\n",
    "        optimizer_GLoVe.zero_grad()\n",
    "        outputs = model_GLove(text)\n",
    "        loss = criterion(outputs, label)\n",
    "        loss.backward()\n",
    "        optimizer_GLoVe.step()\n",
    "        \n",
    "        total_loss += loss.item()\n",
    "        train_loop.set_postfix(loss=loss.item())\n",
    "    \n",
    "    model_GLove.eval()\n",
    "    val_loss = 0\n",
    "    accuracy_metric.reset()\n",
    "    f1_metric.reset()\n",
    "\n",
    "    with torch.no_grad() :\n",
    "        val_loop = tqdm(val_loader_G, desc=f\"Epoch {epoch+1}/{30} [Validation]\", leave=False)\n",
    "        for text, label in val_loop:\n",
    "            text, label = text.to(device), label.to(device)\n",
    "\n",
    "            outputs = model_GLove(text)\n",
    "            loss = criterion(outputs, label)\n",
    "            val_loss += loss.item()\n",
    "\n",
    "            probs = torch.sigmoid(outputs)\n",
    "            preds = (probs > 0.5).float()\n",
    "            accuracy_metric.update(preds, label)\n",
    "            f1_metric.update(preds, label)\n",
    "\n",
    "            val_loop.set_postfix(loss=loss.item())\n",
    "\n",
    "    \n",
    "    current_acc = accuracy_metric.compute().item()\n",
    "    current_f1 = f1_metric.compute().item()\n",
    "\n",
    "\n",
    "    print(f\"[Epoch {epoch+1}] Train Loss: {total_loss:.4f} || \"\n",
    "          f\"Val Loss: {val_loss:.4f} | Acc: {current_acc:.4f} | F1: {current_f1:.4f}\")\n",
    "    \n",
    "    \n",
    "    if current_f1 > best_f1:\n",
    "        best_f1 = current_f1\n",
    "        counter = 0\n",
    "        torch.save(model_GLove.state_dict(), \"./models/GLoVe.pth\")\n",
    "        print(f\"Best model saved at epoch {epoch+1} with F1: {best_f1:.4f}\")\n",
    "    else:\n",
    "        counter += 1\n",
    "        print(f\"No improvement for {counter} epochs (patience: {patience})\")\n",
    "\n",
    "    if counter >= patience:\n",
    "        print(f\"Early stopping at epoch {epoch+1}. Best F1: {best_f1:.4f}\")\n",
    "        break\n",
    "\n",
    "    scheduler.step()\n"
   ]
  },
  {
   "cell_type": "code",
   "execution_count": 306,
   "id": "51da25a2",
   "metadata": {},
   "outputs": [
    {
     "data": {
      "text/plain": [
       "<All keys matched successfully>"
      ]
     },
     "execution_count": 306,
     "metadata": {},
     "output_type": "execute_result"
    }
   ],
   "source": [
    "model_GLove.load_state_dict(torch.load(\"./models/GLoVe.pth\"))"
   ]
  },
  {
   "cell_type": "markdown",
   "id": "c3f1efc0",
   "metadata": {},
   "source": [
    "### Test"
   ]
  },
  {
   "cell_type": "code",
   "execution_count": 307,
   "id": "f632c53e",
   "metadata": {},
   "outputs": [
    {
     "name": "stdout",
     "output_type": "stream",
     "text": [
      "test F1 : 0.8736972212791443\n",
      "test acc : 0.8734800219535828\n"
     ]
    },
    {
     "data": {
      "image/png": "[encoded data removed]",
      "text/plain": [
       "<Figure size 1200x700 with 2 Axes>"
      ]
     },
     "metadata": {},
     "output_type": "display_data"
    }
   ],
   "source": [
    "accuracy_metric_test = BinaryAccuracy().to(device)\n",
    "f1_metric_test = BinaryF1Score().to(device)\n",
    "CF = BinaryConfusionMatrix().to(device)\n",
    "\n",
    "model_GLove.eval()\n",
    "with torch.no_grad() :\n",
    "    for text, label in test_loader_G:\n",
    "        text, label = text.to(device), label.to(device)\n",
    "\n",
    "        outputs = model_GLove(text)\n",
    "        loss = criterion(outputs, label)\n",
    "\n",
    "        probs = torch.sigmoid(outputs)\n",
    "        preds = (probs > 0.5).float()\n",
    "        accuracy_metric_test.update(preds, label)\n",
    "        f1_metric_test.update(preds, label)\n",
    "        CF.update(preds, label)\n",
    "\n",
    "print(f\"test F1 : {f1_metric_test.compute().item()}\\ntest acc : {accuracy_metric_test.compute().item()}\" )\n",
    "create_heatmap(CF)"
   ]
  },
  {
   "cell_type": "markdown",
   "id": "2fe6d444",
   "metadata": {},
   "source": [
    "# 📊 Model Training Results\n",
    "\n",
    "## **Model 1: TF-IDF**\n",
    "\n",
    "| Epoch | Train Loss | Val Loss | Accuracy | F1 Score |\n",
    "| ----- | ---------: | -------: | -------: | -------: |\n",
    "| 1     |   354.1142 |  69.3808 |   0.8440 |   0.8475 |\n",
    "| 2     |   250.8586 |  57.0997 |   0.8632 |   0.8675 |\n",
    "| 3     |   212.1585 |  54.0075 |   0.8700 |   0.8706 |\n",
    "| 4     |   193.6552 |  51.8676 |   0.8718 |   0.8722 |\n",
    "| 5     |   178.7542 |  50.2243 |   0.8724 |   0.8730 |\n",
    "| 6     |   170.2556 |  49.5147 |   0.8752 |   0.8788 |\n",
    "| 7     |   164.2856 |  49.0781 |   0.8750 |   0.8773 |\n",
    "| 8     |   161.9724 |  48.9501 |   0.8754 |   0.8779 |\n",
    "| 9     |   159.7796 |  48.2916 |   0.8756 |   0.8784 |\n",
    "\n",
    "✅ **Early stopping triggered**\n",
    "**Test F1:** `0.8747`\n",
    "**Test Accuracy:** `0.8722`\n",
    "\n",
    "---\n",
    "\n",
    "## **Model 2: Bag of Words**\n",
    "\n",
    "| Epoch | Train Loss | Val Loss | Accuracy | F1 Score |\n",
    "| ----- | ---------: | -------: | -------: | -------: |\n",
    "| 1     |   363.4311 |  73.9861 |   0.8380 |   0.8392 |\n",
    "| 2     |   269.1328 |  61.9942 |   0.8598 |   0.8642 |\n",
    "| 3     |   231.3607 |  57.9123 |   0.8638 |   0.8669 |\n",
    "| 4     |   214.7285 |  54.9697 |   0.8684 |   0.8689 |\n",
    "| 5     |   200.6484 |  53.7478 |   0.8702 |   0.8697 |\n",
    "| 6     |   193.4575 |  52.1787 |   0.8706 |   0.8702 |\n",
    "| 7     |   186.7546 |  52.5179 |   0.8718 |   0.8702 |\n",
    "| 8     |   184.3595 |  51.7284 |   0.8720 |   0.8734 |\n",
    "| 9     |   181.8475 |  51.5329 |   0.8714 |   0.8731 |\n",
    "| 10    |   179.6248 |  51.5750 |   0.8726 |   0.8735 |\n",
    "| 11    |   177.8996 |  51.4271 |   0.8724 |   0.8706 |\n",
    "| 12    |   177.1381 |  51.3846 |   0.8708 |   0.8695 |\n",
    "| 13    |   178.2611 |  50.3345 |   0.8708 |   0.8727 |\n",
    "\n",
    "✅ **Early stopping triggered**\n",
    "**Test F1:** `0.8686`\n",
    "**Test Accuracy:** `0.8669`\n",
    "\n",
    "---\n",
    "\n",
    "## **Model 3: GloVe**\n",
    "\n",
    "| Epoch | Train Loss | Val Loss | Accuracy | F1 Score | Note   |\n",
    "| ----- | ---------: | -------: | -------: | -------: | ------ |\n",
    "| 1     |   433.7786 | 108.8377 |   0.4998 |   0.6665 | ✅ Best |\n",
    "| 2     |   410.9266 |  87.1197 |   0.7882 |   0.7517 | ✅ Best |\n",
    "| 3     |   254.0092 |  61.1503 |   0.8288 |   0.8060 | ✅ Best |\n",
    "| 4     |   178.0206 |  48.5454 |   0.8778 |   0.8743 | ✅ Best |\n",
    "| 5     |   141.4392 |  45.5240 |   0.8804 |   0.8784 | ✅ Best |\n",
    "| 6     |   112.7597 |  44.0667 |   0.8848 |   0.8840 | ✅ Best |\n",
    "| 7     |    88.9803 |  44.9276 |   0.8864 |   0.8883 | ✅ Best |\n",
    "| 8     |    70.4663 |  49.6325 |   0.8778 |   0.8709 | –      |\n",
    "| 9     |    54.9838 |  49.2734 |   0.8846 |   0.8827 | –      |\n",
    "| 10    |    44.1510 |  54.9203 |   0.8756 |   0.8701 | –      |\n",
    "| 11    |    29.9163 |  56.5339 |   0.8808 |   0.8774 | –      |\n",
    "\n",
    "✅ **Early stopping at epoch 11**\n",
    "**Best F1:** `0.8883`\n",
    "**Test F1:** `0.8737`\n",
    "**Test Accuracy:** `0.8735`\n",
    "\n",
    "---\n",
    "\n",
    "# 🔍 **Comparison of Final Results**\n",
    "\n",
    "| Model            | Best Epoch | Best Val F1 | Test F1 | Test Accuracy |\n",
    "| ---------------- | ---------: | ----------: | ------: | ------------: |\n",
    "| **TF-IDF**       |          9 |      0.8784 |  0.8747 |        0.8722 |\n",
    "| **Bag of Words** |         13 |      0.8735 |  0.8686 |        0.8669 |\n",
    "| **GloVe**        |          7 |      0.8883 |  0.8737 |        0.8735 |\n",
    "\n",
    "- **Highest Validation F1:** GloVe (0.8883).\n",
    "- **Highest Test Accuracy:** GloVe (0.8735)\n",
    "- **Most Stable Performance:** TF-IDF (slightly better generalization than GloVe)\n",
    "\n",
    "### 🏆 **Conclusion**\n",
    "\n",
    "* **Best Performing Model:** **GloVe**\n",
    "\n",
    "  * Achieved the **highest validation F1 (0.8883)** and **highest test accuracy (0.8735)**.\n",
    "  * Shows strong representation learning due to pre-trained word embeddings.\n",
    "\n",
    "* **TF-IDF**\n",
    "\n",
    "  * Slightly **better generalization than GloVe** (test F1 close to validation F1).\n",
    "  * Simpler but effective for text classification.\n",
    "\n",
    "* **Bag of Words**\n",
    "\n",
    "  * Performed the worst among the three (**lowest F1 and accuracy**).\n",
    "  * Indicates that simple word counts are less effective compared to TF-IDF or GloVe embeddings.\n"
   ]
  }
 ],
 "metadata": {
  "kernelspec": {
   "display_name": "torch",
   "language": "python",
   "name": "python3"
  },
  "language_info": {
   "codemirror_mode": {
    "name": "ipython",
    "version": 3
   },
   "file_extension": ".py",
   "mimetype": "text/x-python",
   "name": "python",
   "nbconvert_exporter": "python",
   "pygments_lexer": "ipython3",
   "version": "3.10.18"
  }
 },
 "nbformat": 4,
 "nbformat_minor": 5
}
