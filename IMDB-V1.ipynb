{
 "cells": [
  {
   "cell_type": "code",
   "execution_count": 2,
   "id": "e773a70b",
   "metadata": {},
   "outputs": [],
   "source": [
    "import re\n",
    "\n",
    "import torch\n",
    "import torch.nn as nn\n",
    "import torch.optim as optim\n",
    "from torch.utils.data import TensorDataset, DataLoader\n",
    "import matplotlib.pyplot as plt\n",
    "import seaborn as sns\n",
    "from tqdm import tqdm\n",
    "\n",
    "from nltk import word_tokenize, pos_tag\n",
    "from nltk.stem import WordNetLemmatizer\n",
    "from nltk.corpus import stopwords, wordnet\n",
    "from bs4 import BeautifulSoup\n",
    "\n",
    "from datasets import load_dataset\n",
    "from sklearn.model_selection import train_test_split\n",
    "from sklearn.feature_extraction.text import TfidfVectorizer, CountVectorizer\n",
    "from torchmetrics.classification import BinaryAccuracy, BinaryF1Score, BinaryConfusionMatrix\n",
    "\n",
    "import numpy as np\n",
    "from collections import defaultdict\n",
    "from torch.nn.utils.rnn import pad_sequence"
   ]
  },
  {
   "cell_type": "code",
   "execution_count": 3,
   "id": "bcfee395",
   "metadata": {},
   "outputs": [
    {
     "data": {
      "text/plain": [
       "device(type='cuda')"
      ]
     },
     "execution_count": 3,
     "metadata": {},
     "output_type": "execute_result"
    }
   ],
   "source": [
    "device = torch.device(\"cuda\" if torch.cuda.is_available() else \"cpu\")\n",
    "device"
   ]
  },
  {
   "cell_type": "markdown",
   "id": "2062d8f4",
   "metadata": {},
   "source": [
    "### Load dataset"
   ]
  },
  {
   "cell_type": "code",
   "execution_count": 4,
   "id": "4ee0d27c",
   "metadata": {},
   "outputs": [
    {
     "data": {
      "text/plain": [
       "DatasetDict({\n",
       "    train: Dataset({\n",
       "        features: ['text', 'label'],\n",
       "        num_rows: 25000\n",
       "    })\n",
       "    test: Dataset({\n",
       "        features: ['text', 'label'],\n",
       "        num_rows: 25000\n",
       "    })\n",
       "    unsupervised: Dataset({\n",
       "        features: ['text', 'label'],\n",
       "        num_rows: 50000\n",
       "    })\n",
       "})"
      ]
     },
     "execution_count": 4,
     "metadata": {},
     "output_type": "execute_result"
    }
   ],
   "source": [
    "dataset = load_dataset(\"imdb\", cache_dir='./data')\n",
    "dataset"
   ]
  },
  {
   "cell_type": "markdown",
   "id": "4a5a0a7c",
   "metadata": {},
   "source": [
    "### Preprocessing"
   ]
  },
  {
   "cell_type": "code",
   "execution_count": 5,
   "id": "afced86f",
   "metadata": {},
   "outputs": [],
   "source": [
    "split_Dataset = dataset['train'].train_test_split(test_size=0.2)\n",
    "\n",
    "train = split_Dataset['train']\n",
    "val = split_Dataset['test']\n",
    "test = dataset['test']"
   ]
  },
  {
   "cell_type": "code",
   "execution_count": 6,
   "id": "45c78443",
   "metadata": {},
   "outputs": [],
   "source": [
    "X_train, y_train = train['text'], train['label']\n",
    "X_val, y_val = val['text'], val['label']\n",
    "X_test, y_test = test['text'], test['label']"
   ]
  },
  {
   "cell_type": "markdown",
   "id": "6217b026",
   "metadata": {},
   "source": [
    "#### Remove html scripts, square brackets & special character"
   ]
  },
  {
   "cell_type": "code",
   "execution_count": 7,
   "id": "323fbd54",
   "metadata": {},
   "outputs": [],
   "source": [
    "def strip_html(text):\n",
    "    soup = BeautifulSoup(text, \"html.parser\")\n",
    "    return soup.get_text()\n",
    "\n",
    "def remove_between_square_brackets(text):\n",
    "    return re.sub('\\[[^]]*\\]', '', text)\n",
    "\n",
    "def remove_special_characters(text):\n",
    "    pattern=r'[^a-zA-z0-9\\s]'\n",
    "    text=re.sub(pattern,'',text)\n",
    "    return text\n",
    "\n",
    "def clean_text(text):\n",
    "    text = strip_html(text)\n",
    "    text = remove_between_square_brackets(text)\n",
    "    text = remove_special_characters(text)\n",
    "    return text"
   ]
  },
  {
   "cell_type": "code",
   "execution_count": 8,
   "id": "d55068f5",
   "metadata": {},
   "outputs": [],
   "source": [
    "X_train = [clean_text(text) for text in X_train]\n",
    "X_val   = [clean_text(text) for text in X_val]\n",
    "X_test  = [clean_text(text) for text in X_test]"
   ]
  },
  {
   "cell_type": "markdown",
   "id": "992b3718",
   "metadata": {},
   "source": [
    "### Tokenize"
   ]
  },
  {
   "cell_type": "code",
   "execution_count": 9,
   "id": "e645ebcb",
   "metadata": {},
   "outputs": [],
   "source": [
    "X_train_tokenized = [[token for token in word_tokenize(text.lower())] for text in X_train]\n",
    "X_val_tokenized = [[token for token in word_tokenize(text.lower())] for text in X_val]\n",
    "X_test_tokenized = [[token for token in word_tokenize(text.lower())] for text in X_test]"
   ]
  },
  {
   "cell_type": "code",
   "execution_count": 10,
   "id": "785c9286",
   "metadata": {},
   "outputs": [
    {
     "name": "stdout",
     "output_type": "stream",
     "text": [
      "The world is a terrible place But this movie is farce and its fun And if you dont like it you dont get it and if you dont get it doesnt matter Its up to you if you want to play along Every actor in this one had fun Its only a joke And thats good enough for me Gabriel Byrne is priceless Byrne and Paul Anka doing MY WAY is as Vic puts it the best version ever Okay its no masterpiece but its not bad I was warned against seeing it but Im sure glad I did\n",
      "['the', 'world', 'is', 'a', 'terrible', 'place', 'but', 'this', 'movie', 'is', 'farce', 'and', 'its', 'fun', 'and', 'if', 'you', 'dont', 'like', 'it', 'you', 'dont', 'get', 'it', 'and', 'if', 'you', 'dont', 'get', 'it', 'doesnt', 'matter', 'its', 'up', 'to', 'you', 'if', 'you', 'want', 'to', 'play', 'along', 'every', 'actor', 'in', 'this', 'one', 'had', 'fun', 'its', 'only', 'a', 'joke', 'and', 'thats', 'good', 'enough', 'for', 'me', 'gabriel', 'byrne', 'is', 'priceless', 'byrne', 'and', 'paul', 'anka', 'doing', 'my', 'way', 'is', 'as', 'vic', 'puts', 'it', 'the', 'best', 'version', 'ever', 'okay', 'its', 'no', 'masterpiece', 'but', 'its', 'not', 'bad', 'i', 'was', 'warned', 'against', 'seeing', 'it', 'but', 'im', 'sure', 'glad', 'i', 'did']\n"
     ]
    }
   ],
   "source": [
    "print(X_train[0])\n",
    "print(X_train_tokenized[0])"
   ]
  },
  {
   "cell_type": "markdown",
   "id": "9a619316",
   "metadata": {},
   "source": [
    "### Delete stopwords"
   ]
  },
  {
   "cell_type": "code",
   "execution_count": 11,
   "id": "df993773",
   "metadata": {},
   "outputs": [
    {
     "name": "stdout",
     "output_type": "stream",
     "text": [
      "['a', 'about', 'above', 'after', 'again', 'against', 'ain', 'all', 'am', 'an', 'and', 'any', 'are', 'aren', \"aren't\", 'as', 'at', 'be', 'because', 'been', 'before', 'being', 'below', 'between', 'both', 'but', 'by', 'can', 'couldn', \"couldn't\", 'd', 'did', 'didn', \"didn't\", 'do', 'does', 'doesn', \"doesn't\", 'doing', 'don', \"don't\", 'down', 'during', 'each', 'few', 'for', 'from', 'further', 'had', 'hadn', \"hadn't\", 'has', 'hasn', \"hasn't\", 'have', 'haven', \"haven't\", 'having', 'he', \"he'd\", \"he'll\", 'her', 'here', 'hers', 'herself', \"he's\", 'him', 'himself', 'his', 'how', 'i', \"i'd\", 'if', \"i'll\", \"i'm\", 'in', 'into', 'is', 'isn', \"isn't\", 'it', \"it'd\", \"it'll\", \"it's\", 'its', 'itself', \"i've\", 'just', 'll', 'm', 'ma', 'me', 'mightn', \"mightn't\", 'more', 'most', 'mustn', \"mustn't\", 'my', 'myself', 'needn', \"needn't\", 'no', 'nor', 'not', 'now', 'o', 'of', 'off', 'on', 'once', 'only', 'or', 'other', 'our', 'ours', 'ourselves', 'out', 'over', 'own', 're', 's', 'same', 'shan', \"shan't\", 'she', \"she'd\", \"she'll\", \"she's\", 'should', 'shouldn', \"shouldn't\", \"should've\", 'so', 'some', 'such', 't', 'than', 'that', \"that'll\", 'the', 'their', 'theirs', 'them', 'themselves', 'then', 'there', 'these', 'they', \"they'd\", \"they'll\", \"they're\", \"they've\", 'this', 'those', 'through', 'to', 'too', 'under', 'until', 'up', 've', 'very', 'was', 'wasn', \"wasn't\", 'we', \"we'd\", \"we'll\", \"we're\", 'were', 'weren', \"weren't\", \"we've\", 'what', 'when', 'where', 'which', 'while', 'who', 'whom', 'why', 'will', 'with', 'won', \"won't\", 'wouldn', \"wouldn't\", 'y', 'you', \"you'd\", \"you'll\", 'your', \"you're\", 'yours', 'yourself', 'yourselves', \"you've\"]\n"
     ]
    }
   ],
   "source": [
    "stopword_list = stopwords.words('english')\n",
    "print(stopword_list)"
   ]
  },
  {
   "cell_type": "code",
   "execution_count": 12,
   "id": "8573dd45",
   "metadata": {},
   "outputs": [],
   "source": [
    "X_train_cleaned = [[token for token in text if token not in stopword_list]for text in X_train_tokenized]\n",
    "X_val_cleaned = [[token for token in text if token not in stopword_list]for text in X_val_tokenized]\n",
    "X_test_cleaned = [[token for token in text if token not in stopword_list]for text in X_test_tokenized]"
   ]
  },
  {
   "cell_type": "code",
   "execution_count": 13,
   "id": "e96a8551",
   "metadata": {},
   "outputs": [
    {
     "name": "stdout",
     "output_type": "stream",
     "text": [
      "The world is a terrible place But this movie is farce and its fun And if you dont like it you dont get it and if you dont get it doesnt matter Its up to you if you want to play along Every actor in this one had fun Its only a joke And thats good enough for me Gabriel Byrne is priceless Byrne and Paul Anka doing MY WAY is as Vic puts it the best version ever Okay its no masterpiece but its not bad I was warned against seeing it but Im sure glad I did\n",
      "['world', 'terrible', 'place', 'movie', 'farce', 'fun', 'dont', 'like', 'dont', 'get', 'dont', 'get', 'doesnt', 'matter', 'want', 'play', 'along', 'every', 'actor', 'one', 'fun', 'joke', 'thats', 'good', 'enough', 'gabriel', 'byrne', 'priceless', 'byrne', 'paul', 'anka', 'way', 'vic', 'puts', 'best', 'version', 'ever', 'okay', 'masterpiece', 'bad', 'warned', 'seeing', 'im', 'sure', 'glad']\n"
     ]
    }
   ],
   "source": [
    "print(X_train[0])\n",
    "print(X_train_cleaned[0])"
   ]
  },
  {
   "cell_type": "markdown",
   "id": "cea2e6c2",
   "metadata": {},
   "source": [
    "### Lemmatize "
   ]
  },
  {
   "cell_type": "code",
   "execution_count": 14,
   "id": "41e06e45",
   "metadata": {},
   "outputs": [],
   "source": [
    "lemmatizer = WordNetLemmatizer()\n",
    "\n",
    "def get_wordnet_pos(tag) :\n",
    "    if tag.startswith('J'):\n",
    "        return wordnet.ADJ\n",
    "    elif tag.startswith('V'):\n",
    "        return wordnet.VERB\n",
    "    elif tag.startswith('N'):\n",
    "        return wordnet.NOUN\n",
    "    elif tag.startswith('R'):\n",
    "        return wordnet.ADV\n",
    "    else:\n",
    "        return wordnet.NOUN"
   ]
  },
  {
   "cell_type": "code",
   "execution_count": 15,
   "id": "7b058aaf",
   "metadata": {},
   "outputs": [],
   "source": [
    "X_train_lemmatized = [[lemmatizer.lemmatize(token, get_wordnet_pos(pos))for token, pos in pos_tag(text)]for text in X_train_cleaned]\n",
    "X_val_lemmatized = [[lemmatizer.lemmatize(token, get_wordnet_pos(pos))for token, pos in pos_tag(text)]for text in X_val_cleaned]\n",
    "X_test_lemmatized = [[lemmatizer.lemmatize(token, get_wordnet_pos(pos))for token, pos in pos_tag(text)]for text in X_test_cleaned]"
   ]
  },
  {
   "cell_type": "code",
   "execution_count": 16,
   "id": "765e51f6",
   "metadata": {},
   "outputs": [
    {
     "name": "stdout",
     "output_type": "stream",
     "text": [
      "The world is a terrible place But this movie is farce and its fun And if you dont like it you dont get it and if you dont get it doesnt matter Its up to you if you want to play along Every actor in this one had fun Its only a joke And thats good enough for me Gabriel Byrne is priceless Byrne and Paul Anka doing MY WAY is as Vic puts it the best version ever Okay its no masterpiece but its not bad I was warned against seeing it but Im sure glad I did\n",
      "['world', 'terrible', 'place', 'movie', 'farce', 'fun', 'dont', 'like', 'dont', 'get', 'dont', 'get', 'doesnt', 'matter', 'want', 'play', 'along', 'every', 'actor', 'one', 'fun', 'joke', 'thats', 'good', 'enough', 'gabriel', 'byrne', 'priceless', 'byrne', 'paul', 'anka', 'way', 'vic', 'put', 'best', 'version', 'ever', 'okay', 'masterpiece', 'bad', 'warn', 'see', 'im', 'sure', 'glad']\n"
     ]
    }
   ],
   "source": [
    "print(X_train[0])\n",
    "print(X_train_lemmatized[0])"
   ]
  },
  {
   "cell_type": "code",
   "execution_count": 17,
   "id": "7316d09b",
   "metadata": {},
   "outputs": [],
   "source": [
    "X_train_str = [' '.join(tokens) for tokens in X_train_lemmatized]\n",
    "X_val_str = [' '.join(tokens) for tokens in X_val_lemmatized]\n",
    "X_test_str = [' '.join(tokens) for tokens in X_test_lemmatized]"
   ]
  },
  {
   "cell_type": "code",
   "execution_count": 18,
   "id": "cdd11ec2",
   "metadata": {},
   "outputs": [
    {
     "data": {
      "text/plain": [
       "'world terrible place movie farce fun dont like dont get dont get doesnt matter want play along every actor one fun joke thats good enough gabriel byrne priceless byrne paul anka way vic put best version ever okay masterpiece bad warn see im sure glad'"
      ]
     },
     "execution_count": 18,
     "metadata": {},
     "output_type": "execute_result"
    }
   ],
   "source": [
    "X_train_str[0]"
   ]
  },
  {
   "cell_type": "markdown",
   "id": "65a78abb",
   "metadata": {},
   "source": [
    "### TFidf"
   ]
  },
  {
   "cell_type": "code",
   "execution_count": 19,
   "id": "14047f69",
   "metadata": {},
   "outputs": [],
   "source": [
    "vectorizer = TfidfVectorizer(max_features=5000)\n",
    "\n",
    "X_train_tfidf = vectorizer.fit_transform(X_train_str)\n",
    "X_val_tfidf = vectorizer.transform(X_val_str)\n",
    "X_test_tfidf = vectorizer.transform(X_test_str)"
   ]
  },
  {
   "cell_type": "markdown",
   "id": "3fd70a6f",
   "metadata": {},
   "source": [
    "#### Convert to tensor"
   ]
  },
  {
   "cell_type": "code",
   "execution_count": 20,
   "id": "123842db",
   "metadata": {},
   "outputs": [],
   "source": [
    "X_train_tensor = torch.tensor(X_train_tfidf.toarray(), dtype=torch.float32)\n",
    "y_train_tensor = torch.tensor(y_train, dtype=torch.float32)\n",
    "\n",
    "X_val_tensor = torch.tensor(X_val_tfidf.toarray(), dtype=torch.float32)\n",
    "y_val_tensor = torch.tensor(y_val, dtype=torch.float32)\n",
    "\n",
    "X_test_tensor = torch.tensor(X_test_tfidf.toarray(), dtype=torch.float32)\n",
    "y_test_tensor = torch.tensor(y_test, dtype=torch.float32)"
   ]
  },
  {
   "cell_type": "markdown",
   "id": "18310e7e",
   "metadata": {},
   "source": [
    "#### Dataloader"
   ]
  },
  {
   "cell_type": "code",
   "execution_count": 21,
   "id": "e95b98c7",
   "metadata": {},
   "outputs": [],
   "source": [
    "train_dataset = TensorDataset(X_train_tensor, y_train_tensor)\n",
    "val_dataset = TensorDataset(X_val_tensor, y_val_tensor)\n",
    "test_dataset = TensorDataset(X_test_tensor, y_test_tensor)\n",
    "\n",
    "train_loader = DataLoader(train_dataset, batch_size=32, shuffle=True)\n",
    "val_loader = DataLoader(val_dataset, batch_size=32)\n",
    "test_loader = DataLoader(test_dataset, batch_size=32)"
   ]
  },
  {
   "cell_type": "markdown",
   "id": "f6aa61ac",
   "metadata": {},
   "source": [
    "#### MLP model"
   ]
  },
  {
   "cell_type": "code",
   "execution_count": 22,
   "id": "bbc4bb87",
   "metadata": {},
   "outputs": [],
   "source": [
    "class MLP(nn.Module):\n",
    "    def __init__(self, input_dim):\n",
    "        super(MLP, self).__init__()\n",
    "        self.model = nn.Sequential(\n",
    "            nn.Linear(input_dim, 256),\n",
    "            nn.ReLU(),\n",
    "            nn.Dropout(0.5),\n",
    "            nn.Linear(256, 128),\n",
    "            nn.ReLU(),\n",
    "            nn.Dropout(0.5),\n",
    "            nn.Linear(128, 1)\n",
    "        )\n",
    "\n",
    "    def forward(self, x):\n",
    "        return self.model(x).squeeze()"
   ]
  },
  {
   "cell_type": "code",
   "execution_count": 23,
   "id": "d6c0a29b",
   "metadata": {},
   "outputs": [],
   "source": [
    "model1 = MLP(input_dim=5000).to(device)\n",
    "\n",
    "criterion = nn.BCEWithLogitsLoss()\n",
    "optimizer = optim.AdamW(model1.parameters(), lr=0.001)"
   ]
  },
  {
   "cell_type": "markdown",
   "id": "c1fdeda8",
   "metadata": {},
   "source": [
    "### train model"
   ]
  },
  {
   "cell_type": "code",
   "execution_count": 24,
   "id": "f5372b17",
   "metadata": {},
   "outputs": [],
   "source": [
    "accuracy_metric = BinaryAccuracy().to(device)\n",
    "f1_metric = BinaryF1Score().to(device)"
   ]
  },
  {
   "cell_type": "code",
   "execution_count": 25,
   "id": "b1599f55",
   "metadata": {},
   "outputs": [
    {
     "name": "stderr",
     "output_type": "stream",
     "text": [
      "                                                                                      \r"
     ]
    },
    {
     "name": "stdout",
     "output_type": "stream",
     "text": [
      "[Epoch 1] Train Loss: 225.2679 || Val Loss: 43.9643 | Acc: 0.8846 | F1: 0.8846\n"
     ]
    },
    {
     "name": "stderr",
     "output_type": "stream",
     "text": [
      "                                                                                       \r"
     ]
    },
    {
     "name": "stdout",
     "output_type": "stream",
     "text": [
      "[Epoch 2] Train Loss: 140.5007 || Val Loss: 47.5858 | Acc: 0.8776 | F1: 0.8801\n"
     ]
    },
    {
     "name": "stderr",
     "output_type": "stream",
     "text": [
      "                                                                                       \r"
     ]
    },
    {
     "name": "stdout",
     "output_type": "stream",
     "text": [
      "[Epoch 3] Train Loss: 105.0829 || Val Loss: 53.5039 | Acc: 0.8728 | F1: 0.8707\n"
     ]
    },
    {
     "name": "stderr",
     "output_type": "stream",
     "text": [
      "                                                                                       \r"
     ]
    },
    {
     "name": "stdout",
     "output_type": "stream",
     "text": [
      "[Epoch 4] Train Loss: 70.0323 || Val Loss: 62.3517 | Acc: 0.8648 | F1: 0.8617\n"
     ]
    },
    {
     "name": "stderr",
     "output_type": "stream",
     "text": [
      "                                                                                        "
     ]
    },
    {
     "name": "stdout",
     "output_type": "stream",
     "text": [
      "[Epoch 5] Train Loss: 40.3958 || Val Loss: 75.8446 | Acc: 0.8676 | F1: 0.8698\n"
     ]
    },
    {
     "name": "stderr",
     "output_type": "stream",
     "text": [
      "\r"
     ]
    }
   ],
   "source": [
    "for epoch in range(5):\n",
    "    model1.train()\n",
    "    total_loss = 0\n",
    "\n",
    "    train_loop = tqdm(train_loader, desc=f'Epoch {epoch+1}/{5} [Training]', leave=False)\n",
    "    for text, label in train_loop:\n",
    "        text, label = text.to(device), label.to(device)\n",
    "\n",
    "        optimizer.zero_grad()\n",
    "        outputs = model1(text)\n",
    "        loss = criterion(outputs, label)\n",
    "        loss.backward()\n",
    "        optimizer.step()\n",
    "        \n",
    "        total_loss += loss.item()\n",
    "        train_loop.set_postfix(loss=loss.item())\n",
    "    \n",
    "    model1.eval()\n",
    "    val_loss = 0\n",
    "    accuracy_metric.reset()\n",
    "    f1_metric.reset()\n",
    "\n",
    "    with torch.no_grad() :\n",
    "        val_loop = tqdm(val_loader, desc=f\"Epoch {epoch+1}/{5} [Validation]\", leave=False)\n",
    "        for text, label in val_loop:\n",
    "            text, label = text.to(device), label.to(device)\n",
    "\n",
    "            outputs = model1(text)\n",
    "            loss = criterion(outputs, label)\n",
    "            val_loss += loss.item()\n",
    "\n",
    "            probs = torch.sigmoid(outputs)\n",
    "            preds = (probs > 0.5).float()\n",
    "            accuracy_metric.update(preds, label)\n",
    "            f1_metric.update(preds, label)\n",
    "\n",
    "            val_loop.set_postfix(loss=loss.item())\n",
    "    val_acc = accuracy_metric.compute().item()\n",
    "    val_f1 = f1_metric.compute().item()\n",
    "\n",
    "    print(f\"[Epoch {epoch+1}] Train Loss: {total_loss:.4f} || \"\n",
    "          f\"Val Loss: {val_loss:.4f} | Acc: {val_acc:.4f} | F1: {val_f1:.4f}\")"
   ]
  },
  {
   "cell_type": "markdown",
   "id": "aa4c019a",
   "metadata": {},
   "source": [
    "### Test"
   ]
  },
  {
   "cell_type": "code",
   "execution_count": 26,
   "id": "c70542a1",
   "metadata": {},
   "outputs": [],
   "source": [
    "def creat_heatmap(confusion_matrix) :\n",
    "    plt.figure(figsize=(12, 7))\n",
    "    sns.heatmap(confusion_matrix.compute().to('cpu'),\n",
    "                annot=True, \n",
    "                fmt='d', \n",
    "                cmap='Blues', \n",
    "                linewidths=0.5, \n",
    "                square=True, \n",
    "                cbar_kws={\"shrink\": 0.75},\n",
    "\n",
    "    )\n",
    "\n",
    "\n",
    "    plt.title(\"Confusion Matrix\", fontsize=16)\n",
    "    plt.xlabel(\"Predicted Labels\", fontsize=14)\n",
    "    plt.ylabel(\"True Labels\", fontsize=14)\n",
    "    plt.xticks(fontsize=12)\n",
    "    plt.yticks(fontsize=12)\n",
    "    plt.tight_layout()\n",
    "    plt.show()"
   ]
  },
  {
   "cell_type": "code",
   "execution_count": 27,
   "id": "59873bf4",
   "metadata": {},
   "outputs": [
    {
     "name": "stdout",
     "output_type": "stream",
     "text": [
      "test F1 : 0.8518739938735962\n",
      "test acc : 0.8512399792671204\n"
     ]
    },
    {
     "data": {
      "image/png": "[encoded data removed]",
      "text/plain": [
       "<Figure size 1200x700 with 2 Axes>"
      ]
     },
     "metadata": {},
     "output_type": "display_data"
    }
   ],
   "source": [
    "accuracy_metric_test = BinaryAccuracy().to(device)\n",
    "f1_metric_test = BinaryF1Score().to(device)\n",
    "CF = BinaryConfusionMatrix().to(device)\n",
    "\n",
    "with torch.no_grad() :\n",
    "    for text, label in test_loader:\n",
    "        text, label = text.to(device), label.to(device)\n",
    "\n",
    "        outputs = model1(text)\n",
    "        loss = criterion(outputs, label)\n",
    "\n",
    "        probs = torch.sigmoid(outputs)\n",
    "        preds = (probs > 0.5).float()\n",
    "        accuracy_metric_test.update(preds, label)\n",
    "        f1_metric_test.update(preds, label)\n",
    "        CF.update(preds, label)\n",
    "\n",
    "print(f\"test F1 : {f1_metric_test.compute().item()}\\ntest acc : {accuracy_metric_test.compute().item()}\" )\n",
    "creat_heatmap(CF)"
   ]
  },
  {
   "cell_type": "markdown",
   "id": "a9ba6d08",
   "metadata": {},
   "source": [
    "### Save model"
   ]
  },
  {
   "cell_type": "code",
   "execution_count": 28,
   "id": "2d50b8b5",
   "metadata": {},
   "outputs": [],
   "source": [
    "torch.save(model1.state_dict(), \"./models/tfidf.pt\")"
   ]
  },
  {
   "cell_type": "markdown",
   "id": "b91b1df1",
   "metadata": {},
   "source": [
    "### BagofWords"
   ]
  },
  {
   "cell_type": "code",
   "execution_count": 29,
   "id": "a722b1fa",
   "metadata": {},
   "outputs": [],
   "source": [
    "vectorizer_BOW = CountVectorizer(max_features=5000)\n",
    "\n",
    "X_train_BOW = vectorizer_BOW.fit_transform(X_train_str)\n",
    "X_val_BOW = vectorizer_BOW.transform(X_val_str)\n",
    "X_test_BOW = vectorizer_BOW.transform(X_test_str)"
   ]
  },
  {
   "cell_type": "markdown",
   "id": "885e87c3",
   "metadata": {},
   "source": [
    "#### Convert to tensor"
   ]
  },
  {
   "cell_type": "code",
   "execution_count": 30,
   "id": "d8860d65",
   "metadata": {},
   "outputs": [],
   "source": [
    "X_train_tensor = torch.tensor(X_train_BOW.toarray(), dtype=torch.float32)\n",
    "y_train_tensor = torch.tensor(y_train, dtype=torch.float32)\n",
    "\n",
    "X_val_tensor = torch.tensor(X_val_BOW.toarray(), dtype=torch.float32)\n",
    "y_val_tensor = torch.tensor(y_val, dtype=torch.float32)\n",
    "\n",
    "X_test_tensor = torch.tensor(X_test_BOW.toarray(), dtype=torch.float32)\n",
    "y_test_tensor = torch.tensor(y_test, dtype=torch.float32)"
   ]
  },
  {
   "cell_type": "markdown",
   "id": "899f18cd",
   "metadata": {},
   "source": [
    "#### Dataloader"
   ]
  },
  {
   "cell_type": "code",
   "execution_count": 31,
   "id": "eef5ccdd",
   "metadata": {},
   "outputs": [],
   "source": [
    "train_dataset_BOW = TensorDataset(X_train_tensor, y_train_tensor)\n",
    "val_dataset_BOW = TensorDataset(X_val_tensor, y_val_tensor)\n",
    "test_dataset_BOW = TensorDataset(X_test_tensor, y_test_tensor)\n",
    "\n",
    "train_loader_BOW = DataLoader(train_dataset_BOW, batch_size=32, shuffle=True)\n",
    "val_loader_BOW = DataLoader(val_dataset_BOW, batch_size=32)\n",
    "test_loader_BOW = DataLoader(test_dataset_BOW, batch_size=32)"
   ]
  },
  {
   "cell_type": "markdown",
   "id": "b051b467",
   "metadata": {},
   "source": [
    "### Train"
   ]
  },
  {
   "cell_type": "code",
   "execution_count": 32,
   "id": "25c93944",
   "metadata": {},
   "outputs": [],
   "source": [
    "model_BOW = MLP(input_dim=5000).to(device)\n",
    "\n",
    "criterion_BOW = nn.BCEWithLogitsLoss()\n",
    "optimizer_BOW = optim.AdamW(model_BOW.parameters(), lr=0.001)"
   ]
  },
  {
   "cell_type": "code",
   "execution_count": 33,
   "id": "73e738c7",
   "metadata": {},
   "outputs": [
    {
     "name": "stderr",
     "output_type": "stream",
     "text": [
      "                                                                                      \r"
     ]
    },
    {
     "name": "stdout",
     "output_type": "stream",
     "text": [
      "[Epoch 1] Train Loss: 232.5238 || Val Loss: 45.8816 | Acc: 0.8814 | F1: 0.8822\n"
     ]
    },
    {
     "name": "stderr",
     "output_type": "stream",
     "text": [
      "                                                                                      \r"
     ]
    },
    {
     "name": "stdout",
     "output_type": "stream",
     "text": [
      "[Epoch 2] Train Loss: 147.8860 || Val Loss: 48.3600 | Acc: 0.8788 | F1: 0.8781\n"
     ]
    },
    {
     "name": "stderr",
     "output_type": "stream",
     "text": [
      "                                                                                      \r"
     ]
    },
    {
     "name": "stdout",
     "output_type": "stream",
     "text": [
      "[Epoch 3] Train Loss: 99.7652 || Val Loss: 54.6962 | Acc: 0.8740 | F1: 0.8747\n"
     ]
    },
    {
     "name": "stderr",
     "output_type": "stream",
     "text": [
      "                                                                                       \r"
     ]
    },
    {
     "name": "stdout",
     "output_type": "stream",
     "text": [
      "[Epoch 4] Train Loss: 59.6355 || Val Loss: 66.9477 | Acc: 0.8764 | F1: 0.8765\n"
     ]
    },
    {
     "name": "stderr",
     "output_type": "stream",
     "text": [
      "                                                                                       "
     ]
    },
    {
     "name": "stdout",
     "output_type": "stream",
     "text": [
      "[Epoch 5] Train Loss: 35.8603 || Val Loss: 83.3197 | Acc: 0.8682 | F1: 0.8681\n"
     ]
    },
    {
     "name": "stderr",
     "output_type": "stream",
     "text": [
      "\r"
     ]
    }
   ],
   "source": [
    "accuracy_metric = BinaryAccuracy().to(device)\n",
    "f1_metric = BinaryF1Score().to(device)\n",
    "\n",
    "for epoch in range(5):\n",
    "    model_BOW.train()\n",
    "    total_loss = 0\n",
    "\n",
    "    train_loop = tqdm(train_loader_BOW, desc=f'Epoch {epoch+1}/{5} [Training]', leave=False)\n",
    "    for text, label in train_loop:\n",
    "        text, label = text.to(device), label.to(device)\n",
    "\n",
    "        optimizer_BOW.zero_grad()\n",
    "        outputs = model_BOW(text)\n",
    "        loss = criterion_BOW(outputs, label)\n",
    "        loss.backward()\n",
    "        optimizer_BOW.step()\n",
    "        \n",
    "        total_loss += loss.item()\n",
    "        train_loop.set_postfix(loss=loss.item())\n",
    "    \n",
    "    model_BOW.eval()\n",
    "    val_loss = 0\n",
    "    accuracy_metric.reset()\n",
    "    f1_metric.reset()\n",
    "\n",
    "    with torch.no_grad() :\n",
    "        val_loop = tqdm(val_loader_BOW, desc=f\"Epoch {epoch+1}/{5} [Validation]\", leave=False)\n",
    "        for text, label in val_loop:\n",
    "            text, label = text.to(device), label.to(device)\n",
    "\n",
    "            outputs = model_BOW(text)\n",
    "            loss = criterion_BOW(outputs, label)\n",
    "            val_loss += loss.item()\n",
    "\n",
    "            probs = torch.sigmoid(outputs)\n",
    "            preds = (probs > 0.5).float()\n",
    "            accuracy_metric.update(preds, label)\n",
    "            f1_metric.update(preds, label)\n",
    "\n",
    "            val_loop.set_postfix(loss=loss.item())\n",
    "    val_acc = accuracy_metric.compute().item()\n",
    "    val_f1 = f1_metric.compute().item()\n",
    "\n",
    "    print(f\"[Epoch {epoch+1}] Train Loss: {total_loss:.4f} || \"\n",
    "          f\"Val Loss: {val_loss:.4f} | Acc: {val_acc:.4f} | F1: {val_f1:.4f}\")"
   ]
  },
  {
   "cell_type": "markdown",
   "id": "85ab5ccf",
   "metadata": {},
   "source": [
    "- Better than TFidf model on train and validation"
   ]
  },
  {
   "cell_type": "markdown",
   "id": "44b4870f",
   "metadata": {},
   "source": [
    "### Test"
   ]
  },
  {
   "cell_type": "code",
   "execution_count": 34,
   "id": "ee7658d2",
   "metadata": {},
   "outputs": [
    {
     "name": "stdout",
     "output_type": "stream",
     "text": [
      "test F1 : 0.8537333011627197\n",
      "test acc : 0.8568400144577026\n"
     ]
    },
    {
     "data": {
      "image/png": "[encoded data removed]",
      "text/plain": [
       "<Figure size 1200x700 with 2 Axes>"
      ]
     },
     "metadata": {},
     "output_type": "display_data"
    }
   ],
   "source": [
    "accuracy_metric_test = BinaryAccuracy().to(device)\n",
    "f1_metric_test = BinaryF1Score().to(device)\n",
    "CF = BinaryConfusionMatrix().to(device)\n",
    "\n",
    "with torch.no_grad() :\n",
    "    for text, label in test_loader_BOW:\n",
    "        text, label = text.to(device), label.to(device)\n",
    "\n",
    "        outputs = model_BOW(text)\n",
    "        loss = criterion_BOW(outputs, label)\n",
    "\n",
    "        probs = torch.sigmoid(outputs)\n",
    "        preds = (probs > 0.5).float()\n",
    "        accuracy_metric_test.update(preds, label)\n",
    "        f1_metric_test.update(preds, label)\n",
    "        CF.update(preds, label)\n",
    "\n",
    "print(f\"test F1 : {f1_metric_test.compute().item()}\\ntest acc : {accuracy_metric_test.compute().item()}\" )\n",
    "creat_heatmap(CF)"
   ]
  },
  {
   "cell_type": "code",
   "execution_count": 35,
   "id": "8370fd5e",
   "metadata": {},
   "outputs": [],
   "source": [
    "torch.save(model1.state_dict(), \"./models/BOW.pt\")"
   ]
  },
  {
   "cell_type": "markdown",
   "id": "6b333d78",
   "metadata": {},
   "source": [
    "### GLoVe"
   ]
  },
  {
   "cell_type": "markdown",
   "id": "269b0221",
   "metadata": {},
   "source": [
    "#### Load"
   ]
  },
  {
   "cell_type": "code",
   "execution_count": 36,
   "id": "455eaca2",
   "metadata": {},
   "outputs": [],
   "source": [
    "glove_path = \"./data/GLoVe/glove.6B.100d.txt\"\n",
    "glove_cache = './glove/glove_cache.npy'\n",
    "embedding_dim = 100\n",
    "\n",
    "word2vec = {}\n",
    "with open(glove_path, \"r\", encoding=\"utf-8\") as f:\n",
    "    for line in f:\n",
    "        values = line.split()\n",
    "        word = values[0]\n",
    "        vec = np.asarray(values[1:], dtype='float32')\n",
    "        word2vec[word] = vec"
   ]
  },
  {
   "cell_type": "markdown",
   "id": "31935de2",
   "metadata": {},
   "source": [
    "#### Vocab and embedding"
   ]
  },
  {
   "cell_type": "code",
   "execution_count": 72,
   "id": "b2f8f29b",
   "metadata": {},
   "outputs": [],
   "source": [
    "word2idx = {\"<PAD>\": 0, \"<UNK>\": 1}\n",
    "idx = 2\n",
    "for tokens in X_train_lemmatized:\n",
    "    for token in tokens:\n",
    "        if token not in word2idx:\n",
    "            word2idx[token] = idx\n",
    "            idx += 1"
   ]
  },
  {
   "cell_type": "code",
   "execution_count": 73,
   "id": "49ce3535",
   "metadata": {},
   "outputs": [],
   "source": [
    "embedding_matrix = np.zeros((len(word2idx), embedding_dim))\n",
    "for word, i in word2idx.items():\n",
    "    vec = word2vec.get(word)\n",
    "    if vec is not None:\n",
    "        embedding_matrix[i] = vec\n",
    "    else:\n",
    "        embedding_matrix[i] = np.random.normal(scale=0.6, size=(embedding_dim,))"
   ]
  },
  {
   "cell_type": "code",
   "execution_count": 74,
   "id": "155f7bb1",
   "metadata": {},
   "outputs": [],
   "source": [
    "X_train_indices = [[word2idx.get(word, word2idx[\"<UNK>\"]) for word in review] for review in X_train_lemmatized ]\n",
    "X_val_indices = [[word2idx.get(word, word2idx[\"<UNK>\"]) for word in review] for review in X_val_lemmatized ]\n",
    "X_test_indices = [[word2idx.get(word, word2idx[\"<UNK>\"]) for word in review] for review in X_test_lemmatized ]"
   ]
  },
  {
   "cell_type": "markdown",
   "id": "7125af17",
   "metadata": {},
   "source": [
    "#### pad sequences"
   ]
  },
  {
   "cell_type": "code",
   "execution_count": 75,
   "id": "7d864141",
   "metadata": {},
   "outputs": [],
   "source": [
    "X_train_tensor = pad_sequence(\n",
    "    [torch.tensor(seq) for seq in X_train_indices],\n",
    "    batch_first=True,\n",
    "    padding_value=word2idx[\"<PAD>\"]\n",
    ")\n",
    "\n",
    "X_val_tensor = pad_sequence(\n",
    "    [torch.tensor(seq) for seq in X_val_indices],\n",
    "    batch_first=True,\n",
    "    padding_value=word2idx[\"<PAD>\"]\n",
    ")\n",
    "\n",
    "X_test_tensor = pad_sequence(\n",
    "    [torch.tensor(seq) for seq in X_test_indices],\n",
    "    batch_first=True,\n",
    "    padding_value=word2idx[\"<PAD>\"]\n",
    ")"
   ]
  },
  {
   "cell_type": "markdown",
   "id": "996445f9",
   "metadata": {},
   "source": [
    "### Dataloader"
   ]
  },
  {
   "cell_type": "code",
   "execution_count": 76,
   "id": "9559b4fc",
   "metadata": {},
   "outputs": [],
   "source": [
    "train_dataset_G = TensorDataset(X_train_tensor, y_train_tensor)\n",
    "val_dataset_G = TensorDataset(X_val_tensor, y_val_tensor)\n",
    "test_dataset_G = TensorDataset(X_test_tensor, y_test_tensor)\n",
    "\n",
    "train_loader_G = DataLoader(train_dataset_G, batch_size=32, shuffle=True)\n",
    "val_loader_G = DataLoader(val_dataset_G, batch_size=32)\n",
    "test_loader_G = DataLoader(test_dataset_G, batch_size=32)"
   ]
  },
  {
   "cell_type": "markdown",
   "id": "8ed7f54e",
   "metadata": {},
   "source": [
    "### Model"
   ]
  },
  {
   "cell_type": "code",
   "execution_count": 81,
   "id": "c0160b14",
   "metadata": {},
   "outputs": [],
   "source": [
    "class Text_classifier(nn.Module) :\n",
    "    def __init__(self, embedding_matrix, hidden_dim = 128):\n",
    "        super().__init__()\n",
    "        num_embeddings, embedding_dim = embedding_matrix.shape\n",
    "        self.embedding = nn.Embedding.from_pretrained(torch.tensor(embedding_matrix, dtype=torch.float32), freeze=False)\n",
    "        self.FC = nn.Sequential(\n",
    "            nn.Linear(embedding_dim, hidden_dim),\n",
    "            nn.ReLU(),\n",
    "            nn.Dropout(0.5),\n",
    "            nn.Linear(hidden_dim, 1)\n",
    "        )\n",
    "\n",
    "    def forward(self, x):\n",
    "        embedded = self.embedding(x)\n",
    "        avg_emb = embedded.mean(dim=1)\n",
    "        return self.FC(avg_emb).squeeze()"
   ]
  },
  {
   "cell_type": "code",
   "execution_count": 82,
   "id": "96e487e8",
   "metadata": {},
   "outputs": [],
   "source": [
    "model_GLove = Text_classifier(embedding_matrix).to(device)\n",
    "\n",
    "criterion = nn.BCEWithLogitsLoss()\n",
    "optimizer_GLoVe = optim.AdamW(model_GLove.parameters(), lr=0.01)\n",
    "scheduler = optim.lr_scheduler.StepLR(optimizer_GLoVe, step_size=10, gamma=0.5)"
   ]
  },
  {
   "cell_type": "markdown",
   "id": "223fd536",
   "metadata": {},
   "source": [
    "### Training"
   ]
  },
  {
   "cell_type": "code",
   "execution_count": 83,
   "id": "0fd711b9",
   "metadata": {},
   "outputs": [
    {
     "name": "stderr",
     "output_type": "stream",
     "text": [
      "Epoch 1/30 [Training]:   0%|          | 0/625 [00:00<?, ?it/s]"
     ]
    },
    {
     "name": "stderr",
     "output_type": "stream",
     "text": [
      "                                                                                        \r"
     ]
    },
    {
     "name": "stdout",
     "output_type": "stream",
     "text": [
      "[Epoch 1] Train Loss: 340.5047 || Val Loss: 46.3018 | Acc: 0.8804 | F1: 0.8770\n",
      "Best model saved at epoch 1 with F1: 0.8770\n"
     ]
    },
    {
     "name": "stderr",
     "output_type": "stream",
     "text": [
      "                                                                                        \r"
     ]
    },
    {
     "name": "stdout",
     "output_type": "stream",
     "text": [
      "[Epoch 2] Train Loss: 156.8977 || Val Loss: 45.5134 | Acc: 0.8894 | F1: 0.8861\n",
      "Best model saved at epoch 2 with F1: 0.8861\n"
     ]
    },
    {
     "name": "stderr",
     "output_type": "stream",
     "text": [
      "                                                                                        \r"
     ]
    },
    {
     "name": "stdout",
     "output_type": "stream",
     "text": [
      "[Epoch 3] Train Loss: 99.0388 || Val Loss: 51.6883 | Acc: 0.8946 | F1: 0.8956\n",
      "Best model saved at epoch 3 with F1: 0.8956\n"
     ]
    },
    {
     "name": "stderr",
     "output_type": "stream",
     "text": [
      "                                                                                        \r"
     ]
    },
    {
     "name": "stdout",
     "output_type": "stream",
     "text": [
      "[Epoch 4] Train Loss: 70.6183 || Val Loss: 77.2789 | Acc: 0.8868 | F1: 0.8913\n",
      "No improvement for 1 epochs (patience: 10)\n"
     ]
    },
    {
     "name": "stderr",
     "output_type": "stream",
     "text": [
      "                                                                                        \r"
     ]
    },
    {
     "name": "stdout",
     "output_type": "stream",
     "text": [
      "[Epoch 5] Train Loss: 49.1772 || Val Loss: 93.0249 | Acc: 0.8878 | F1: 0.8913\n",
      "No improvement for 2 epochs (patience: 10)\n"
     ]
    },
    {
     "name": "stderr",
     "output_type": "stream",
     "text": [
      "                                                                                        \r"
     ]
    },
    {
     "name": "stdout",
     "output_type": "stream",
     "text": [
      "[Epoch 6] Train Loss: 35.0944 || Val Loss: 78.7330 | Acc: 0.8880 | F1: 0.8889\n",
      "No improvement for 3 epochs (patience: 10)\n"
     ]
    },
    {
     "name": "stderr",
     "output_type": "stream",
     "text": [
      "                                                                                        \r"
     ]
    },
    {
     "name": "stdout",
     "output_type": "stream",
     "text": [
      "[Epoch 7] Train Loss: 35.2670 || Val Loss: 128.5812 | Acc: 0.8532 | F1: 0.8390\n",
      "No improvement for 4 epochs (patience: 10)\n"
     ]
    },
    {
     "name": "stderr",
     "output_type": "stream",
     "text": [
      "                                                                                         \r"
     ]
    },
    {
     "name": "stdout",
     "output_type": "stream",
     "text": [
      "[Epoch 8] Train Loss: 33.0293 || Val Loss: 119.7669 | Acc: 0.8830 | F1: 0.8826\n",
      "No improvement for 5 epochs (patience: 10)\n"
     ]
    },
    {
     "name": "stderr",
     "output_type": "stream",
     "text": [
      "                                                                                        \r"
     ]
    },
    {
     "name": "stdout",
     "output_type": "stream",
     "text": [
      "[Epoch 9] Train Loss: 25.6638 || Val Loss: 141.9652 | Acc: 0.8796 | F1: 0.8827\n",
      "No improvement for 6 epochs (patience: 10)\n"
     ]
    },
    {
     "name": "stderr",
     "output_type": "stream",
     "text": [
      "                                                                                         \r"
     ]
    },
    {
     "name": "stdout",
     "output_type": "stream",
     "text": [
      "[Epoch 10] Train Loss: 18.8682 || Val Loss: 240.9216 | Acc: 0.8238 | F1: 0.8452\n",
      "No improvement for 7 epochs (patience: 10)\n"
     ]
    },
    {
     "name": "stderr",
     "output_type": "stream",
     "text": [
      "                                                                                          \r"
     ]
    },
    {
     "name": "stdout",
     "output_type": "stream",
     "text": [
      "[Epoch 11] Train Loss: 13.4059 || Val Loss: 160.7480 | Acc: 0.8754 | F1: 0.8727\n",
      "No improvement for 8 epochs (patience: 10)\n"
     ]
    },
    {
     "name": "stderr",
     "output_type": "stream",
     "text": [
      "                                                                                           \r"
     ]
    },
    {
     "name": "stdout",
     "output_type": "stream",
     "text": [
      "[Epoch 12] Train Loss: 9.3448 || Val Loss: 166.1631 | Acc: 0.8752 | F1: 0.8724\n",
      "No improvement for 9 epochs (patience: 10)\n"
     ]
    },
    {
     "name": "stderr",
     "output_type": "stream",
     "text": [
      "                                                                                         "
     ]
    },
    {
     "name": "stdout",
     "output_type": "stream",
     "text": [
      "[Epoch 13] Train Loss: 4.6410 || Val Loss: 215.0414 | Acc: 0.8562 | F1: 0.8666\n",
      "No improvement for 10 epochs (patience: 10)\n",
      "Early stopping at epoch 13. Best F1: 0.8956\n"
     ]
    },
    {
     "name": "stderr",
     "output_type": "stream",
     "text": [
      "\r"
     ]
    }
   ],
   "source": [
    "accuracy_metric = BinaryAccuracy().to(device)\n",
    "f1_metric = BinaryF1Score().to(device)\n",
    "\n",
    "best_f1 = 0\n",
    "patience = 10\n",
    "counter = 0\n",
    "\n",
    "for epoch in range(30):\n",
    "    model_GLove.train()\n",
    "    total_loss = 0\n",
    "\n",
    "    train_loop = tqdm(train_loader_G, desc=f'Epoch {epoch+1}/{30} [Training]', leave=False)\n",
    "    for text, label in train_loop:\n",
    "        text, label = text.to(device), label.to(device)\n",
    "\n",
    "        optimizer_GLoVe.zero_grad()\n",
    "        outputs = model_GLove(text)\n",
    "        loss = criterion(outputs, label)\n",
    "        loss.backward()\n",
    "        optimizer_GLoVe.step()\n",
    "        \n",
    "        total_loss += loss.item()\n",
    "        train_loop.set_postfix(loss=loss.item())\n",
    "    \n",
    "    model_GLove.eval()\n",
    "    val_loss = 0\n",
    "    accuracy_metric.reset()\n",
    "    f1_metric.reset()\n",
    "\n",
    "    with torch.no_grad() :\n",
    "        val_loop = tqdm(val_loader_G, desc=f\"Epoch {epoch+1}/{30} [Validation]\", leave=False)\n",
    "        for text, label in val_loop:\n",
    "            text, label = text.to(device), label.to(device)\n",
    "\n",
    "            outputs = model_GLove(text)\n",
    "            loss = criterion(outputs, label)\n",
    "            val_loss += loss.item()\n",
    "\n",
    "            probs = torch.sigmoid(outputs)\n",
    "            preds = (probs > 0.5).float()\n",
    "            accuracy_metric.update(preds, label)\n",
    "            f1_metric.update(preds, label)\n",
    "\n",
    "            val_loop.set_postfix(loss=loss.item())\n",
    "\n",
    "    \n",
    "    current_acc = accuracy_metric.compute().item()\n",
    "    current_f1 = f1_metric.compute().item()\n",
    "\n",
    "\n",
    "    print(f\"[Epoch {epoch+1}] Train Loss: {total_loss:.4f} || \"\n",
    "          f\"Val Loss: {val_loss:.4f} | Acc: {current_acc:.4f} | F1: {current_f1:.4f}\")\n",
    "    \n",
    "    \n",
    "    if current_f1 > best_f1:\n",
    "        best_f1 = current_f1\n",
    "        counter = 0\n",
    "        torch.save(model_GLove.state_dict(), \"./models/GLoVe.pth\")\n",
    "        print(f\"Best model saved at epoch {epoch+1} with F1: {best_f1:.4f}\")\n",
    "    else:\n",
    "        counter += 1\n",
    "        print(f\"No improvement for {counter} epochs (patience: {patience})\")\n",
    "\n",
    "    if counter >= patience:\n",
    "        print(f\"Early stopping at epoch {epoch+1}. Best F1: {best_f1:.4f}\")\n",
    "        break\n",
    "\n",
    "    scheduler.step()\n"
   ]
  },
  {
   "cell_type": "code",
   "execution_count": 84,
   "id": "51da25a2",
   "metadata": {},
   "outputs": [
    {
     "data": {
      "text/plain": [
       "<All keys matched successfully>"
      ]
     },
     "execution_count": 84,
     "metadata": {},
     "output_type": "execute_result"
    }
   ],
   "source": [
    "model_GLove.load_state_dict(torch.load(\"./models/GLoVe.pth\"))"
   ]
  },
  {
   "cell_type": "markdown",
   "id": "c3f1efc0",
   "metadata": {},
   "source": [
    "### Test"
   ]
  },
  {
   "cell_type": "code",
   "execution_count": 85,
   "id": "f632c53e",
   "metadata": {},
   "outputs": [
    {
     "name": "stdout",
     "output_type": "stream",
     "text": [
      "test F1 : 0.8707081079483032\n",
      "test acc : 0.8721200227737427\n"
     ]
    },
    {
     "data": {
      "image/png": "[encoded data removed]",
      "text/plain": [
       "<Figure size 1200x700 with 2 Axes>"
      ]
     },
     "metadata": {},
     "output_type": "display_data"
    }
   ],
   "source": [
    "accuracy_metric_test = BinaryAccuracy().to(device)\n",
    "f1_metric_test = BinaryF1Score().to(device)\n",
    "CF = BinaryConfusionMatrix().to(device)\n",
    "\n",
    "with torch.no_grad() :\n",
    "    for text, label in test_loader_G:\n",
    "        text, label = text.to(device), label.to(device)\n",
    "\n",
    "        outputs = model_GLove(text)\n",
    "        loss = criterion(outputs, label)\n",
    "\n",
    "        probs = torch.sigmoid(outputs)\n",
    "        preds = (probs > 0.5).float()\n",
    "        accuracy_metric_test.update(preds, label)\n",
    "        f1_metric_test.update(preds, label)\n",
    "        CF.update(preds, label)\n",
    "\n",
    "print(f\"test F1 : {f1_metric_test.compute().item()}\\ntest acc : {accuracy_metric_test.compute().item()}\" )\n",
    "creat_heatmap(CF)"
   ]
  },
  {
   "cell_type": "markdown",
   "id": "2fe6d444",
   "metadata": {},
   "source": [
    "# 🧠 Text Classification Model Comparison\n",
    "\n",
    "### ✅ Dataset: IMDb\n",
    "### 🔢 Epochs: 5 (TF-IDF & BoW), 13 (GloVe with Early Stopping)\n",
    "\n",
    "---\n",
    "\n",
    "## 📘 Model 1: TF-IDF\n",
    "\n",
    "| Epoch | Train Loss | Val Loss | Accuracy | F1 Score |\n",
    "|-------|------------|----------|----------|----------|\n",
    "| 1     | 225.2679   | 43.9643  | 0.8846   | 0.8846   |\n",
    "| 2     | 140.5007   | 47.5858  | 0.8776   | 0.8801   |\n",
    "| 3     | 105.0829   | 53.5039  | 0.8728   | 0.8707   |\n",
    "| 4     | 70.0323    | 62.3517  | 0.8648   | 0.8617   |\n",
    "| 5     | 40.3958    | 75.8446  | 0.8676   | 0.8698   |\n",
    "\n",
    "**Test Accuracy:** `0.8512`  \n",
    "**Test F1 Score:** `0.8519`\n",
    "\n",
    "---\n",
    "\n",
    "## 📗 Model 2: Bag of Words (BoW)\n",
    "\n",
    "| Epoch | Train Loss | Val Loss | Accuracy | F1 Score |\n",
    "|-------|------------|----------|----------|----------|\n",
    "| 1     | 232.5238   | 45.8816  | 0.8814   | 0.8822   |\n",
    "| 2     | 147.8860   | 48.3600  | 0.8788   | 0.8781   |\n",
    "| 3     | 99.7652    | 54.6962  | 0.8740   | 0.8747   |\n",
    "| 4     | 59.6355    | 66.9477  | 0.8764   | 0.8765   |\n",
    "| 5     | 35.8603    | 83.3197  | 0.8682   | 0.8681   |\n",
    "\n",
    "**Test Accuracy:** `0.8568`  \n",
    "**Test F1 Score:** `0.8537`\n",
    "\n",
    "---\n",
    "\n",
    "## 📙 Model 3: GLoVe Embedding + Neural Net\n",
    "\n",
    "| Epoch | Train Loss | Val Loss | Accuracy | F1 Score | Notes                    |\n",
    "|-------|------------|----------|----------|----------|--------------------------|\n",
    "| 1     | 340.5047   | 46.3018  | 0.8804   | 0.8770   | Best model saved         |\n",
    "| 2     | 156.8977   | 45.5134  | 0.8894   | 0.8861   | Best model saved         |\n",
    "| 3     | 99.0388    | 51.6883  | 0.8946   | 0.8956   | Best model saved         |\n",
    "| 4     | 70.6183    | 77.2789  | 0.8868   | 0.8913   | No improvement           |\n",
    "| 5     | 49.1772    | 93.0249  | 0.8878   | 0.8913   | No improvement           |\n",
    "| 6     | 35.0944    | 78.7330  | 0.8880   | 0.8889   | No improvement           |\n",
    "| 7     | 35.2670    | 128.5812 | 0.8532   | 0.8390   | No improvement           |\n",
    "| 8     | 33.0293    | 119.7669 | 0.8830   | 0.8826   | No improvement           |\n",
    "| 9     | 25.6638    | 141.9652 | 0.8796   | 0.8827   | No improvement           |\n",
    "| 10    | 18.8682    | 240.9216 | 0.8238   | 0.8452   | No improvement           |\n",
    "| 11    | 13.4059    | 160.7480 | 0.8754   | 0.8727   | No improvement           |\n",
    "| 12    | 9.3448     | 166.1631 | 0.8752   | 0.8724   | No improvement           |\n",
    "| 13    | 4.6410     | 215.0414 | 0.8562   | 0.8666   | Early stopping triggered |\n",
    "\n",
    "**Best Val F1 Score:** `0.8956` (Epoch 3)  \n",
    "**Test Accuracy:** `0.8721`  \n",
    "**Test F1 Score:** `0.8707`\n",
    "\n",
    "---\n",
    "\n",
    "## 📊 Summary Comparison\n",
    "\n",
    "| Model     | Test Accuracy | Test F1 Score | Best Validation F1 Score |\n",
    "|-----------|---------------|---------------|--------------------------|\n",
    "| TF-IDF    | 0.8512        | 0.8519        | 0.8846                   |\n",
    "| BoW       | 0.8568        | 0.8537        | 0.8822                   |\n",
    "| **GLoVe** | **0.8721**    | **0.8707**    | **0.8956**               |\n",
    "\n",
    "> ✅ **GLoVe embedding model achieves the best performance** on both validation and test metrics.\n",
    "\n"
   ]
  }
 ],
 "metadata": {
  "kernelspec": {
   "display_name": "torch",
   "language": "python",
   "name": "python3"
  },
  "language_info": {
   "codemirror_mode": {
    "name": "ipython",
    "version": 3
   },
   "file_extension": ".py",
   "mimetype": "text/x-python",
   "name": "python",
   "nbconvert_exporter": "python",
   "pygments_lexer": "ipython3",
   "version": "3.10.18"
  }
 },
 "nbformat": 4,
 "nbformat_minor": 5
}
