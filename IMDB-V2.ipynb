{
 "cells": [
  {
   "cell_type": "code",
   "execution_count": 1,
   "id": "e773a70b",
   "metadata": {},
   "outputs": [],
   "source": [
    "import re\n",
    "\n",
    "import torch\n",
    "import torch.nn as nn\n",
    "import torch.optim as optim\n",
    "from torch.utils.data import TensorDataset, DataLoader\n",
    "import matplotlib.pyplot as plt\n",
    "import seaborn as sns\n",
    "from tqdm import tqdm\n",
    "\n",
    "from nltk.corpus import stopwords\n",
    "from bs4 import BeautifulSoup\n",
    "\n",
    "from datasets import load_dataset\n",
    "from sklearn.model_selection import train_test_split\n",
    "from torchmetrics.classification import BinaryAccuracy, BinaryF1Score, BinaryConfusionMatrix\n",
    "\n",
    "import numpy as np\n",
    "from collections import defaultdict\n",
    "\n",
    "from transformers import AutoTokenizer\n",
    "\n",
    "import contractions"
   ]
  },
  {
   "cell_type": "code",
   "execution_count": 2,
   "id": "bcfee395",
   "metadata": {},
   "outputs": [
    {
     "data": {
      "text/plain": [
       "device(type='cuda')"
      ]
     },
     "execution_count": 2,
     "metadata": {},
     "output_type": "execute_result"
    }
   ],
   "source": [
    "device = torch.device(\"cuda\" if torch.cuda.is_available() else \"cpu\")\n",
    "device"
   ]
  },
  {
   "cell_type": "markdown",
   "id": "2062d8f4",
   "metadata": {},
   "source": [
    "### Load dataset"
   ]
  },
  {
   "cell_type": "code",
   "execution_count": 3,
   "id": "4ee0d27c",
   "metadata": {},
   "outputs": [
    {
     "data": {
      "text/plain": [
       "DatasetDict({\n",
       "    train: Dataset({\n",
       "        features: ['text', 'label'],\n",
       "        num_rows: 25000\n",
       "    })\n",
       "    test: Dataset({\n",
       "        features: ['text', 'label'],\n",
       "        num_rows: 25000\n",
       "    })\n",
       "    unsupervised: Dataset({\n",
       "        features: ['text', 'label'],\n",
       "        num_rows: 50000\n",
       "    })\n",
       "})"
      ]
     },
     "execution_count": 3,
     "metadata": {},
     "output_type": "execute_result"
    }
   ],
   "source": [
    "dataset = load_dataset(\"imdb\", cache_dir='./data')\n",
    "dataset"
   ]
  },
  {
   "cell_type": "code",
   "execution_count": 4,
   "id": "82889009",
   "metadata": {},
   "outputs": [
    {
     "data": {
      "text/plain": [
       "DatasetDict({\n",
       "    train: Dataset({\n",
       "        features: ['text', 'label'],\n",
       "        num_rows: 25000\n",
       "    })\n",
       "    test: Dataset({\n",
       "        features: ['text', 'label'],\n",
       "        num_rows: 25000\n",
       "    })\n",
       "})"
      ]
     },
     "execution_count": 4,
     "metadata": {},
     "output_type": "execute_result"
    }
   ],
   "source": [
    "dataset.pop(\"unsupervised\")\n",
    "dataset"
   ]
  },
  {
   "cell_type": "markdown",
   "id": "9d75f57b",
   "metadata": {},
   "source": [
    "### Find length of texts"
   ]
  },
  {
   "cell_type": "code",
   "execution_count": 5,
   "id": "4304abb4",
   "metadata": {},
   "outputs": [],
   "source": [
    "tokenizer = AutoTokenizer.from_pretrained(\"bert-base-uncased\")"
   ]
  },
  {
   "cell_type": "code",
   "execution_count": 6,
   "id": "c0e84d58",
   "metadata": {},
   "outputs": [
    {
     "name": "stderr",
     "output_type": "stream",
     "text": [
      "Token indices sequence length is longer than the specified maximum sequence length for this model (720 > 512). Running this sequence through the model will result in indexing errors\n"
     ]
    },
    {
     "data": {
      "image/png": "[encoded data removed]",
      "text/plain": [
       "<Figure size 640x480 with 1 Axes>"
      ]
     },
     "metadata": {},
     "output_type": "display_data"
    }
   ],
   "source": [
    "token_lens = []\n",
    "\n",
    "for sample in dataset[\"train\"][\"text\"]:\n",
    "    tokens = tokenizer.encode(sample, truncation=False)\n",
    "    token_lens.append(len(tokens))\n",
    "\n",
    "plt.hist(token_lens, bins=50)\n",
    "plt.xlabel(\"Token count\")\n",
    "plt.ylabel(\"Number of samples\")\n",
    "plt.title(\"Token Length Distribution in IMDb Train Set\")\n",
    "plt.show()\n"
   ]
  },
  {
   "cell_type": "markdown",
   "id": "49f13639",
   "metadata": {},
   "source": [
    "- we can use 256 for max length"
   ]
  },
  {
   "cell_type": "markdown",
   "id": "04738e12",
   "metadata": {},
   "source": [
    "### Preprocessing"
   ]
  },
  {
   "cell_type": "code",
   "execution_count": 7,
   "id": "59021ab3",
   "metadata": {},
   "outputs": [],
   "source": [
    "def clean_text(text):\n",
    "    text = BeautifulSoup(text, \"html.parser\").get_text()\n",
    "    text = re.sub(r\"\\[[^]]*\\]\", \"\", text)\n",
    "    text = re.sub(r\"http\\S+\", \"\", text)\n",
    "    text = re.sub(r\"[^a-zA-Z0-9\\s.,!?']\", \" \", text)\n",
    "    text = re.sub(r\"\\s+\", \" \", text).strip()\n",
    "    return text\n",
    "\n",
    "def clean_dataset(example):\n",
    "    example[\"text\"] = clean_text(example[\"text\"])\n",
    "    return example"
   ]
  },
  {
   "cell_type": "code",
   "execution_count": 8,
   "id": "296af1fb",
   "metadata": {},
   "outputs": [],
   "source": [
    "def tokenize_function(example):\n",
    "    return tokenizer(\n",
    "        example[\"text\"],\n",
    "        padding=\"max_length\",\n",
    "        truncation=True,\n",
    "        max_length=256\n",
    "    )"
   ]
  },
  {
   "cell_type": "code",
   "execution_count": 9,
   "id": "f604b8f7",
   "metadata": {},
   "outputs": [],
   "source": [
    "clean_datasets = dataset.map(clean_dataset)\n",
    "\n",
    "tokenized_datasets = clean_datasets.map(tokenize_function, batched=True)"
   ]
  },
  {
   "cell_type": "code",
   "execution_count": 10,
   "id": "680e22d7",
   "metadata": {},
   "outputs": [
    {
     "data": {
      "text/plain": [
       "DatasetDict({\n",
       "    train: Dataset({\n",
       "        features: ['text', 'label', 'input_ids', 'token_type_ids', 'attention_mask'],\n",
       "        num_rows: 25000\n",
       "    })\n",
       "    test: Dataset({\n",
       "        features: ['text', 'label', 'input_ids', 'token_type_ids', 'attention_mask'],\n",
       "        num_rows: 25000\n",
       "    })\n",
       "})"
      ]
     },
     "execution_count": 10,
     "metadata": {},
     "output_type": "execute_result"
    }
   ],
   "source": [
    "tokenized_datasets"
   ]
  },
  {
   "cell_type": "code",
   "execution_count": 11,
   "id": "70192793",
   "metadata": {},
   "outputs": [],
   "source": [
    "tokenized_datasets.set_format(\n",
    "    type=\"torch\",\n",
    "    columns=[\"input_ids\", \"label\"]\n",
    ")"
   ]
  },
  {
   "cell_type": "markdown",
   "id": "afcfa18a",
   "metadata": {},
   "source": [
    "### Split data"
   ]
  },
  {
   "cell_type": "code",
   "execution_count": 12,
   "id": "df85688e",
   "metadata": {},
   "outputs": [
    {
     "data": {
      "text/plain": [
       "DatasetDict({\n",
       "    train: Dataset({\n",
       "        features: ['text', 'label', 'input_ids', 'token_type_ids', 'attention_mask'],\n",
       "        num_rows: 20000\n",
       "    })\n",
       "    test: Dataset({\n",
       "        features: ['text', 'label', 'input_ids', 'token_type_ids', 'attention_mask'],\n",
       "        num_rows: 5000\n",
       "    })\n",
       "})"
      ]
     },
     "execution_count": 12,
     "metadata": {},
     "output_type": "execute_result"
    }
   ],
   "source": [
    "train = tokenized_datasets['train'].train_test_split(test_size=0.2, shuffle=True)\n",
    "\n",
    "train"
   ]
  },
  {
   "cell_type": "code",
   "execution_count": 13,
   "id": "33d15364",
   "metadata": {},
   "outputs": [],
   "source": [
    "val = train['test']\n",
    "train = train['train']\n",
    "test = tokenized_datasets['test']"
   ]
  },
  {
   "cell_type": "markdown",
   "id": "d57f0997",
   "metadata": {},
   "source": [
    "### Dataloader"
   ]
  },
  {
   "cell_type": "code",
   "execution_count": 14,
   "id": "c6243b71",
   "metadata": {},
   "outputs": [],
   "source": [
    "train_dataloader = DataLoader(train, batch_size=32, shuffle=True)\n",
    "val_dataloader = DataLoader(val, batch_size=32)\n",
    "test_dataloader = DataLoader(test, batch_size=32)"
   ]
  },
  {
   "cell_type": "markdown",
   "id": "69bc48d2",
   "metadata": {},
   "source": [
    "### GloVe"
   ]
  },
  {
   "cell_type": "code",
   "execution_count": 31,
   "id": "68d1149e",
   "metadata": {},
   "outputs": [],
   "source": [
    "glove_path = \"./data/GLoVe/glove.6B.100d.txt\"\n",
    "embedding_dim = 100\n",
    "glove_index = {}\n",
    "\n",
    "with open(glove_path, \"r\", encoding=\"utf-8\") as f:\n",
    "    for line in f:\n",
    "        values = line.split()\n",
    "        word = values[0]\n",
    "        vector = np.asarray(values[1:], dtype=\"float32\")\n",
    "        glove_index[word] = vector\n"
   ]
  },
  {
   "cell_type": "code",
   "execution_count": 32,
   "id": "6cb0da1c",
   "metadata": {},
   "outputs": [],
   "source": [
    "vocab_size = tokenizer.vocab_size\n",
    "embedding_matrix = np.zeros((vocab_size, embedding_dim))\n",
    "\n",
    "for word, idx in tokenizer.get_vocab().items():\n",
    "    vector = glove_index.get(word)\n",
    "    if vector is not None:\n",
    "        embedding_matrix[idx] = vector\n",
    "    else:\n",
    "        embedding_matrix[idx] = np.random.normal(scale=0.6, size=(embedding_dim,))\n"
   ]
  },
  {
   "cell_type": "code",
   "execution_count": 33,
   "id": "006b23af",
   "metadata": {},
   "outputs": [],
   "source": [
    "glove_embeddings = torch.tensor(embedding_matrix, dtype=torch.float32)"
   ]
  },
  {
   "cell_type": "markdown",
   "id": "e8e34167",
   "metadata": {},
   "source": [
    "### RNN"
   ]
  },
  {
   "cell_type": "code",
   "execution_count": null,
   "id": "53a07580",
   "metadata": {},
   "outputs": [],
   "source": [
    "class RNNClassifier(nn.Module):\n",
    "    def __init__(self, embed_dim=100, hidden_dim=128, num_layers=1, pad_idx=0, bidirectional=True, dropout=0.5):\n",
    "        super(RNNClassifier, self).__init__()\n",
    "\n",
    "        self.bidirectional = bidirectional\n",
    "        self.embedding = nn.Embedding.from_pretrained(embeddings=glove_embeddings, freeze=False, padding_idx=pad_idx)\n",
    "\n",
    "        self.rnn = nn.RNN(\n",
    "            input_size=embed_dim,\n",
    "            hidden_size=hidden_dim,\n",
    "            num_layers=num_layers,\n",
    "            bidirectional=bidirectional,\n",
    "            batch_first=True,\n",
    "            dropout=dropout if num_layers > 1 else 0.0\n",
    "        )\n",
    "\n",
    "        self.dropout = nn.Dropout(dropout)\n",
    "        self.fc = self.fc = nn.Sequential(\n",
    "            nn.Linear(hidden_dim * (2 if bidirectional else 1), 64),\n",
    "            nn.ReLU(),\n",
    "            nn.Dropout(0.5),\n",
    "            nn.Linear(64, 1)\n",
    "        )\n",
    "\n",
    "    def forward(self, input_ids):\n",
    "        embedded = self.embedding(input_ids)\n",
    "        output, hidden = self.rnn(embedded)\n",
    "\n",
    "        if self.bidirectional:\n",
    "            hidden_cat = torch.cat((hidden[-2], hidden[-1]), dim=1)\n",
    "        else:\n",
    "            hidden_cat = hidden[-1]\n",
    "\n",
    "        out = self.dropout(hidden_cat)\n",
    "        return self.fc(out)\n"
   ]
  },
  {
   "cell_type": "code",
   "execution_count": 61,
   "id": "24249491",
   "metadata": {},
   "outputs": [],
   "source": [
    "RNN_classifier = RNNClassifier(bidirectional=False, num_layers=1).to(device)\n",
    "\n",
    "optimizer_RNN = optim.AdamW(params=RNN_classifier.parameters(), weight_decay=0.01, lr=0.0001)\n",
    "criterion = nn.BCEWithLogitsLoss()\n",
    "scheduler_RNN = optim.lr_scheduler.StepLR(optimizer_RNN, step_size=6, gamma=0.5)"
   ]
  },
  {
   "cell_type": "markdown",
   "id": "64d9f0db",
   "metadata": {},
   "source": [
    "#### Training"
   ]
  },
  {
   "cell_type": "code",
   "execution_count": 62,
   "id": "81a5e264",
   "metadata": {},
   "outputs": [
    {
     "name": "stderr",
     "output_type": "stream",
     "text": [
      "                                                                                       \r"
     ]
    },
    {
     "name": "stdout",
     "output_type": "stream",
     "text": [
      "[Epoch 1] Train Loss: 434.1469 || Val Loss: 108.7442 | Acc: 0.5198 | F1: 0.6631\n",
      "Best model saved at epoch 1 with F1: 0.6631\n"
     ]
    },
    {
     "name": "stderr",
     "output_type": "stream",
     "text": [
      "                                                                                       \r"
     ]
    },
    {
     "name": "stdout",
     "output_type": "stream",
     "text": [
      "[Epoch 2] Train Loss: 433.4260 || Val Loss: 108.7119 | Acc: 0.5182 | F1: 0.6647\n",
      "Best model saved at epoch 2 with F1: 0.6647\n"
     ]
    },
    {
     "name": "stderr",
     "output_type": "stream",
     "text": [
      "                                                                                       \r"
     ]
    },
    {
     "name": "stdout",
     "output_type": "stream",
     "text": [
      "[Epoch 3] Train Loss: 432.9168 || Val Loss: 108.5543 | Acc: 0.5230 | F1: 0.6128\n",
      "No improvement for 1 epochs (patience: 8)\n"
     ]
    },
    {
     "name": "stderr",
     "output_type": "stream",
     "text": [
      "                                                                                       \r"
     ]
    },
    {
     "name": "stdout",
     "output_type": "stream",
     "text": [
      "[Epoch 4] Train Loss: 430.3191 || Val Loss: 106.5040 | Acc: 0.5586 | F1: 0.3257\n",
      "No improvement for 2 epochs (patience: 8)\n"
     ]
    },
    {
     "name": "stderr",
     "output_type": "stream",
     "text": [
      "                                                                                       \r"
     ]
    },
    {
     "name": "stdout",
     "output_type": "stream",
     "text": [
      "[Epoch 5] Train Loss: 424.6905 || Val Loss: 106.2149 | Acc: 0.5624 | F1: 0.6574\n",
      "No improvement for 3 epochs (patience: 8)\n"
     ]
    },
    {
     "name": "stderr",
     "output_type": "stream",
     "text": [
      "                                                                                       \r"
     ]
    },
    {
     "name": "stdout",
     "output_type": "stream",
     "text": [
      "[Epoch 6] Train Loss: 416.1707 || Val Loss: 101.1763 | Acc: 0.6480 | F1: 0.5996\n",
      "No improvement for 4 epochs (patience: 8)\n"
     ]
    },
    {
     "name": "stderr",
     "output_type": "stream",
     "text": [
      "                                                                                       \r"
     ]
    },
    {
     "name": "stdout",
     "output_type": "stream",
     "text": [
      "[Epoch 7] Train Loss: 394.6468 || Val Loss: 98.9269 | Acc: 0.6834 | F1: 0.7056\n",
      "Best model saved at epoch 7 with F1: 0.7056\n"
     ]
    },
    {
     "name": "stderr",
     "output_type": "stream",
     "text": [
      "                                                                                       \r"
     ]
    },
    {
     "name": "stdout",
     "output_type": "stream",
     "text": [
      "[Epoch 8] Train Loss: 384.7902 || Val Loss: 96.0006 | Acc: 0.6898 | F1: 0.6787\n",
      "No improvement for 1 epochs (patience: 8)\n"
     ]
    },
    {
     "name": "stderr",
     "output_type": "stream",
     "text": [
      "                                                                                       \r"
     ]
    },
    {
     "name": "stdout",
     "output_type": "stream",
     "text": [
      "[Epoch 9] Train Loss: 380.7936 || Val Loss: 94.0186 | Acc: 0.7118 | F1: 0.7182\n",
      "Best model saved at epoch 9 with F1: 0.7182\n"
     ]
    },
    {
     "name": "stderr",
     "output_type": "stream",
     "text": [
      "                                                                                        \r"
     ]
    },
    {
     "name": "stdout",
     "output_type": "stream",
     "text": [
      "[Epoch 10] Train Loss: 372.8581 || Val Loss: 100.6150 | Acc: 0.6514 | F1: 0.5380\n",
      "No improvement for 1 epochs (patience: 8)\n"
     ]
    },
    {
     "name": "stderr",
     "output_type": "stream",
     "text": [
      "                                                                                        \r"
     ]
    },
    {
     "name": "stdout",
     "output_type": "stream",
     "text": [
      "[Epoch 11] Train Loss: 363.3256 || Val Loss: 92.4456 | Acc: 0.7178 | F1: 0.7379\n",
      "Best model saved at epoch 11 with F1: 0.7379\n"
     ]
    },
    {
     "name": "stderr",
     "output_type": "stream",
     "text": [
      "                                                                                        \r"
     ]
    },
    {
     "name": "stdout",
     "output_type": "stream",
     "text": [
      "[Epoch 12] Train Loss: 359.8965 || Val Loss: 93.4671 | Acc: 0.7104 | F1: 0.7469\n",
      "Best model saved at epoch 12 with F1: 0.7469\n"
     ]
    },
    {
     "name": "stderr",
     "output_type": "stream",
     "text": [
      "                                                                                        \r"
     ]
    },
    {
     "name": "stdout",
     "output_type": "stream",
     "text": [
      "[Epoch 13] Train Loss: 350.2609 || Val Loss: 90.6178 | Acc: 0.7278 | F1: 0.7333\n",
      "No improvement for 1 epochs (patience: 8)\n"
     ]
    },
    {
     "name": "stderr",
     "output_type": "stream",
     "text": [
      "                                                                                        \r"
     ]
    },
    {
     "name": "stdout",
     "output_type": "stream",
     "text": [
      "[Epoch 14] Train Loss: 348.1721 || Val Loss: 90.8949 | Acc: 0.7282 | F1: 0.7341\n",
      "No improvement for 2 epochs (patience: 8)\n"
     ]
    },
    {
     "name": "stderr",
     "output_type": "stream",
     "text": [
      "                                                                                        \r"
     ]
    },
    {
     "name": "stdout",
     "output_type": "stream",
     "text": [
      "[Epoch 15] Train Loss: 346.2965 || Val Loss: 91.2635 | Acc: 0.7280 | F1: 0.7518\n",
      "Best model saved at epoch 15 with F1: 0.7518\n"
     ]
    },
    {
     "name": "stderr",
     "output_type": "stream",
     "text": [
      "                                                                                        \r"
     ]
    },
    {
     "name": "stdout",
     "output_type": "stream",
     "text": [
      "[Epoch 16] Train Loss: 342.6432 || Val Loss: 92.2614 | Acc: 0.7210 | F1: 0.6910\n",
      "No improvement for 1 epochs (patience: 8)\n"
     ]
    },
    {
     "name": "stderr",
     "output_type": "stream",
     "text": [
      "                                                                                        \r"
     ]
    },
    {
     "name": "stdout",
     "output_type": "stream",
     "text": [
      "[Epoch 17] Train Loss: 345.1997 || Val Loss: 90.1630 | Acc: 0.7362 | F1: 0.7561\n",
      "Best model saved at epoch 17 with F1: 0.7561\n"
     ]
    },
    {
     "name": "stderr",
     "output_type": "stream",
     "text": [
      "                                                                                        \r"
     ]
    },
    {
     "name": "stdout",
     "output_type": "stream",
     "text": [
      "[Epoch 18] Train Loss: 341.5342 || Val Loss: 89.6570 | Acc: 0.7330 | F1: 0.7458\n",
      "No improvement for 1 epochs (patience: 8)\n"
     ]
    },
    {
     "name": "stderr",
     "output_type": "stream",
     "text": [
      "                                                                                        \r"
     ]
    },
    {
     "name": "stdout",
     "output_type": "stream",
     "text": [
      "[Epoch 19] Train Loss: 336.5033 || Val Loss: 88.9892 | Acc: 0.7430 | F1: 0.7435\n",
      "No improvement for 2 epochs (patience: 8)\n"
     ]
    },
    {
     "name": "stderr",
     "output_type": "stream",
     "text": [
      "                                                                                        \r"
     ]
    },
    {
     "name": "stdout",
     "output_type": "stream",
     "text": [
      "[Epoch 20] Train Loss: 330.9880 || Val Loss: 90.0775 | Acc: 0.7310 | F1: 0.7106\n",
      "No improvement for 3 epochs (patience: 8)\n"
     ]
    },
    {
     "name": "stderr",
     "output_type": "stream",
     "text": [
      "                                                                                        \r"
     ]
    },
    {
     "name": "stdout",
     "output_type": "stream",
     "text": [
      "[Epoch 21] Train Loss: 331.3738 || Val Loss: 88.5680 | Acc: 0.7458 | F1: 0.7555\n",
      "No improvement for 4 epochs (patience: 8)\n"
     ]
    },
    {
     "name": "stderr",
     "output_type": "stream",
     "text": [
      "                                                                                        \r"
     ]
    },
    {
     "name": "stdout",
     "output_type": "stream",
     "text": [
      "[Epoch 22] Train Loss: 331.6487 || Val Loss: 89.0754 | Acc: 0.7396 | F1: 0.7281\n",
      "No improvement for 5 epochs (patience: 8)\n"
     ]
    },
    {
     "name": "stderr",
     "output_type": "stream",
     "text": [
      "                                                                                        \r"
     ]
    },
    {
     "name": "stdout",
     "output_type": "stream",
     "text": [
      "[Epoch 23] Train Loss: 330.3389 || Val Loss: 88.6270 | Acc: 0.7436 | F1: 0.7391\n",
      "No improvement for 6 epochs (patience: 8)\n"
     ]
    },
    {
     "name": "stderr",
     "output_type": "stream",
     "text": [
      "                                                                                        \r"
     ]
    },
    {
     "name": "stdout",
     "output_type": "stream",
     "text": [
      "[Epoch 24] Train Loss: 328.9166 || Val Loss: 88.8201 | Acc: 0.7406 | F1: 0.7349\n",
      "No improvement for 7 epochs (patience: 8)\n"
     ]
    },
    {
     "name": "stderr",
     "output_type": "stream",
     "text": [
      "                                                                                        "
     ]
    },
    {
     "name": "stdout",
     "output_type": "stream",
     "text": [
      "[Epoch 25] Train Loss: 325.7122 || Val Loss: 88.7912 | Acc: 0.7406 | F1: 0.7343\n",
      "No improvement for 8 epochs (patience: 8)\n",
      "Early stopping at epoch 25. Best F1: 0.7561\n"
     ]
    },
    {
     "name": "stderr",
     "output_type": "stream",
     "text": [
      "\r"
     ]
    }
   ],
   "source": [
    "accuracy_metric = BinaryAccuracy().to(device)\n",
    "f1_metric = BinaryF1Score().to(device)\n",
    "\n",
    "best_f1 = 0\n",
    "patience = 8\n",
    "counter = 0\n",
    "epochs = 30\n",
    "\n",
    "for epoch in range(epochs):\n",
    "    RNN_classifier.train()\n",
    "    total_loss = 0\n",
    "\n",
    "    train_loop = tqdm(train_dataloader, desc=f'Epoch {epoch+1}/{epochs} [Training]', leave=False)\n",
    "    for batch in train_loop:\n",
    "        input_ids = batch[\"input_ids\"].to(device)\n",
    "        labels = batch[\"label\"].float().to(device)\n",
    "\n",
    "        optimizer_RNN.zero_grad()\n",
    "        outputs = RNN_classifier(input_ids)\n",
    "        loss = criterion(outputs.view(-1), labels)\n",
    "        loss.backward()\n",
    "\n",
    "        nn.utils.clip_grad_norm_(RNN_classifier.parameters(), max_norm=1.0)\n",
    "        optimizer_RNN.step()\n",
    "        \n",
    "        total_loss += loss.item()\n",
    "        train_loop.set_postfix(loss=loss.item())\n",
    "    \n",
    "    RNN_classifier.eval()\n",
    "    val_loss = 0\n",
    "    accuracy_metric.reset()\n",
    "    f1_metric.reset()\n",
    "\n",
    "    with torch.no_grad() :\n",
    "        val_loop = tqdm(val_dataloader, desc=f\"Epoch {epoch+1}/{epochs} [Validation]\", leave=False)\n",
    "        for batch in val_loop:\n",
    "            input_ids = batch[\"input_ids\"].to(device)\n",
    "            labels = batch[\"label\"].float().to(device)\n",
    "\n",
    "            outputs = RNN_classifier(input_ids)\n",
    "            loss = criterion(outputs.view(-1), labels)\n",
    "            val_loss += loss.item()\n",
    "\n",
    "            probs = torch.sigmoid(outputs)\n",
    "            preds = (probs > 0.5).float().view(-1)\n",
    "            accuracy_metric.update(preds, labels)\n",
    "            f1_metric.update(preds, labels)\n",
    "\n",
    "            val_loop.set_postfix(loss=loss.item())\n",
    "\n",
    "    \n",
    "    current_acc = accuracy_metric.compute().item()\n",
    "    current_f1 = f1_metric.compute().item()\n",
    "\n",
    "\n",
    "    print(f\"[Epoch {epoch+1}] Train Loss: {total_loss:.4f} || \"\n",
    "          f\"Val Loss: {val_loss:.4f} | Acc: {current_acc:.4f} | F1: {current_f1:.4f}\")\n",
    "    \n",
    "    \n",
    "    if current_f1 > best_f1:\n",
    "        best_f1 = current_f1\n",
    "        counter = 0\n",
    "        torch.save(RNN_classifier.state_dict(), \"./models/RNNC.pth\")\n",
    "        print(f\"Best model saved at epoch {epoch+1} with F1: {best_f1:.4f}\")\n",
    "    else:\n",
    "        counter += 1\n",
    "        print(f\"No improvement for {counter} epochs (patience: {patience})\")\n",
    "\n",
    "    if counter >= patience:\n",
    "        print(f\"Early stopping at epoch {epoch+1}. Best F1: {best_f1:.4f}\")\n",
    "        break\n",
    "    \n",
    "    scheduler_RNN.step()"
   ]
  },
  {
   "cell_type": "markdown",
   "id": "15498886",
   "metadata": {},
   "source": [
    "### Bidirectional RNN"
   ]
  },
  {
   "cell_type": "code",
   "execution_count": 63,
   "id": "082cff7b",
   "metadata": {},
   "outputs": [],
   "source": [
    "RNNB_classifier = RNNClassifier(bidirectional=True, num_layers=1).to(device)\n",
    "\n",
    "optimizer_RNNB = optim.AdamW(params=RNNB_classifier.parameters(), weight_decay=0.01, lr=0.0001)\n",
    "scheduler_RNNB = optim.lr_scheduler.StepLR(optimizer_RNNB, step_size=6, gamma=0.5)"
   ]
  },
  {
   "cell_type": "code",
   "execution_count": 64,
   "id": "4aa5631d",
   "metadata": {},
   "outputs": [
    {
     "name": "stderr",
     "output_type": "stream",
     "text": [
      "                                                                                       \r"
     ]
    },
    {
     "name": "stdout",
     "output_type": "stream",
     "text": [
      "[Epoch 1] Train Loss: 433.5778 || Val Loss: 108.6922 | Acc: 0.5144 | F1: 0.2584\n",
      "Best model saved at epoch 1 with F1: 0.2584\n"
     ]
    },
    {
     "name": "stderr",
     "output_type": "stream",
     "text": [
      "                                                                                       \r"
     ]
    },
    {
     "name": "stdout",
     "output_type": "stream",
     "text": [
      "[Epoch 2] Train Loss: 424.4302 || Val Loss: 102.4606 | Acc: 0.6228 | F1: 0.5230\n",
      "Best model saved at epoch 2 with F1: 0.5230\n"
     ]
    },
    {
     "name": "stderr",
     "output_type": "stream",
     "text": [
      "                                                                                       \r"
     ]
    },
    {
     "name": "stdout",
     "output_type": "stream",
     "text": [
      "[Epoch 3] Train Loss: 391.8431 || Val Loss: 93.2917 | Acc: 0.6980 | F1: 0.6814\n",
      "Best model saved at epoch 3 with F1: 0.6814\n"
     ]
    },
    {
     "name": "stderr",
     "output_type": "stream",
     "text": [
      "                                                                                       \r"
     ]
    },
    {
     "name": "stdout",
     "output_type": "stream",
     "text": [
      "[Epoch 4] Train Loss: 365.1130 || Val Loss: 88.8791 | Acc: 0.7240 | F1: 0.7258\n",
      "Best model saved at epoch 4 with F1: 0.7258\n"
     ]
    },
    {
     "name": "stderr",
     "output_type": "stream",
     "text": [
      "                                                                                       \r"
     ]
    },
    {
     "name": "stdout",
     "output_type": "stream",
     "text": [
      "[Epoch 5] Train Loss: 350.3474 || Val Loss: 90.9697 | Acc: 0.7190 | F1: 0.6877\n",
      "No improvement for 1 epochs (patience: 8)\n"
     ]
    },
    {
     "name": "stderr",
     "output_type": "stream",
     "text": [
      "                                                                                       \r"
     ]
    },
    {
     "name": "stdout",
     "output_type": "stream",
     "text": [
      "[Epoch 6] Train Loss: 340.0486 || Val Loss: 97.2945 | Acc: 0.6874 | F1: 0.7490\n",
      "Best model saved at epoch 6 with F1: 0.7490\n"
     ]
    },
    {
     "name": "stderr",
     "output_type": "stream",
     "text": [
      "                                                                                       \r"
     ]
    },
    {
     "name": "stdout",
     "output_type": "stream",
     "text": [
      "[Epoch 7] Train Loss: 316.8281 || Val Loss: 83.1818 | Acc: 0.7582 | F1: 0.7541\n",
      "Best model saved at epoch 7 with F1: 0.7541\n"
     ]
    },
    {
     "name": "stderr",
     "output_type": "stream",
     "text": [
      "                                                                                       \r"
     ]
    },
    {
     "name": "stdout",
     "output_type": "stream",
     "text": [
      "[Epoch 8] Train Loss: 311.2878 || Val Loss: 81.1475 | Acc: 0.7670 | F1: 0.7796\n",
      "Best model saved at epoch 8 with F1: 0.7796\n"
     ]
    },
    {
     "name": "stderr",
     "output_type": "stream",
     "text": [
      "                                                                                       \r"
     ]
    },
    {
     "name": "stdout",
     "output_type": "stream",
     "text": [
      "[Epoch 9] Train Loss: 304.1184 || Val Loss: 82.2032 | Acc: 0.7582 | F1: 0.7435\n",
      "No improvement for 1 epochs (patience: 8)\n"
     ]
    },
    {
     "name": "stderr",
     "output_type": "stream",
     "text": [
      "                                                                                        \r"
     ]
    },
    {
     "name": "stdout",
     "output_type": "stream",
     "text": [
      "[Epoch 10] Train Loss: 294.6797 || Val Loss: 80.3019 | Acc: 0.7726 | F1: 0.7616\n",
      "No improvement for 2 epochs (patience: 8)\n"
     ]
    },
    {
     "name": "stderr",
     "output_type": "stream",
     "text": [
      "                                                                                        \r"
     ]
    },
    {
     "name": "stdout",
     "output_type": "stream",
     "text": [
      "[Epoch 11] Train Loss: 289.1160 || Val Loss: 89.3533 | Acc: 0.7334 | F1: 0.7767\n",
      "No improvement for 3 epochs (patience: 8)\n"
     ]
    },
    {
     "name": "stderr",
     "output_type": "stream",
     "text": [
      "                                                                                        \r"
     ]
    },
    {
     "name": "stdout",
     "output_type": "stream",
     "text": [
      "[Epoch 12] Train Loss: 284.8179 || Val Loss: 82.8082 | Acc: 0.7626 | F1: 0.7916\n",
      "Best model saved at epoch 12 with F1: 0.7916\n"
     ]
    },
    {
     "name": "stderr",
     "output_type": "stream",
     "text": [
      "                                                                                        \r"
     ]
    },
    {
     "name": "stdout",
     "output_type": "stream",
     "text": [
      "[Epoch 13] Train Loss: 269.6122 || Val Loss: 79.4443 | Acc: 0.7788 | F1: 0.7620\n",
      "No improvement for 1 epochs (patience: 8)\n"
     ]
    },
    {
     "name": "stderr",
     "output_type": "stream",
     "text": [
      "                                                                                        \r"
     ]
    },
    {
     "name": "stdout",
     "output_type": "stream",
     "text": [
      "[Epoch 14] Train Loss: 263.7230 || Val Loss: 78.6448 | Acc: 0.7856 | F1: 0.7735\n",
      "No improvement for 2 epochs (patience: 8)\n"
     ]
    },
    {
     "name": "stderr",
     "output_type": "stream",
     "text": [
      "                                                                                        \r"
     ]
    },
    {
     "name": "stdout",
     "output_type": "stream",
     "text": [
      "[Epoch 15] Train Loss: 266.6774 || Val Loss: 76.7405 | Acc: 0.7912 | F1: 0.7823\n",
      "No improvement for 3 epochs (patience: 8)\n"
     ]
    },
    {
     "name": "stderr",
     "output_type": "stream",
     "text": [
      "                                                                                        \r"
     ]
    },
    {
     "name": "stdout",
     "output_type": "stream",
     "text": [
      "[Epoch 16] Train Loss: 260.1298 || Val Loss: 74.5005 | Acc: 0.7960 | F1: 0.7962\n",
      "Best model saved at epoch 16 with F1: 0.7962\n"
     ]
    },
    {
     "name": "stderr",
     "output_type": "stream",
     "text": [
      "                                                                                        \r"
     ]
    },
    {
     "name": "stdout",
     "output_type": "stream",
     "text": [
      "[Epoch 17] Train Loss: 254.2842 || Val Loss: 73.6521 | Acc: 0.7980 | F1: 0.8009\n",
      "Best model saved at epoch 17 with F1: 0.8009\n"
     ]
    },
    {
     "name": "stderr",
     "output_type": "stream",
     "text": [
      "                                                                                        \r"
     ]
    },
    {
     "name": "stdout",
     "output_type": "stream",
     "text": [
      "[Epoch 18] Train Loss: 252.8123 || Val Loss: 75.1023 | Acc: 0.7946 | F1: 0.7857\n",
      "No improvement for 1 epochs (patience: 8)\n"
     ]
    },
    {
     "name": "stderr",
     "output_type": "stream",
     "text": [
      "                                                                                        \r"
     ]
    },
    {
     "name": "stdout",
     "output_type": "stream",
     "text": [
      "[Epoch 19] Train Loss: 246.6700 || Val Loss: 73.8764 | Acc: 0.8014 | F1: 0.7987\n",
      "No improvement for 2 epochs (patience: 8)\n"
     ]
    },
    {
     "name": "stderr",
     "output_type": "stream",
     "text": [
      "                                                                                        \r"
     ]
    },
    {
     "name": "stdout",
     "output_type": "stream",
     "text": [
      "[Epoch 20] Train Loss: 243.7355 || Val Loss: 73.3433 | Acc: 0.8052 | F1: 0.8086\n",
      "Best model saved at epoch 20 with F1: 0.8086\n"
     ]
    },
    {
     "name": "stderr",
     "output_type": "stream",
     "text": [
      "                                                                                        \r"
     ]
    },
    {
     "name": "stdout",
     "output_type": "stream",
     "text": [
      "[Epoch 21] Train Loss: 241.8668 || Val Loss: 74.1553 | Acc: 0.7986 | F1: 0.7934\n",
      "No improvement for 1 epochs (patience: 8)\n"
     ]
    },
    {
     "name": "stderr",
     "output_type": "stream",
     "text": [
      "                                                                                        \r"
     ]
    },
    {
     "name": "stdout",
     "output_type": "stream",
     "text": [
      "[Epoch 22] Train Loss: 239.8456 || Val Loss: 72.8273 | Acc: 0.8074 | F1: 0.8113\n",
      "Best model saved at epoch 22 with F1: 0.8113\n"
     ]
    },
    {
     "name": "stderr",
     "output_type": "stream",
     "text": [
      "                                                                                        \r"
     ]
    },
    {
     "name": "stdout",
     "output_type": "stream",
     "text": [
      "[Epoch 23] Train Loss: 238.0740 || Val Loss: 72.5066 | Acc: 0.8022 | F1: 0.8071\n",
      "No improvement for 1 epochs (patience: 8)\n"
     ]
    },
    {
     "name": "stderr",
     "output_type": "stream",
     "text": [
      "                                                                                        \r"
     ]
    },
    {
     "name": "stdout",
     "output_type": "stream",
     "text": [
      "[Epoch 24] Train Loss: 236.9186 || Val Loss: 73.6435 | Acc: 0.8024 | F1: 0.7983\n",
      "No improvement for 2 epochs (patience: 8)\n"
     ]
    },
    {
     "name": "stderr",
     "output_type": "stream",
     "text": [
      "                                                                                        \r"
     ]
    },
    {
     "name": "stdout",
     "output_type": "stream",
     "text": [
      "[Epoch 25] Train Loss: 231.8213 || Val Loss: 75.7545 | Acc: 0.7982 | F1: 0.7891\n",
      "No improvement for 3 epochs (patience: 8)\n"
     ]
    },
    {
     "name": "stderr",
     "output_type": "stream",
     "text": [
      "                                                                                        \r"
     ]
    },
    {
     "name": "stdout",
     "output_type": "stream",
     "text": [
      "[Epoch 26] Train Loss: 230.9313 || Val Loss: 72.8234 | Acc: 0.8038 | F1: 0.8105\n",
      "No improvement for 4 epochs (patience: 8)\n"
     ]
    },
    {
     "name": "stderr",
     "output_type": "stream",
     "text": [
      "                                                                                        \r"
     ]
    },
    {
     "name": "stdout",
     "output_type": "stream",
     "text": [
      "[Epoch 27] Train Loss: 231.3760 || Val Loss: 72.3564 | Acc: 0.8054 | F1: 0.8074\n",
      "No improvement for 5 epochs (patience: 8)\n"
     ]
    },
    {
     "name": "stderr",
     "output_type": "stream",
     "text": [
      "                                                                                        \r"
     ]
    },
    {
     "name": "stdout",
     "output_type": "stream",
     "text": [
      "[Epoch 28] Train Loss: 227.9256 || Val Loss: 72.3401 | Acc: 0.8084 | F1: 0.8118\n",
      "Best model saved at epoch 28 with F1: 0.8118\n"
     ]
    },
    {
     "name": "stderr",
     "output_type": "stream",
     "text": [
      "                                                                                        \r"
     ]
    },
    {
     "name": "stdout",
     "output_type": "stream",
     "text": [
      "[Epoch 29] Train Loss: 228.8940 || Val Loss: 72.3593 | Acc: 0.8064 | F1: 0.8062\n",
      "No improvement for 1 epochs (patience: 8)\n"
     ]
    },
    {
     "name": "stderr",
     "output_type": "stream",
     "text": [
      "                                                                                        "
     ]
    },
    {
     "name": "stdout",
     "output_type": "stream",
     "text": [
      "[Epoch 30] Train Loss: 228.3804 || Val Loss: 71.9554 | Acc: 0.8096 | F1: 0.8122\n",
      "Best model saved at epoch 30 with F1: 0.8122\n"
     ]
    },
    {
     "name": "stderr",
     "output_type": "stream",
     "text": [
      "\r"
     ]
    }
   ],
   "source": [
    "accuracy_metric = BinaryAccuracy().to(device)\n",
    "f1_metric = BinaryF1Score().to(device)\n",
    "\n",
    "best_f1 = 0\n",
    "patience = 8\n",
    "counter = 0\n",
    "epochs = 30\n",
    "\n",
    "for epoch in range(epochs):\n",
    "    RNNB_classifier.train()\n",
    "    total_loss = 0\n",
    "\n",
    "    train_loop = tqdm(train_dataloader, desc=f'Epoch {epoch+1}/{epochs} [Training]', leave=False)\n",
    "    for batch in train_loop:\n",
    "        input_ids = batch[\"input_ids\"].to(device)\n",
    "        labels = batch[\"label\"].float().to(device)\n",
    "\n",
    "        optimizer_RNNB.zero_grad()\n",
    "        outputs = RNNB_classifier(input_ids)\n",
    "        loss = criterion(outputs.view(-1), labels)\n",
    "        loss.backward()\n",
    "\n",
    "        nn.utils.clip_grad_norm_(RNNB_classifier.parameters(), max_norm=1.0)\n",
    "        optimizer_RNNB.step()\n",
    "        \n",
    "        total_loss += loss.item()\n",
    "        train_loop.set_postfix(loss=loss.item())\n",
    "    \n",
    "    RNNB_classifier.eval()\n",
    "    val_loss = 0\n",
    "    accuracy_metric.reset()\n",
    "    f1_metric.reset()\n",
    "\n",
    "    with torch.no_grad() :\n",
    "        val_loop = tqdm(val_dataloader, desc=f\"Epoch {epoch+1}/{epochs} [Validation]\", leave=False)\n",
    "        for batch in val_loop:\n",
    "            input_ids = batch[\"input_ids\"].to(device)\n",
    "            labels = batch[\"label\"].float().to(device)\n",
    "\n",
    "            outputs = RNNB_classifier(input_ids)\n",
    "            loss = criterion(outputs.view(-1), labels)\n",
    "            val_loss += loss.item()\n",
    "\n",
    "            probs = torch.sigmoid(outputs)\n",
    "            preds = (probs > 0.5).float().view(-1)\n",
    "            accuracy_metric.update(preds, labels)\n",
    "            f1_metric.update(preds, labels)\n",
    "\n",
    "            val_loop.set_postfix(loss=loss.item())\n",
    "\n",
    "    \n",
    "    current_acc = accuracy_metric.compute().item()\n",
    "    current_f1 = f1_metric.compute().item()\n",
    "\n",
    "\n",
    "    print(f\"[Epoch {epoch+1}] Train Loss: {total_loss:.4f} || \"\n",
    "          f\"Val Loss: {val_loss:.4f} | Acc: {current_acc:.4f} | F1: {current_f1:.4f}\")\n",
    "    \n",
    "    \n",
    "    if current_f1 > best_f1:\n",
    "        best_f1 = current_f1\n",
    "        counter = 0\n",
    "        torch.save(RNNB_classifier.state_dict(), \"./models/RNNB.pth\")\n",
    "        print(f\"Best model saved at epoch {epoch+1} with F1: {best_f1:.4f}\")\n",
    "    else:\n",
    "        counter += 1\n",
    "        print(f\"No improvement for {counter} epochs (patience: {patience})\")\n",
    "\n",
    "    if counter >= patience:\n",
    "        print(f\"Early stopping at epoch {epoch+1}. Best F1: {best_f1:.4f}\")\n",
    "        break\n",
    "    \n",
    "    scheduler_RNNB.step()"
   ]
  },
  {
   "cell_type": "markdown",
   "id": "330e228a",
   "metadata": {},
   "source": [
    "### LSTM"
   ]
  },
  {
   "cell_type": "code",
   "execution_count": 69,
   "id": "6c7984be",
   "metadata": {},
   "outputs": [],
   "source": [
    "class LSTMClassifier(nn.Module):\n",
    "    def __init__(self, num_layers=1, pad_idx=0, bidirectional=True, hidden_dim=128):\n",
    "        super().__init__()\n",
    "        self.bidirectional = bidirectional\n",
    "        self.hidden_dim = hidden_dim\n",
    "\n",
    "        self.embedding = nn.Embedding.from_pretrained(\n",
    "            embeddings=glove_embeddings,\n",
    "            freeze=False,\n",
    "            padding_idx=pad_idx\n",
    "        )\n",
    "\n",
    "        self.lstm = nn.LSTM(\n",
    "            input_size=100,\n",
    "            hidden_size=hidden_dim,\n",
    "            num_layers=num_layers,\n",
    "            bidirectional=bidirectional,\n",
    "            batch_first=True,\n",
    "            dropout=0.5 if num_layers > 1 else 0.0\n",
    "        )\n",
    "\n",
    "        self.fc = nn.Sequential(\n",
    "            nn.Linear(hidden_dim * (2 if bidirectional else 1), 64),\n",
    "            nn.ReLU(),\n",
    "            nn.Dropout(0.5),\n",
    "            nn.Linear(64, 1)\n",
    "        )\n",
    "\n",
    "    def forward(self, x):\n",
    "        x = self.embedding(x)\n",
    "        output, _ = self.lstm(x)\n",
    "        \n",
    "        pooled = torch.mean(output, dim=1)\n",
    "\n",
    "        return self.fc(pooled)\n"
   ]
  },
  {
   "cell_type": "markdown",
   "id": "a226f1dd",
   "metadata": {},
   "source": [
    "#### Train"
   ]
  },
  {
   "cell_type": "code",
   "execution_count": 82,
   "id": "a9b437e8",
   "metadata": {},
   "outputs": [],
   "source": [
    "LSTM_classifier = LSTMClassifier(bidirectional=False, num_layers=2).to(device)\n",
    "\n",
    "optimizer_LSTM = optim.AdamW(params=LSTM_classifier.parameters(), weight_decay=0.01, lr=0.0005)\n",
    "scheduler_LSTM = optim.lr_scheduler.StepLR(optimizer_LSTM, step_size=4, gamma=0.5)"
   ]
  },
  {
   "cell_type": "code",
   "execution_count": 83,
   "id": "153391de",
   "metadata": {},
   "outputs": [
    {
     "name": "stderr",
     "output_type": "stream",
     "text": [
      "                                                                                       \r"
     ]
    },
    {
     "name": "stdout",
     "output_type": "stream",
     "text": [
      "[Epoch 1] Train Loss: 359.4121 || Val Loss: 67.8570 | Acc: 0.8060 | F1: 0.8071\n",
      "Best model saved at epoch 1 with F1: 0.8071\n"
     ]
    },
    {
     "name": "stderr",
     "output_type": "stream",
     "text": [
      "                                                                                        \r"
     ]
    },
    {
     "name": "stdout",
     "output_type": "stream",
     "text": [
      "[Epoch 2] Train Loss: 244.4570 || Val Loss: 57.7111 | Acc: 0.8566 | F1: 0.8622\n",
      "Best model saved at epoch 2 with F1: 0.8622\n"
     ]
    },
    {
     "name": "stderr",
     "output_type": "stream",
     "text": [
      "                                                                                        \r"
     ]
    },
    {
     "name": "stdout",
     "output_type": "stream",
     "text": [
      "[Epoch 3] Train Loss: 183.1084 || Val Loss: 51.1386 | Acc: 0.8698 | F1: 0.8682\n",
      "Best model saved at epoch 3 with F1: 0.8682\n"
     ]
    },
    {
     "name": "stderr",
     "output_type": "stream",
     "text": [
      "                                                                                       \r"
     ]
    },
    {
     "name": "stdout",
     "output_type": "stream",
     "text": [
      "[Epoch 4] Train Loss: 144.5476 || Val Loss: 49.2004 | Acc: 0.8652 | F1: 0.8609\n",
      "No improvement for 1 epochs (patience: 5)\n"
     ]
    },
    {
     "name": "stderr",
     "output_type": "stream",
     "text": [
      "                                                                                        \r"
     ]
    },
    {
     "name": "stdout",
     "output_type": "stream",
     "text": [
      "[Epoch 5] Train Loss: 104.0433 || Val Loss: 52.6560 | Acc: 0.8726 | F1: 0.8730\n",
      "Best model saved at epoch 5 with F1: 0.8730\n"
     ]
    },
    {
     "name": "stderr",
     "output_type": "stream",
     "text": [
      "                                                                                       \r"
     ]
    },
    {
     "name": "stdout",
     "output_type": "stream",
     "text": [
      "[Epoch 6] Train Loss: 87.3315 || Val Loss: 61.8233 | Acc: 0.8758 | F1: 0.8803\n",
      "Best model saved at epoch 6 with F1: 0.8803\n"
     ]
    },
    {
     "name": "stderr",
     "output_type": "stream",
     "text": [
      "                                                                                        \r"
     ]
    },
    {
     "name": "stdout",
     "output_type": "stream",
     "text": [
      "[Epoch 7] Train Loss: 72.2426 || Val Loss: 66.4895 | Acc: 0.8736 | F1: 0.8787\n",
      "No improvement for 1 epochs (patience: 5)\n"
     ]
    },
    {
     "name": "stderr",
     "output_type": "stream",
     "text": [
      "                                                                                         \r"
     ]
    },
    {
     "name": "stdout",
     "output_type": "stream",
     "text": [
      "[Epoch 8] Train Loss: 58.7923 || Val Loss: 75.4660 | Acc: 0.8698 | F1: 0.8684\n",
      "No improvement for 2 epochs (patience: 5)\n"
     ]
    },
    {
     "name": "stderr",
     "output_type": "stream",
     "text": [
      "                                                                                       \r"
     ]
    },
    {
     "name": "stdout",
     "output_type": "stream",
     "text": [
      "[Epoch 9] Train Loss: 41.3751 || Val Loss: 88.4391 | Acc: 0.8658 | F1: 0.8734\n",
      "No improvement for 3 epochs (patience: 5)\n"
     ]
    },
    {
     "name": "stderr",
     "output_type": "stream",
     "text": [
      "                                                                                         \r"
     ]
    },
    {
     "name": "stdout",
     "output_type": "stream",
     "text": [
      "[Epoch 10] Train Loss: 35.1479 || Val Loss: 108.5082 | Acc: 0.8574 | F1: 0.8505\n",
      "No improvement for 4 epochs (patience: 5)\n"
     ]
    },
    {
     "name": "stderr",
     "output_type": "stream",
     "text": [
      "                                                                                         "
     ]
    },
    {
     "name": "stdout",
     "output_type": "stream",
     "text": [
      "[Epoch 11] Train Loss: 30.9337 || Val Loss: 108.3245 | Acc: 0.8672 | F1: 0.8697\n",
      "No improvement for 5 epochs (patience: 5)\n",
      "Early stopping at epoch 11. Best F1: 0.8803\n"
     ]
    },
    {
     "name": "stderr",
     "output_type": "stream",
     "text": [
      "\r"
     ]
    }
   ],
   "source": [
    "accuracy_metric = BinaryAccuracy().to(device)\n",
    "f1_metric = BinaryF1Score().to(device)\n",
    "\n",
    "best_f1 = 0\n",
    "patience = 5\n",
    "counter = 0\n",
    "epochs = 30\n",
    "\n",
    "for epoch in range(epochs):\n",
    "    LSTM_classifier.train()\n",
    "    total_loss = 0\n",
    "\n",
    "    train_loop = tqdm(train_dataloader, desc=f'Epoch {epoch+1}/{epochs} [Training]', leave=False)\n",
    "    for batch in train_loop:\n",
    "        input_ids = batch[\"input_ids\"].to(device)\n",
    "        labels = batch[\"label\"].float().to(device)\n",
    "\n",
    "        optimizer_LSTM.zero_grad()\n",
    "        outputs = LSTM_classifier(input_ids)\n",
    "        loss = criterion(outputs.view(-1), labels)\n",
    "        loss.backward()\n",
    "\n",
    "        nn.utils.clip_grad_norm_(LSTM_classifier.parameters(), max_norm=1.0)\n",
    "        optimizer_LSTM.step()\n",
    "        \n",
    "        total_loss += loss.item()\n",
    "        train_loop.set_postfix(loss=loss.item())\n",
    "    \n",
    "    LSTM_classifier.eval()\n",
    "    val_loss = 0\n",
    "    accuracy_metric.reset()\n",
    "    f1_metric.reset()\n",
    "\n",
    "    with torch.no_grad() :\n",
    "        val_loop = tqdm(val_dataloader, desc=f\"Epoch {epoch+1}/{epochs} [Validation]\", leave=False)\n",
    "        for batch in val_loop:\n",
    "            input_ids = batch[\"input_ids\"].to(device)\n",
    "            labels = batch[\"label\"].float().to(device)\n",
    "\n",
    "            outputs = LSTM_classifier(input_ids)\n",
    "            loss = criterion(outputs.view(-1), labels)\n",
    "            val_loss += loss.item()\n",
    "\n",
    "            probs = torch.sigmoid(outputs)\n",
    "            preds = (probs > 0.5).float().view(-1)\n",
    "            accuracy_metric.update(preds, labels)\n",
    "            f1_metric.update(preds, labels)\n",
    "\n",
    "            val_loop.set_postfix(loss=loss.item())\n",
    "\n",
    "    \n",
    "    current_acc = accuracy_metric.compute().item()\n",
    "    current_f1 = f1_metric.compute().item()\n",
    "\n",
    "\n",
    "    print(f\"[Epoch {epoch+1}] Train Loss: {total_loss:.4f} || \"\n",
    "          f\"Val Loss: {val_loss:.4f} | Acc: {current_acc:.4f} | F1: {current_f1:.4f}\")\n",
    "    \n",
    "    \n",
    "    if current_f1 > best_f1:\n",
    "        best_f1 = current_f1\n",
    "        counter = 0\n",
    "        torch.save(LSTM_classifier.state_dict(), \"./models/LSTM.pth\")\n",
    "        print(f\"Best model saved at epoch {epoch+1} with F1: {best_f1:.4f}\")\n",
    "    else:\n",
    "        counter += 1\n",
    "        print(f\"No improvement for {counter} epochs (patience: {patience})\")\n",
    "\n",
    "    if counter >= patience:\n",
    "        print(f\"Early stopping at epoch {epoch+1}. Best F1: {best_f1:.4f}\")\n",
    "        break\n",
    "    \n",
    "    scheduler_LSTM.step()"
   ]
  },
  {
   "cell_type": "markdown",
   "id": "30542263",
   "metadata": {},
   "source": [
    "### Bidirectional LSTM"
   ]
  },
  {
   "cell_type": "code",
   "execution_count": 92,
   "id": "e664209c",
   "metadata": {},
   "outputs": [],
   "source": [
    "LSTMB_classifier = LSTMClassifier(bidirectional=True, num_layers=2).to(device)\n",
    "\n",
    "optimizer_LSTMB = optim.AdamW(params=LSTMB_classifier.parameters(), weight_decay=0.01, lr=0.0005)\n",
    "scheduler_LSTMB = optim.lr_scheduler.StepLR(optimizer_LSTMB, step_size=5, gamma=0.5)"
   ]
  },
  {
   "cell_type": "code",
   "execution_count": 93,
   "id": "a93adad8",
   "metadata": {},
   "outputs": [
    {
     "name": "stderr",
     "output_type": "stream",
     "text": [
      "                                                                                      \r"
     ]
    },
    {
     "name": "stdout",
     "output_type": "stream",
     "text": [
      "[Epoch 1] Train Loss: 339.3043 || Val Loss: 73.3860 | Acc: 0.7852 | F1: 0.8183\n",
      "Best model saved at epoch 1 with F1: 0.8183\n"
     ]
    },
    {
     "name": "stderr",
     "output_type": "stream",
     "text": [
      "                                                                                       \r"
     ]
    },
    {
     "name": "stdout",
     "output_type": "stream",
     "text": [
      "[Epoch 2] Train Loss: 211.7106 || Val Loss: 51.3650 | Acc: 0.8630 | F1: 0.8609\n",
      "Best model saved at epoch 2 with F1: 0.8609\n"
     ]
    },
    {
     "name": "stderr",
     "output_type": "stream",
     "text": [
      "                                                                                      \r"
     ]
    },
    {
     "name": "stdout",
     "output_type": "stream",
     "text": [
      "[Epoch 3] Train Loss: 166.5329 || Val Loss: 58.4709 | Acc: 0.8402 | F1: 0.8231\n",
      "No improvement for 1 epochs (patience: 5)\n"
     ]
    },
    {
     "name": "stderr",
     "output_type": "stream",
     "text": [
      "                                                                                       \r"
     ]
    },
    {
     "name": "stdout",
     "output_type": "stream",
     "text": [
      "[Epoch 4] Train Loss: 133.0398 || Val Loss: 51.9453 | Acc: 0.8736 | F1: 0.8714\n",
      "Best model saved at epoch 4 with F1: 0.8714\n"
     ]
    },
    {
     "name": "stderr",
     "output_type": "stream",
     "text": [
      "                                                                                       \r"
     ]
    },
    {
     "name": "stdout",
     "output_type": "stream",
     "text": [
      "[Epoch 5] Train Loss: 98.3676 || Val Loss: 53.3573 | Acc: 0.8726 | F1: 0.8724\n",
      "Best model saved at epoch 5 with F1: 0.8724\n"
     ]
    },
    {
     "name": "stderr",
     "output_type": "stream",
     "text": [
      "                                                                                       \r"
     ]
    },
    {
     "name": "stdout",
     "output_type": "stream",
     "text": [
      "[Epoch 6] Train Loss: 64.3946 || Val Loss: 75.2889 | Acc: 0.8718 | F1: 0.8689\n",
      "No improvement for 1 epochs (patience: 5)\n"
     ]
    },
    {
     "name": "stderr",
     "output_type": "stream",
     "text": [
      "                                                                                        \r"
     ]
    },
    {
     "name": "stdout",
     "output_type": "stream",
     "text": [
      "[Epoch 7] Train Loss: 51.5596 || Val Loss: 82.3766 | Acc: 0.8644 | F1: 0.8644\n",
      "No improvement for 2 epochs (patience: 5)\n"
     ]
    },
    {
     "name": "stderr",
     "output_type": "stream",
     "text": [
      "                                                                                        \r"
     ]
    },
    {
     "name": "stdout",
     "output_type": "stream",
     "text": [
      "[Epoch 8] Train Loss: 39.7101 || Val Loss: 95.2316 | Acc: 0.8660 | F1: 0.8648\n",
      "No improvement for 3 epochs (patience: 5)\n"
     ]
    },
    {
     "name": "stderr",
     "output_type": "stream",
     "text": [
      "                                                                                       \r"
     ]
    },
    {
     "name": "stdout",
     "output_type": "stream",
     "text": [
      "[Epoch 9] Train Loss: 28.7080 || Val Loss: 151.7306 | Acc: 0.8326 | F1: 0.8129\n",
      "No improvement for 4 epochs (patience: 5)\n"
     ]
    },
    {
     "name": "stderr",
     "output_type": "stream",
     "text": [
      "                                                                                          "
     ]
    },
    {
     "name": "stdout",
     "output_type": "stream",
     "text": [
      "[Epoch 10] Train Loss: 23.3967 || Val Loss: 134.6630 | Acc: 0.8644 | F1: 0.8692\n",
      "No improvement for 5 epochs (patience: 5)\n",
      "Early stopping at epoch 10. Best F1: 0.8724\n"
     ]
    },
    {
     "name": "stderr",
     "output_type": "stream",
     "text": [
      "\r"
     ]
    }
   ],
   "source": [
    "accuracy_metric = BinaryAccuracy().to(device)\n",
    "f1_metric = BinaryF1Score().to(device)\n",
    "\n",
    "best_f1 = 0\n",
    "patience = 5\n",
    "counter = 0\n",
    "epochs = 30\n",
    "\n",
    "for epoch in range(epochs):\n",
    "    LSTMB_classifier.train()\n",
    "    total_loss = 0\n",
    "\n",
    "    train_loop = tqdm(train_dataloader, desc=f'Epoch {epoch+1}/{epochs} [Training]', leave=False)\n",
    "    for batch in train_loop:\n",
    "        input_ids = batch[\"input_ids\"].to(device)\n",
    "        labels = batch[\"label\"].float().to(device)\n",
    "\n",
    "        optimizer_LSTMB.zero_grad()\n",
    "        outputs = LSTMB_classifier(input_ids)\n",
    "        loss = criterion(outputs.view(-1), labels)\n",
    "        loss.backward()\n",
    "\n",
    "        nn.utils.clip_grad_norm_(LSTMB_classifier.parameters(), max_norm=1.0)\n",
    "        optimizer_LSTMB.step()\n",
    "        \n",
    "        total_loss += loss.item()\n",
    "        train_loop.set_postfix(loss=loss.item())\n",
    "    \n",
    "    LSTMB_classifier.eval()\n",
    "    val_loss = 0\n",
    "    accuracy_metric.reset()\n",
    "    f1_metric.reset()\n",
    "\n",
    "    with torch.no_grad() :\n",
    "        val_loop = tqdm(val_dataloader, desc=f\"Epoch {epoch+1}/{epochs} [Validation]\", leave=False)\n",
    "        for batch in val_loop:\n",
    "            input_ids = batch[\"input_ids\"].to(device)\n",
    "            labels = batch[\"label\"].float().to(device)\n",
    "\n",
    "            outputs = LSTMB_classifier(input_ids)\n",
    "            loss = criterion(outputs.view(-1), labels)\n",
    "            val_loss += loss.item()\n",
    "\n",
    "            probs = torch.sigmoid(outputs)\n",
    "            preds = (probs > 0.5).float().view(-1)\n",
    "            accuracy_metric.update(preds, labels)\n",
    "            f1_metric.update(preds, labels)\n",
    "\n",
    "            val_loop.set_postfix(loss=loss.item())\n",
    "\n",
    "    \n",
    "    current_acc = accuracy_metric.compute().item()\n",
    "    current_f1 = f1_metric.compute().item()\n",
    "\n",
    "\n",
    "    print(f\"[Epoch {epoch+1}] Train Loss: {total_loss:.4f} || \"\n",
    "          f\"Val Loss: {val_loss:.4f} | Acc: {current_acc:.4f} | F1: {current_f1:.4f}\")\n",
    "    \n",
    "    \n",
    "    if current_f1 > best_f1:\n",
    "        best_f1 = current_f1\n",
    "        counter = 0\n",
    "        torch.save(LSTMB_classifier.state_dict(), \"./models/LSTMB.pth\")\n",
    "        print(f\"Best model saved at epoch {epoch+1} with F1: {best_f1:.4f}\")\n",
    "    else:\n",
    "        counter += 1\n",
    "        print(f\"No improvement for {counter} epochs (patience: {patience})\")\n",
    "\n",
    "    if counter >= patience:\n",
    "        print(f\"Early stopping at epoch {epoch+1}. Best F1: {best_f1:.4f}\")\n",
    "        break\n",
    "    \n",
    "    scheduler_LSTMB.step()"
   ]
  },
  {
   "cell_type": "markdown",
   "id": "c68e3ade",
   "metadata": {},
   "source": [
    "#### Load Models"
   ]
  },
  {
   "cell_type": "code",
   "execution_count": 96,
   "id": "4a72ea7b",
   "metadata": {},
   "outputs": [
    {
     "data": {
      "text/plain": [
       "<All keys matched successfully>"
      ]
     },
     "execution_count": 96,
     "metadata": {},
     "output_type": "execute_result"
    }
   ],
   "source": [
    "RNN_classifier.load_state_dict(torch.load(\"./models/RNNC.pth\"))\n",
    "RNNB_classifier.load_state_dict(torch.load(\"./models/RNNB.pth\"))\n",
    "LSTM_classifier.load_state_dict(torch.load(\"./models/LSTM.pth\"))\n",
    "LSTMB_classifier.load_state_dict(torch.load(\"./models/LSTMB.pth\"))"
   ]
  },
  {
   "cell_type": "markdown",
   "id": "ecd06c20",
   "metadata": {},
   "source": [
    "### Test"
   ]
  },
  {
   "cell_type": "code",
   "execution_count": 100,
   "id": "26d5bbaa",
   "metadata": {},
   "outputs": [],
   "source": [
    "def create_heatmap(confusion_matrix) :\n",
    "    plt.figure(figsize=(12, 7))\n",
    "    sns.heatmap(confusion_matrix.compute().to('cpu'),\n",
    "                annot=True, \n",
    "                fmt='d', \n",
    "                cmap='Blues', \n",
    "                linewidths=0.5, \n",
    "                square=True, \n",
    "                cbar_kws={\"shrink\": 0.75}\n",
    "    )\n",
    "\n",
    "\n",
    "    plt.title(\"Confusion Matrix\", fontsize=16)\n",
    "    plt.xlabel(\"Predicted Labels\", fontsize=14)\n",
    "    plt.ylabel(\"True Labels\", fontsize=14)\n",
    "    plt.xticks(fontsize=12)\n",
    "    plt.yticks(fontsize=12)\n",
    "    plt.tight_layout()\n",
    "    plt.show()"
   ]
  },
  {
   "cell_type": "code",
   "execution_count": 101,
   "id": "527f064e",
   "metadata": {},
   "outputs": [],
   "source": [
    "def Test_verification(model):\n",
    "    accuracy_metric_test = BinaryAccuracy().to(device)\n",
    "    f1_metric_test = BinaryF1Score().to(device)\n",
    "    CF = BinaryConfusionMatrix().to(device)\n",
    "\n",
    "    model.eval()\n",
    "    with torch.no_grad():\n",
    "        val_loop = tqdm(test_dataloader, desc=\"Test [Evaluation]\", leave=False)\n",
    "        for batch in val_loop:\n",
    "            input_ids = batch[\"input_ids\"].to(device)\n",
    "            labels = batch[\"label\"].float().to(device)\n",
    "\n",
    "            outputs = model(input_ids)\n",
    "            probs = torch.sigmoid(outputs)\n",
    "            preds = (probs > 0.5).float().squeeze(1)\n",
    "\n",
    "            accuracy_metric_test.update(preds, labels)\n",
    "            f1_metric_test.update(preds, labels)\n",
    "            CF.update(preds, labels)\n",
    "\n",
    "    print(f\"Test F1: {f1_metric_test.compute().item():.4f}\")\n",
    "    print(f\"Test Accuracy: {accuracy_metric_test.compute().item():.4f}\")\n",
    "\n",
    "    create_heatmap(CF)"
   ]
  },
  {
   "cell_type": "code",
   "execution_count": 102,
   "id": "4a67e5ad",
   "metadata": {},
   "outputs": [
    {
     "name": "stderr",
     "output_type": "stream",
     "text": [
      "                                                                     \r"
     ]
    },
    {
     "name": "stdout",
     "output_type": "stream",
     "text": [
      "Test F1: 0.7510\n",
      "Test Accuracy: 0.7340\n"
     ]
    },
    {
     "data": {
      "image/png": "[encoded data removed]",
      "text/plain": [
       "<Figure size 1200x700 with 2 Axes>"
      ]
     },
     "metadata": {},
     "output_type": "display_data"
    }
   ],
   "source": [
    "Test_verification(RNN_classifier)"
   ]
  },
  {
   "cell_type": "code",
   "execution_count": 103,
   "id": "8724a389",
   "metadata": {},
   "outputs": [
    {
     "name": "stderr",
     "output_type": "stream",
     "text": [
      "                                                                     \r"
     ]
    },
    {
     "name": "stdout",
     "output_type": "stream",
     "text": [
      "Test F1: 0.7957\n",
      "Test Accuracy: 0.7964\n"
     ]
    },
    {
     "data": {
      "image/png": "[encoded data removed]",
      "text/plain": [
       "<Figure size 1200x700 with 2 Axes>"
      ]
     },
     "metadata": {},
     "output_type": "display_data"
    }
   ],
   "source": [
    "Test_verification(RNNB_classifier)"
   ]
  },
  {
   "cell_type": "code",
   "execution_count": 104,
   "id": "6cb680ad",
   "metadata": {},
   "outputs": [
    {
     "name": "stderr",
     "output_type": "stream",
     "text": [
      "                                                                     \r"
     ]
    },
    {
     "name": "stdout",
     "output_type": "stream",
     "text": [
      "Test F1: 0.8532\n",
      "Test Accuracy: 0.8509\n"
     ]
    },
    {
     "data": {
      "image/png": "[encoded data removed]",
      "text/plain": [
       "<Figure size 1200x700 with 2 Axes>"
      ]
     },
     "metadata": {},
     "output_type": "display_data"
    }
   ],
   "source": [
    "Test_verification(LSTM_classifier)"
   ]
  },
  {
   "cell_type": "code",
   "execution_count": 105,
   "id": "4e297066",
   "metadata": {},
   "outputs": [
    {
     "name": "stderr",
     "output_type": "stream",
     "text": [
      "                                                                    \r"
     ]
    },
    {
     "name": "stdout",
     "output_type": "stream",
     "text": [
      "Test F1: 0.8510\n",
      "Test Accuracy: 0.8558\n"
     ]
    },
    {
     "data": {
      "image/png": "[encoded data removed]",
      "text/plain": [
       "<Figure size 1200x700 with 2 Axes>"
      ]
     },
     "metadata": {},
     "output_type": "display_data"
    }
   ],
   "source": [
    "Test_verification(LSTMB_classifier)"
   ]
  },
  {
   "cell_type": "markdown",
   "id": "c9d30673",
   "metadata": {},
   "source": [
    "# 📊 Model Training Results\n",
    "\n",
    "## 🔹 Model 1: **RNN**\n",
    "\n",
    "| Epoch | Train Loss | Val Loss | Accuracy | F1 Score | Note                 |\n",
    "| ----- | ---------- | -------- | -------- | -------- | -------------------- |\n",
    "| 1     | 434.1469   | 108.7442 | 0.5198   | 0.6631   | ✅ Best model         |\n",
    "| 2     | 433.4260   | 108.7119 | 0.5182   | 0.6647   | ✅ Best model         |\n",
    "| 3     | 432.9168   | 108.5543 | 0.5230   | 0.6128   | No improvement       |\n",
    "| 7     | 394.6468   | 98.9269  | 0.6834   | 0.7056   | ✅ Best model         |\n",
    "| 9     | 380.7936   | 94.0186  | 0.7118   | 0.7182   | ✅ Best model         |\n",
    "| 11    | 363.3256   | 92.4456  | 0.7178   | 0.7379   | ✅ Best model         |\n",
    "| 12    | 359.8965   | 93.4671  | 0.7104   | 0.7469   | ✅ Best model         |\n",
    "| 15    | 346.2965   | 91.2635  | 0.7280   | 0.7518   | ✅ Best model         |\n",
    "| 17    | 345.1997   | 90.1630  | 0.7362   | 0.7561   | ✅ Best model (Final) |\n",
    "\n",
    "**🛑 Early Stopping at Epoch 25**\n",
    "✅ **Best F1:** 0.7561\n",
    "✅ **Test F1:** 0.7510\n",
    "✅ **Test Accuracy:** 0.7340\n",
    "\n",
    "---\n",
    "\n",
    "## 🔹 Model 2: **RNN (Bidirectional)**\n",
    "\n",
    "| Epoch | Train Loss | Val Loss | Accuracy | F1 Score | Note                 |\n",
    "| ----- | ---------- | -------- | -------- | -------- | -------------------- |\n",
    "| 1     | 433.5778   | 108.6922 | 0.5144   | 0.2584   | ✅ Best model         |\n",
    "| 2     | 424.4302   | 102.4606 | 0.6228   | 0.5230   | ✅ Best model         |\n",
    "| 3     | 391.8431   | 93.2917  | 0.6980   | 0.6814   | ✅ Best model         |\n",
    "| 4     | 365.1130   | 88.8791  | 0.7240   | 0.7258   | ✅ Best model         |\n",
    "| 6     | 340.0486   | 97.2945  | 0.6874   | 0.7490   | ✅ Best model         |\n",
    "| 7     | 316.8281   | 83.1818  | 0.7582   | 0.7541   | ✅ Best model         |\n",
    "| 8     | 311.2878   | 81.1475  | 0.7670   | 0.7796   | ✅ Best model         |\n",
    "| 12    | 284.8179   | 82.8082  | 0.7626   | 0.7916   | ✅ Best model         |\n",
    "| 16    | 260.1298   | 74.5005  | 0.7960   | 0.7962   | ✅ Best model         |\n",
    "| 17    | 254.2842   | 73.6521  | 0.7980   | 0.8009   | ✅ Best model         |\n",
    "| 20    | 243.7355   | 73.3433  | 0.8052   | 0.8086   | ✅ Best model         |\n",
    "| 22    | 239.8456   | 72.8273  | 0.8074   | 0.8113   | ✅ Best model         |\n",
    "| 28    | 227.9256   | 72.3401  | 0.8084   | 0.8118   | ✅ Best model         |\n",
    "| 30    | 228.3804   | 71.9554  | 0.8096   | 0.8122   | ✅ Best model (Final) |\n",
    "\n",
    "✅ **Best F1:** 0.8122\n",
    "✅ **Test F1:** 0.7957\n",
    "✅ **Test Accuracy:** 0.7964\n",
    "\n",
    "---\n",
    "\n",
    "## 🔹 Model 3: **LSTM**\n",
    "\n",
    "| Epoch | Train Loss | Val Loss | Accuracy | F1 Score | Note                 |\n",
    "| ----- | ---------- | -------- | -------- | -------- | -------------------- |\n",
    "| 1     | 359.4121   | 67.8570  | 0.8060   | 0.8071   | ✅ Best model         |\n",
    "| 2     | 244.4570   | 57.7111  | 0.8566   | 0.8622   | ✅ Best model         |\n",
    "| 3     | 183.1084   | 51.1386  | 0.8698   | 0.8682   | ✅ Best model         |\n",
    "| 5     | 104.0433   | 52.6560  | 0.8726   | 0.8730   | ✅ Best model         |\n",
    "| 6     | 87.3315    | 61.8233  | 0.8758   | 0.8803   | ✅ Best model (Final) |\n",
    "\n",
    "**🛑 Early Stopping at Epoch 11**\n",
    "✅ **Best F1:** 0.8803\n",
    "✅ **Test F1:** 0.8532\n",
    "✅ **Test Accuracy:** 0.8509\n",
    "\n",
    "---\n",
    "\n",
    "## 🔹 Model 4: **LSTM (Bidirectional)**\n",
    "\n",
    "| Epoch | Train Loss | Val Loss | Accuracy | F1 Score | Note         |\n",
    "| ----- | ---------- | -------- | -------- | -------- | ------------ |\n",
    "| 1     | 339.3043   | 73.3860  | 0.7852   | 0.8183   | ✅ Best model |\n",
    "| 2     | 211.7106   | 51.3650  | 0.8630   | 0.8609   | ✅ Best model |\n",
    "| 4     | 133.0398   | 51.9453  | 0.8736   | 0.8714   | ✅ Best model |\n",
    "| 5     | 98.3676    | 53.3573  | 0.8726   | 0.8724   | ✅ Best model |\n",
    "\n",
    "*(Training stopped early after F1 declined for multiple epochs.)*\n",
    "\n",
    "---\n",
    "\n",
    "### 📊 **Model Comparison Summary**\n",
    "\n",
    "| Model                    | Best F1 | Test F1 | Test Accuracy | Convergence Speed    | Final Stability      |\n",
    "| ------------------------ | ------- | ------- | ------------- | -------------------- | -------------------- |\n",
    "| **RNN**                  | 0.7561  | 0.7510  | 0.7340        | Slow (25 epochs)     | Early stopping at 25 |\n",
    "| **RNN (Bidirectional)**  | 0.8122  | 0.7957  | 0.7964        | Moderate (30 epochs) | Gradual improvement  |\n",
    "| **LSTM**                 | 0.8803  | 0.8532  | 0.8509        | Fast (6 epochs)      | Early stopping at 11 |\n",
    "| **LSTM (Bidirectional)** | 0.8724  | 0.8510       | 0.8558             | Moderate (5 epochs)  | Early stopping at 10 |\n",
    "\n",
    "---\n",
    "\n",
    "### 🔍 **Observations**\n",
    "\n",
    "1. **Best Overall Performance:**\n",
    "   ✅ **LSTM (single direction)** achieved the **highest F1 (0.8803)** and **fastest convergence** (best epoch at 6).\n",
    "\n",
    "2. **Best Bidirectional Model:**\n",
    "   ✅ **Bidirectional LSTM** is slightly lower than LSTM in F1 but still better than RNN-based models.\n",
    "\n",
    "3. **RNN vs LSTM:**\n",
    "   🔻 Both **RNN models perform worse** in F1, accuracy, and convergence speed.\n",
    "   🔺 LSTM models **learn faster and generalize better**.\n",
    "\n",
    "4. **Bidirectional Benefit:**\n",
    "\n",
    "   * For RNN, **bidirectional improves performance significantly** (from 0.7561 → 0.8122 F1).\n",
    "   * For LSTM, **bidirectional does not outperform single LSTM**.\n",
    "\n",
    "---\n",
    "\n",
    "### 📈 **Ranking by Test F1 Score**\n",
    "\n",
    "1️⃣ **LSTM (0.8532)**\n",
    "2️⃣ **Bidirectional LSTM (\\~0.85, best F1 = 0.8724)**\n",
    "3️⃣ **Bidirectional RNN (0.7957)**\n",
    "4️⃣ **RNN (0.7510)**\n",
    "\n"
   ]
  }
 ],
 "metadata": {
  "kernelspec": {
   "display_name": "torch",
   "language": "python",
   "name": "python3"
  },
  "language_info": {
   "codemirror_mode": {
    "name": "ipython",
    "version": 3
   },
   "file_extension": ".py",
   "mimetype": "text/x-python",
   "name": "python",
   "nbconvert_exporter": "python",
   "pygments_lexer": "ipython3",
   "version": "3.10.18"
  }
 },
 "nbformat": 4,
 "nbformat_minor": 5
}
