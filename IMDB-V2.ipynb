{
 "cells": [
  {
   "cell_type": "code",
   "execution_count": 1,
   "id": "e773a70b",
   "metadata": {},
   "outputs": [],
   "source": [
    "import re\n",
    "\n",
    "import torch\n",
    "import torch.nn as nn\n",
    "import torch.optim as optim\n",
    "from torch.utils.data import TensorDataset, DataLoader\n",
    "import matplotlib.pyplot as plt\n",
    "import seaborn as sns\n",
    "from tqdm import tqdm\n",
    "\n",
    "from nltk.corpus import stopwords\n",
    "from bs4 import BeautifulSoup\n",
    "\n",
    "from datasets import load_dataset\n",
    "from sklearn.model_selection import train_test_split\n",
    "from torchmetrics.classification import BinaryAccuracy, BinaryF1Score, BinaryConfusionMatrix\n",
    "\n",
    "import numpy as np\n",
    "from collections import defaultdict\n",
    "\n",
    "from transformers import AutoTokenizer"
   ]
  },
  {
   "cell_type": "code",
   "execution_count": 2,
   "id": "bcfee395",
   "metadata": {},
   "outputs": [
    {
     "data": {
      "text/plain": [
       "device(type='cuda')"
      ]
     },
     "execution_count": 2,
     "metadata": {},
     "output_type": "execute_result"
    }
   ],
   "source": [
    "device = torch.device(\"cuda\" if torch.cuda.is_available() else \"cpu\")\n",
    "device"
   ]
  },
  {
   "cell_type": "markdown",
   "id": "2062d8f4",
   "metadata": {},
   "source": [
    "### Load dataset"
   ]
  },
  {
   "cell_type": "code",
   "execution_count": 3,
   "id": "4ee0d27c",
   "metadata": {},
   "outputs": [
    {
     "name": "stderr",
     "output_type": "stream",
     "text": [
      "Using the latest cached version of the dataset since imdb couldn't be found on the Hugging Face Hub\n",
      "Found the latest cached dataset configuration 'plain_text' at data\\imdb\\plain_text\\0.0.0\\e6281661ce1c48d982bc483cf8a173c1bbeb5d31 (last modified on Fri Jul 25 11:25:10 2025).\n"
     ]
    },
    {
     "data": {
      "text/plain": [
       "DatasetDict({\n",
       "    train: Dataset({\n",
       "        features: ['text', 'label'],\n",
       "        num_rows: 25000\n",
       "    })\n",
       "    test: Dataset({\n",
       "        features: ['text', 'label'],\n",
       "        num_rows: 25000\n",
       "    })\n",
       "    unsupervised: Dataset({\n",
       "        features: ['text', 'label'],\n",
       "        num_rows: 50000\n",
       "    })\n",
       "})"
      ]
     },
     "execution_count": 3,
     "metadata": {},
     "output_type": "execute_result"
    }
   ],
   "source": [
    "dataset = load_dataset(\"imdb\", cache_dir='./data')\n",
    "dataset"
   ]
  },
  {
   "cell_type": "code",
   "execution_count": 4,
   "id": "82889009",
   "metadata": {},
   "outputs": [
    {
     "data": {
      "text/plain": [
       "DatasetDict({\n",
       "    train: Dataset({\n",
       "        features: ['text', 'label'],\n",
       "        num_rows: 25000\n",
       "    })\n",
       "    test: Dataset({\n",
       "        features: ['text', 'label'],\n",
       "        num_rows: 25000\n",
       "    })\n",
       "})"
      ]
     },
     "execution_count": 4,
     "metadata": {},
     "output_type": "execute_result"
    }
   ],
   "source": [
    "dataset.pop(\"unsupervised\")\n",
    "dataset"
   ]
  },
  {
   "cell_type": "markdown",
   "id": "9d75f57b",
   "metadata": {},
   "source": [
    "### Find length of texts"
   ]
  },
  {
   "cell_type": "code",
   "execution_count": 5,
   "id": "4304abb4",
   "metadata": {},
   "outputs": [],
   "source": [
    "tokenizer = AutoTokenizer.from_pretrained(\"bert-base-uncased\")"
   ]
  },
  {
   "cell_type": "code",
   "execution_count": 6,
   "id": "c0e84d58",
   "metadata": {},
   "outputs": [
    {
     "name": "stderr",
     "output_type": "stream",
     "text": [
      "Token indices sequence length is longer than the specified maximum sequence length for this model (720 > 512). Running this sequence through the model will result in indexing errors\n"
     ]
    },
    {
     "data": {
      "image/png": "[encoded data removed]",
      "text/plain": [
       "<Figure size 640x480 with 1 Axes>"
      ]
     },
     "metadata": {},
     "output_type": "display_data"
    }
   ],
   "source": [
    "token_lens = []\n",
    "\n",
    "for sample in dataset[\"train\"][\"text\"]:\n",
    "    tokens = tokenizer.encode(sample, truncation=False)\n",
    "    token_lens.append(len(tokens))\n",
    "\n",
    "plt.hist(token_lens, bins=50)\n",
    "plt.xlabel(\"Token count\")\n",
    "plt.ylabel(\"Number of samples\")\n",
    "plt.title(\"Token Length Distribution in IMDb Train Set\")\n",
    "plt.show()\n"
   ]
  },
  {
   "cell_type": "markdown",
   "id": "49f13639",
   "metadata": {},
   "source": [
    "- we can use 256 for max length"
   ]
  },
  {
   "cell_type": "markdown",
   "id": "04738e12",
   "metadata": {},
   "source": [
    "### Preprocessing"
   ]
  },
  {
   "cell_type": "code",
   "execution_count": 7,
   "id": "59021ab3",
   "metadata": {},
   "outputs": [],
   "source": [
    "def clean_text(text):\n",
    "    text = BeautifulSoup(text, \"html.parser\").get_text()               # Remove HTML\n",
    "    text = re.sub(r\"\\[[^]]*\\]\", \"\", text)                              # Remove [brackets]\n",
    "    text = re.sub(r\"http\\S+\", \"\", text)                                # Remove URLs\n",
    "    text = re.sub(r\"[^a-zA-Z0-9\\s.,!?']\", \" \", text)                   # Remove special chars\n",
    "    text = re.sub(r\"\\s+\", \" \", text).strip()                           # Normalize whitespace\n",
    "    return text\n",
    "\n",
    "def clean_dataset(example):\n",
    "    example[\"text\"] = clean_text(example[\"text\"])\n",
    "    return example"
   ]
  },
  {
   "cell_type": "code",
   "execution_count": 8,
   "id": "296af1fb",
   "metadata": {},
   "outputs": [],
   "source": [
    "def tokenize_function(example):\n",
    "    return tokenizer(\n",
    "        example[\"text\"],\n",
    "        padding=\"max_length\",\n",
    "        truncation=True,\n",
    "        max_length=256\n",
    "    )"
   ]
  },
  {
   "cell_type": "code",
   "execution_count": 9,
   "id": "f604b8f7",
   "metadata": {},
   "outputs": [],
   "source": [
    "clean_datasets = dataset.map(clean_dataset)\n",
    "\n",
    "tokenized_datasets = clean_datasets.map(tokenize_function, batched=True)"
   ]
  },
  {
   "cell_type": "code",
   "execution_count": 10,
   "id": "680e22d7",
   "metadata": {},
   "outputs": [
    {
     "data": {
      "text/plain": [
       "DatasetDict({\n",
       "    train: Dataset({\n",
       "        features: ['text', 'label', 'input_ids', 'token_type_ids', 'attention_mask'],\n",
       "        num_rows: 25000\n",
       "    })\n",
       "    test: Dataset({\n",
       "        features: ['text', 'label', 'input_ids', 'token_type_ids', 'attention_mask'],\n",
       "        num_rows: 25000\n",
       "    })\n",
       "})"
      ]
     },
     "execution_count": 10,
     "metadata": {},
     "output_type": "execute_result"
    }
   ],
   "source": [
    "tokenized_datasets"
   ]
  },
  {
   "cell_type": "code",
   "execution_count": 11,
   "id": "70192793",
   "metadata": {},
   "outputs": [],
   "source": [
    "tokenized_datasets.set_format(\n",
    "    type=\"torch\",\n",
    "    columns=[\"input_ids\", \"label\"]\n",
    ")"
   ]
  },
  {
   "cell_type": "markdown",
   "id": "afcfa18a",
   "metadata": {},
   "source": [
    "### Split data"
   ]
  },
  {
   "cell_type": "code",
   "execution_count": 68,
   "id": "df85688e",
   "metadata": {},
   "outputs": [
    {
     "data": {
      "text/plain": [
       "DatasetDict({\n",
       "    train: Dataset({\n",
       "        features: ['text', 'label', 'input_ids', 'token_type_ids', 'attention_mask'],\n",
       "        num_rows: 20000\n",
       "    })\n",
       "    test: Dataset({\n",
       "        features: ['text', 'label', 'input_ids', 'token_type_ids', 'attention_mask'],\n",
       "        num_rows: 5000\n",
       "    })\n",
       "})"
      ]
     },
     "execution_count": 68,
     "metadata": {},
     "output_type": "execute_result"
    }
   ],
   "source": [
    "train = tokenized_datasets['train'].train_test_split(test_size=0.2)\n",
    "\n",
    "train"
   ]
  },
  {
   "cell_type": "code",
   "execution_count": 69,
   "id": "33d15364",
   "metadata": {},
   "outputs": [],
   "source": [
    "val = train['test']\n",
    "train = train['train']\n",
    "test = tokenized_datasets['test']"
   ]
  },
  {
   "cell_type": "markdown",
   "id": "d57f0997",
   "metadata": {},
   "source": [
    "### Dataloader"
   ]
  },
  {
   "cell_type": "code",
   "execution_count": 70,
   "id": "c6243b71",
   "metadata": {},
   "outputs": [],
   "source": [
    "train_dataloader = DataLoader(train, batch_size=32, shuffle=True)\n",
    "val_dataloader = DataLoader(val, batch_size=32)\n",
    "test_dataloader = DataLoader(test, batch_size=32)"
   ]
  },
  {
   "cell_type": "markdown",
   "id": "b372e9a3",
   "metadata": {},
   "source": [
    "### RNN model"
   ]
  },
  {
   "cell_type": "code",
   "execution_count": 106,
   "id": "19d85418",
   "metadata": {},
   "outputs": [],
   "source": [
    "class RNNC(nn.Module):\n",
    "    def __init__(self, embedding_dim, vocab_size, padding_idx,\n",
    "                 hidden_dim=128, num_layers=1, bidirectional=False, dropout=0.5):\n",
    "        super().__init__()\n",
    "        self.embedding = nn.Embedding(vocab_size, embedding_dim, padding_idx=padding_idx)\n",
    "        self.rnn = nn.RNN(embedding_dim, hidden_dim, num_layers=num_layers,\n",
    "                          batch_first=True, bidirectional=bidirectional, dropout=dropout if num_layers > 1 else 0)\n",
    "        \n",
    "        fc_input_dim = hidden_dim * (2 if bidirectional else 1)\n",
    "\n",
    "        self.fc = nn.Sequential(\n",
    "            nn.Linear(fc_input_dim, 256),\n",
    "            nn.ReLU(),\n",
    "            nn.Dropout(dropout),\n",
    "            nn.Linear(256, 1)\n",
    "        )\n",
    "\n",
    "    def forward(self, x):\n",
    "        embedded = self.embedding(x)\n",
    "        rnn_output, hidden = self.rnn(embedded)\n",
    "\n",
    "        if self.rnn.bidirectional:\n",
    "            forward = hidden[-2,:,:]\n",
    "            backward = hidden[-1,:,:]\n",
    "            last_hidden = torch.cat((forward, backward), dim=1)\n",
    "        else:\n",
    "            last_hidden = hidden[-1]\n",
    "\n",
    "        return self.fc(last_hidden)\n"
   ]
  },
  {
   "cell_type": "markdown",
   "id": "0325df63",
   "metadata": {},
   "source": [
    "### LSTM models"
   ]
  },
  {
   "cell_type": "code",
   "execution_count": 107,
   "id": "a7435576",
   "metadata": {},
   "outputs": [],
   "source": [
    "class LSTMC(nn.Module) :\n",
    "    def __init__(self, embedding_dim, vocab_size, padding_idx):\n",
    "        super().__init__()\n",
    "        self.embedding = nn.Embedding(vocab_size, embedding_dim, padding_idx=padding_idx)\n",
    "        self.lstm = nn.LSTM(embedding_dim, 128 , num_layers=2, bidirectional=False, batch_first=True, dropout=0.5)\n",
    "        self.FC = nn.Sequential(\n",
    "            nn.Linear(128, 256),\n",
    "            nn.ReLU(),\n",
    "            nn.Dropout(0.5),\n",
    "            nn.Linear(256, 1)\n",
    "        )\n",
    "\n",
    "    def forward(self, x) :\n",
    "        x = self.embedding(x)\n",
    "        output , (hidden, _) = self.lstm(x)\n",
    "        hidden = hidden[-1]\n",
    "        return self.FC(hidden)   "
   ]
  },
  {
   "cell_type": "code",
   "execution_count": 108,
   "id": "ab67669e",
   "metadata": {},
   "outputs": [],
   "source": [
    "class LSTMbidirectional(nn.Module) :\n",
    "    def __init__(self, embedding_dim, vocab_size, padding_idx):\n",
    "        super().__init__()\n",
    "        self.embedding = nn.Embedding(vocab_size, embedding_dim, padding_idx=padding_idx)\n",
    "        self.lstm = nn.LSTM(embedding_dim, 128 , num_layers=2, bidirectional=True, batch_first=True, dropout=0.5)\n",
    "        self.FC = nn.Sequential(\n",
    "            nn.Linear(128, 256),\n",
    "            nn.ReLU(),\n",
    "            nn.Dropout(0.5),\n",
    "            nn.Linear(256, 1)\n",
    "        )\n",
    "\n",
    "    def forward(self, x) :\n",
    "        x = self.embedding(x)\n",
    "        output , (hidden, _) = self.lstm(x)\n",
    "        hidden = torch.cat((hidden[-1], hidden[-2]), dim=1)\n",
    "        return self.FC(hidden)   "
   ]
  },
  {
   "cell_type": "code",
   "execution_count": 169,
   "id": "97fbd3f4",
   "metadata": {},
   "outputs": [],
   "source": [
    "RNNC_bidirectional = RNNC(embedding_dim=300, vocab_size=tokenizer.vocab_size, padding_idx=tokenizer.pad_token_id, bidirectional=True).to(device)\n",
    "RNN_classification = RNNC(embedding_dim=300, vocab_size=tokenizer.vocab_size, padding_idx=tokenizer.pad_token_id, bidirectional=False).to(device)\n",
    "\n",
    "LSTM_classification = LSTMC(embedding_dim=300, vocab_size=tokenizer.vocab_size, padding_idx=tokenizer.pad_token_id).to(device)\n",
    "LSTM_bidirectional = LSTMC(embedding_dim=300, vocab_size=tokenizer.vocab_size, padding_idx=tokenizer.pad_token_id).to(device)"
   ]
  },
  {
   "cell_type": "code",
   "execution_count": 170,
   "id": "4edd6e35",
   "metadata": {},
   "outputs": [],
   "source": [
    "criterion = nn.BCEWithLogitsLoss()\n",
    "\n",
    "optimizer_RNNB = optim.AdamW(RNNC_bidirectional.parameters(), lr=0.001)\n",
    "scheduler_RNNB = optim.lr_scheduler.StepLR(optimizer_RNNB, step_size=5, gamma=0.5)\n",
    "\n",
    "optimizer_RNNC = optim.AdamW(RNN_classification.parameters(), lr=0.001)\n",
    "scheduler_RNNC = optim.lr_scheduler.StepLR(optimizer_RNNC, step_size=5, gamma=0.5)\n",
    "\n",
    "optimizer_LSTMC = optim.AdamW(LSTM_classification.parameters(), lr=0.001)\n",
    "scheduler_LSTMC = optim.lr_scheduler.StepLR(optimizer_LSTMC, step_size=10, gamma=0.5)\n",
    "\n",
    "optimizer_LSTMB = optim.AdamW(LSTM_bidirectional.parameters(), lr=0.001)\n",
    "scheduler_LSTMB = optim.lr_scheduler.StepLR(optimizer_LSTMB, step_size=10, gamma=0.5)"
   ]
  },
  {
   "cell_type": "markdown",
   "id": "5763c77b",
   "metadata": {},
   "source": [
    "### Training"
   ]
  },
  {
   "cell_type": "markdown",
   "id": "3912a3a0",
   "metadata": {},
   "source": [
    "#### RNN"
   ]
  },
  {
   "cell_type": "code",
   "execution_count": 143,
   "id": "6424debd",
   "metadata": {},
   "outputs": [
    {
     "name": "stderr",
     "output_type": "stream",
     "text": [
      "Epoch 1/20 [Training]:   0%|          | 0/625 [00:00<?, ?it/s]"
     ]
    },
    {
     "name": "stderr",
     "output_type": "stream",
     "text": [
      "                                                                                       \r"
     ]
    },
    {
     "name": "stdout",
     "output_type": "stream",
     "text": [
      "[Epoch 1] Train Loss: 435.0708 || Val Loss: 109.1673 | Acc: 0.4966 | F1: 0.0210\n",
      "Best model saved at epoch 1 with F1: 0.0210\n"
     ]
    },
    {
     "name": "stderr",
     "output_type": "stream",
     "text": [
      "                                                                                       \r"
     ]
    },
    {
     "name": "stdout",
     "output_type": "stream",
     "text": [
      "[Epoch 2] Train Loss: 437.2120 || Val Loss: 108.8117 | Acc: 0.5074 | F1: 0.6168\n",
      "Best model saved at epoch 2 with F1: 0.6168\n"
     ]
    },
    {
     "name": "stderr",
     "output_type": "stream",
     "text": [
      "                                                                                       \r"
     ]
    },
    {
     "name": "stdout",
     "output_type": "stream",
     "text": [
      "[Epoch 3] Train Loss: 435.7052 || Val Loss: 109.8640 | Acc: 0.4948 | F1: 0.4288\n",
      "No improvement for 1 epochs (patience: 8)\n"
     ]
    },
    {
     "name": "stderr",
     "output_type": "stream",
     "text": [
      "                                                                                       \r"
     ]
    },
    {
     "name": "stdout",
     "output_type": "stream",
     "text": [
      "[Epoch 4] Train Loss: 435.3483 || Val Loss: 108.9654 | Acc: 0.5016 | F1: 0.5178\n",
      "No improvement for 2 epochs (patience: 8)\n"
     ]
    },
    {
     "name": "stderr",
     "output_type": "stream",
     "text": [
      "                                                                                       \r"
     ]
    },
    {
     "name": "stdout",
     "output_type": "stream",
     "text": [
      "[Epoch 5] Train Loss: 434.9687 || Val Loss: 109.0288 | Acc: 0.5020 | F1: 0.5120\n",
      "No improvement for 3 epochs (patience: 8)\n"
     ]
    },
    {
     "name": "stderr",
     "output_type": "stream",
     "text": [
      "                                                                                       \r"
     ]
    },
    {
     "name": "stdout",
     "output_type": "stream",
     "text": [
      "[Epoch 6] Train Loss: 433.8469 || Val Loss: 108.9165 | Acc: 0.4964 | F1: 0.4150\n",
      "No improvement for 4 epochs (patience: 8)\n"
     ]
    },
    {
     "name": "stderr",
     "output_type": "stream",
     "text": [
      "                                                                                       \r"
     ]
    },
    {
     "name": "stdout",
     "output_type": "stream",
     "text": [
      "[Epoch 7] Train Loss: 433.5892 || Val Loss: 108.7820 | Acc: 0.5044 | F1: 0.5617\n",
      "No improvement for 5 epochs (patience: 8)\n"
     ]
    },
    {
     "name": "stderr",
     "output_type": "stream",
     "text": [
      "                                                                                       \r"
     ]
    },
    {
     "name": "stdout",
     "output_type": "stream",
     "text": [
      "[Epoch 8] Train Loss: 433.6315 || Val Loss: 108.8186 | Acc: 0.4980 | F1: 0.5644\n",
      "No improvement for 6 epochs (patience: 8)\n"
     ]
    },
    {
     "name": "stderr",
     "output_type": "stream",
     "text": [
      "                                                                                       \r"
     ]
    },
    {
     "name": "stdout",
     "output_type": "stream",
     "text": [
      "[Epoch 9] Train Loss: 433.8661 || Val Loss: 108.7874 | Acc: 0.5126 | F1: 0.5782\n",
      "No improvement for 7 epochs (patience: 8)\n"
     ]
    },
    {
     "name": "stderr",
     "output_type": "stream",
     "text": [
      "                                                                                        "
     ]
    },
    {
     "name": "stdout",
     "output_type": "stream",
     "text": [
      "[Epoch 10] Train Loss: 434.1722 || Val Loss: 108.8942 | Acc: 0.4986 | F1: 0.2843\n",
      "No improvement for 8 epochs (patience: 8)\n",
      "Early stopping at epoch 10. Best F1: 0.6168\n"
     ]
    },
    {
     "name": "stderr",
     "output_type": "stream",
     "text": [
      "\r"
     ]
    }
   ],
   "source": [
    "accuracy_metric = BinaryAccuracy().to(device)\n",
    "f1_metric = BinaryF1Score().to(device)\n",
    "\n",
    "best_f1 = 0\n",
    "patience = 8\n",
    "counter = 0\n",
    "\n",
    "for epoch in range(20):\n",
    "    RNN_classification.train()\n",
    "    total_loss = 0\n",
    "\n",
    "    train_loop = tqdm(train_dataloader, desc=f'Epoch {epoch+1}/{20} [Training]', leave=False)\n",
    "    for batch in train_loop:\n",
    "        input_ids = batch[\"input_ids\"].to(device)\n",
    "        labels = batch[\"label\"].float().to(device)\n",
    "\n",
    "        optimizer_RNNC.zero_grad()\n",
    "        outputs = RNN_classification(input_ids)\n",
    "        loss = criterion(outputs.view(-1), labels)\n",
    "        loss.backward()\n",
    "\n",
    "        torch.nn.utils.clip_grad_norm_(RNN_classification.parameters(), max_norm=1.0)\n",
    "        optimizer_RNNC.step()\n",
    "        \n",
    "        total_loss += loss.item()\n",
    "        train_loop.set_postfix(loss=loss.item())\n",
    "    \n",
    "    RNN_classification.eval()\n",
    "    val_loss = 0\n",
    "    accuracy_metric.reset()\n",
    "    f1_metric.reset()\n",
    "\n",
    "    with torch.no_grad() :\n",
    "        val_loop = tqdm(val_dataloader, desc=f\"Epoch {epoch+1}/{20} [Validation]\", leave=False)\n",
    "        for batch in val_loop:\n",
    "            input_ids = batch[\"input_ids\"].to(device)\n",
    "            labels = batch[\"label\"].float().to(device)\n",
    "\n",
    "            outputs = RNN_classification(input_ids)\n",
    "            loss = criterion(outputs.view(-1), labels)\n",
    "            val_loss += loss.item()\n",
    "\n",
    "            probs = torch.sigmoid(outputs)\n",
    "            preds = (probs > 0.5).float().view(-1)\n",
    "            accuracy_metric.update(preds, labels)\n",
    "            f1_metric.update(preds, labels)\n",
    "\n",
    "            val_loop.set_postfix(loss=loss.item())\n",
    "\n",
    "    \n",
    "    current_acc = accuracy_metric.compute().item()\n",
    "    current_f1 = f1_metric.compute().item()\n",
    "\n",
    "\n",
    "    print(f\"[Epoch {epoch+1}] Train Loss: {total_loss:.4f} || \"\n",
    "          f\"Val Loss: {val_loss:.4f} | Acc: {current_acc:.4f} | F1: {current_f1:.4f}\")\n",
    "    \n",
    "    \n",
    "    if current_f1 > best_f1:\n",
    "        best_f1 = current_f1\n",
    "        counter = 0\n",
    "        torch.save(RNN_classification.state_dict(), \"./models/RNNC.pth\")\n",
    "        print(f\"Best model saved at epoch {epoch+1} with F1: {best_f1:.4f}\")\n",
    "    else:\n",
    "        counter += 1\n",
    "        print(f\"No improvement for {counter} epochs (patience: {patience})\")\n",
    "\n",
    "    if counter >= patience:\n",
    "        print(f\"Early stopping at epoch {epoch+1}. Best F1: {best_f1:.4f}\")\n",
    "        break\n",
    "    \n",
    "    scheduler_RNNC.step()"
   ]
  },
  {
   "cell_type": "code",
   "execution_count": 144,
   "id": "3b0cbc28",
   "metadata": {},
   "outputs": [
    {
     "name": "stderr",
     "output_type": "stream",
     "text": [
      "                                                                                       \r"
     ]
    },
    {
     "name": "stdout",
     "output_type": "stream",
     "text": [
      "[Epoch 1] Train Loss: 430.9971 || Val Loss: 105.4120 | Acc: 0.5962 | F1: 0.6500\n",
      "Best model saved at epoch 1 with F1: 0.6500\n"
     ]
    },
    {
     "name": "stderr",
     "output_type": "stream",
     "text": [
      "                                                                                       \r"
     ]
    },
    {
     "name": "stdout",
     "output_type": "stream",
     "text": [
      "[Epoch 2] Train Loss: 407.3956 || Val Loss: 100.9160 | Acc: 0.6372 | F1: 0.6235\n",
      "No improvement for 1 epochs (patience: 8)\n"
     ]
    },
    {
     "name": "stderr",
     "output_type": "stream",
     "text": [
      "                                                                                       \r"
     ]
    },
    {
     "name": "stdout",
     "output_type": "stream",
     "text": [
      "[Epoch 3] Train Loss: 367.1829 || Val Loss: 99.1579 | Acc: 0.6842 | F1: 0.6717\n",
      "Best model saved at epoch 3 with F1: 0.6717\n"
     ]
    },
    {
     "name": "stderr",
     "output_type": "stream",
     "text": [
      "                                                                                       \r"
     ]
    },
    {
     "name": "stdout",
     "output_type": "stream",
     "text": [
      "[Epoch 4] Train Loss: 325.9368 || Val Loss: 91.9093 | Acc: 0.7200 | F1: 0.7324\n",
      "Best model saved at epoch 4 with F1: 0.7324\n"
     ]
    },
    {
     "name": "stderr",
     "output_type": "stream",
     "text": [
      "                                                                                       \r"
     ]
    },
    {
     "name": "stdout",
     "output_type": "stream",
     "text": [
      "[Epoch 5] Train Loss: 291.3223 || Val Loss: 92.3192 | Acc: 0.7352 | F1: 0.7353\n",
      "Best model saved at epoch 5 with F1: 0.7353\n"
     ]
    },
    {
     "name": "stderr",
     "output_type": "stream",
     "text": [
      "                                                                                       \r"
     ]
    },
    {
     "name": "stdout",
     "output_type": "stream",
     "text": [
      "[Epoch 6] Train Loss: 242.6730 || Val Loss: 103.0991 | Acc: 0.7366 | F1: 0.7307\n",
      "No improvement for 1 epochs (patience: 8)\n"
     ]
    },
    {
     "name": "stderr",
     "output_type": "stream",
     "text": [
      "                                                                                       \r"
     ]
    },
    {
     "name": "stdout",
     "output_type": "stream",
     "text": [
      "[Epoch 7] Train Loss: 214.5883 || Val Loss: 101.1276 | Acc: 0.7184 | F1: 0.7174\n",
      "No improvement for 2 epochs (patience: 8)\n"
     ]
    },
    {
     "name": "stderr",
     "output_type": "stream",
     "text": [
      "                                                                                       \r"
     ]
    },
    {
     "name": "stdout",
     "output_type": "stream",
     "text": [
      "[Epoch 8] Train Loss: 190.2756 || Val Loss: 114.3085 | Acc: 0.7246 | F1: 0.7432\n",
      "Best model saved at epoch 8 with F1: 0.7432\n"
     ]
    },
    {
     "name": "stderr",
     "output_type": "stream",
     "text": [
      "                                                                                       \r"
     ]
    },
    {
     "name": "stdout",
     "output_type": "stream",
     "text": [
      "[Epoch 9] Train Loss: 168.9440 || Val Loss: 124.8621 | Acc: 0.7296 | F1: 0.7319\n",
      "No improvement for 1 epochs (patience: 8)\n"
     ]
    },
    {
     "name": "stderr",
     "output_type": "stream",
     "text": [
      "                                                                                        \r"
     ]
    },
    {
     "name": "stdout",
     "output_type": "stream",
     "text": [
      "[Epoch 10] Train Loss: 147.8653 || Val Loss: 116.1756 | Acc: 0.7304 | F1: 0.7349\n",
      "No improvement for 2 epochs (patience: 8)\n"
     ]
    },
    {
     "name": "stderr",
     "output_type": "stream",
     "text": [
      "                                                                                        \r"
     ]
    },
    {
     "name": "stdout",
     "output_type": "stream",
     "text": [
      "[Epoch 11] Train Loss: 120.9030 || Val Loss: 135.3164 | Acc: 0.7308 | F1: 0.7365\n",
      "No improvement for 3 epochs (patience: 8)\n"
     ]
    },
    {
     "name": "stderr",
     "output_type": "stream",
     "text": [
      "                                                                                        \r"
     ]
    },
    {
     "name": "stdout",
     "output_type": "stream",
     "text": [
      "[Epoch 12] Train Loss: 105.0870 || Val Loss: 141.3089 | Acc: 0.7280 | F1: 0.7275\n",
      "No improvement for 4 epochs (patience: 8)\n"
     ]
    },
    {
     "name": "stderr",
     "output_type": "stream",
     "text": [
      "                                                                                        \r"
     ]
    },
    {
     "name": "stdout",
     "output_type": "stream",
     "text": [
      "[Epoch 13] Train Loss: 95.0634 || Val Loss: 152.2265 | Acc: 0.7206 | F1: 0.7195\n",
      "No improvement for 5 epochs (patience: 8)\n"
     ]
    },
    {
     "name": "stderr",
     "output_type": "stream",
     "text": [
      "                                                                                        \r"
     ]
    },
    {
     "name": "stdout",
     "output_type": "stream",
     "text": [
      "[Epoch 14] Train Loss: 86.0364 || Val Loss: 152.6025 | Acc: 0.7256 | F1: 0.7309\n",
      "No improvement for 6 epochs (patience: 8)\n"
     ]
    },
    {
     "name": "stderr",
     "output_type": "stream",
     "text": [
      "                                                                                        \r"
     ]
    },
    {
     "name": "stdout",
     "output_type": "stream",
     "text": [
      "[Epoch 15] Train Loss: 77.0960 || Val Loss: 151.9437 | Acc: 0.7252 | F1: 0.7244\n",
      "No improvement for 7 epochs (patience: 8)\n"
     ]
    },
    {
     "name": "stderr",
     "output_type": "stream",
     "text": [
      "                                                                                        "
     ]
    },
    {
     "name": "stdout",
     "output_type": "stream",
     "text": [
      "[Epoch 16] Train Loss: 64.6346 || Val Loss: 175.3216 | Acc: 0.7224 | F1: 0.7277\n",
      "No improvement for 8 epochs (patience: 8)\n",
      "Early stopping at epoch 16. Best F1: 0.7432\n"
     ]
    },
    {
     "name": "stderr",
     "output_type": "stream",
     "text": [
      "\r"
     ]
    }
   ],
   "source": [
    "accuracy_metric = BinaryAccuracy().to(device)\n",
    "f1_metric = BinaryF1Score().to(device)\n",
    "\n",
    "best_f1 = 0\n",
    "patience = 8\n",
    "counter = 0\n",
    "\n",
    "for epoch in range(20):\n",
    "    RNNC_bidirectional.train()\n",
    "    total_loss = 0\n",
    "\n",
    "    train_loop = tqdm(train_dataloader, desc=f'Epoch {epoch+1}/{20} [Training]', leave=False)\n",
    "    for batch in train_loop:\n",
    "        input_ids = batch[\"input_ids\"].to(device)\n",
    "        labels = batch[\"label\"].float().to(device)\n",
    "\n",
    "        optimizer_RNNB.zero_grad()\n",
    "        outputs = RNNC_bidirectional(input_ids)\n",
    "        loss = criterion(outputs.view(-1), labels)\n",
    "        loss.backward()\n",
    "\n",
    "        torch.nn.utils.clip_grad_norm_(RNNC_bidirectional.parameters(), max_norm=1.0)\n",
    "        optimizer_RNNB.step()\n",
    "        \n",
    "        total_loss += loss.item()\n",
    "        train_loop.set_postfix(loss=loss.item())\n",
    "    \n",
    "    RNNC_bidirectional.eval()\n",
    "    val_loss = 0\n",
    "    accuracy_metric.reset()\n",
    "    f1_metric.reset()\n",
    "\n",
    "    with torch.no_grad() :\n",
    "        val_loop = tqdm(val_dataloader, desc=f\"Epoch {epoch+1}/{20} [Validation]\", leave=False)\n",
    "        for batch in val_loop:\n",
    "            input_ids = batch[\"input_ids\"].to(device)\n",
    "            labels = batch[\"label\"].float().to(device)\n",
    "\n",
    "            outputs = RNNC_bidirectional(input_ids)\n",
    "            loss = criterion(outputs.view(-1), labels)\n",
    "            val_loss += loss.item()\n",
    "\n",
    "            probs = torch.sigmoid(outputs)\n",
    "            preds = (probs > 0.5).float().view(-1)\n",
    "            accuracy_metric.update(preds, labels)\n",
    "            f1_metric.update(preds, labels)\n",
    "\n",
    "            val_loop.set_postfix(loss=loss.item())\n",
    "\n",
    "    \n",
    "    current_acc = accuracy_metric.compute().item()\n",
    "    current_f1 = f1_metric.compute().item()\n",
    "\n",
    "\n",
    "    print(f\"[Epoch {epoch+1}] Train Loss: {total_loss:.4f} || \"\n",
    "          f\"Val Loss: {val_loss:.4f} | Acc: {current_acc:.4f} | F1: {current_f1:.4f}\")\n",
    "    \n",
    "    \n",
    "    if current_f1 > best_f1:\n",
    "        best_f1 = current_f1\n",
    "        counter = 0\n",
    "        torch.save(RNNC_bidirectional.state_dict(), \"./models/RNNB.pth\")\n",
    "        print(f\"Best model saved at epoch {epoch+1} with F1: {best_f1:.4f}\")\n",
    "    else:\n",
    "        counter += 1\n",
    "        print(f\"No improvement for {counter} epochs (patience: {patience})\")\n",
    "\n",
    "    if counter >= patience:\n",
    "        print(f\"Early stopping at epoch {epoch+1}. Best F1: {best_f1:.4f}\")\n",
    "        break\n",
    "    \n",
    "    scheduler_RNNB.step()"
   ]
  },
  {
   "cell_type": "code",
   "execution_count": 171,
   "id": "a7190e46",
   "metadata": {},
   "outputs": [
    {
     "data": {
      "text/plain": [
       "<All keys matched successfully>"
      ]
     },
     "execution_count": 171,
     "metadata": {},
     "output_type": "execute_result"
    }
   ],
   "source": [
    "RNN_classification.load_state_dict(torch.load(\"./models/RNNC.pth\"))\n",
    "RNNC_bidirectional.load_state_dict(torch.load(\"./models/RNNB.pth\"))"
   ]
  },
  {
   "cell_type": "markdown",
   "id": "da2ce7bb",
   "metadata": {},
   "source": [
    "#### LSTM"
   ]
  },
  {
   "cell_type": "code",
   "execution_count": 172,
   "id": "e61d13ca",
   "metadata": {},
   "outputs": [
    {
     "name": "stderr",
     "output_type": "stream",
     "text": [
      "                                                                                       \r"
     ]
    },
    {
     "name": "stdout",
     "output_type": "stream",
     "text": [
      "[Epoch 1] Train Loss: 433.2452 || Val Loss: 108.2218 | Acc: 0.5320 | F1: 0.6425\n",
      "Best model saved at epoch 1 with F1: 0.6425\n"
     ]
    },
    {
     "name": "stderr",
     "output_type": "stream",
     "text": [
      "                                                                                       \r"
     ]
    },
    {
     "name": "stdout",
     "output_type": "stream",
     "text": [
      "[Epoch 2] Train Loss: 422.0678 || Val Loss: 107.7997 | Acc: 0.5350 | F1: 0.6584\n",
      "Best model saved at epoch 2 with F1: 0.6584\n"
     ]
    },
    {
     "name": "stderr",
     "output_type": "stream",
     "text": [
      "                                                                                       \r"
     ]
    },
    {
     "name": "stdout",
     "output_type": "stream",
     "text": [
      "[Epoch 3] Train Loss: 366.5329 || Val Loss: 93.8869 | Acc: 0.7012 | F1: 0.7501\n",
      "Best model saved at epoch 3 with F1: 0.7501\n"
     ]
    },
    {
     "name": "stderr",
     "output_type": "stream",
     "text": [
      "                                                                                       \r"
     ]
    },
    {
     "name": "stdout",
     "output_type": "stream",
     "text": [
      "[Epoch 4] Train Loss: 262.3733 || Val Loss: 86.1826 | Acc: 0.7600 | F1: 0.7707\n",
      "Best model saved at epoch 4 with F1: 0.7707\n"
     ]
    },
    {
     "name": "stderr",
     "output_type": "stream",
     "text": [
      "                                                                                       \r"
     ]
    },
    {
     "name": "stdout",
     "output_type": "stream",
     "text": [
      "[Epoch 5] Train Loss: 200.1509 || Val Loss: 98.7910 | Acc: 0.7726 | F1: 0.7950\n",
      "Best model saved at epoch 5 with F1: 0.7950\n"
     ]
    },
    {
     "name": "stderr",
     "output_type": "stream",
     "text": [
      "                                                                                       \r"
     ]
    },
    {
     "name": "stdout",
     "output_type": "stream",
     "text": [
      "[Epoch 6] Train Loss: 162.9144 || Val Loss: 92.7486 | Acc: 0.7896 | F1: 0.8083\n",
      "Best model saved at epoch 6 with F1: 0.8083\n"
     ]
    },
    {
     "name": "stderr",
     "output_type": "stream",
     "text": [
      "                                                                                       \r"
     ]
    },
    {
     "name": "stdout",
     "output_type": "stream",
     "text": [
      "[Epoch 7] Train Loss: 130.2325 || Val Loss: 91.3330 | Acc: 0.8108 | F1: 0.8027\n",
      "No improvement for 1 epochs (patience: 10)\n"
     ]
    },
    {
     "name": "stderr",
     "output_type": "stream",
     "text": [
      "                                                                                       \r"
     ]
    },
    {
     "name": "stdout",
     "output_type": "stream",
     "text": [
      "[Epoch 8] Train Loss: 95.4495 || Val Loss: 100.5479 | Acc: 0.8174 | F1: 0.8188\n",
      "Best model saved at epoch 8 with F1: 0.8188\n"
     ]
    },
    {
     "name": "stderr",
     "output_type": "stream",
     "text": [
      "                                                                                       \r"
     ]
    },
    {
     "name": "stdout",
     "output_type": "stream",
     "text": [
      "[Epoch 9] Train Loss: 68.8668 || Val Loss: 97.5527 | Acc: 0.8198 | F1: 0.8156\n",
      "No improvement for 1 epochs (patience: 10)\n"
     ]
    },
    {
     "name": "stderr",
     "output_type": "stream",
     "text": [
      "                                                                                        \r"
     ]
    },
    {
     "name": "stdout",
     "output_type": "stream",
     "text": [
      "[Epoch 10] Train Loss: 48.0415 || Val Loss: 121.5900 | Acc: 0.8156 | F1: 0.8246\n",
      "Best model saved at epoch 10 with F1: 0.8246\n"
     ]
    },
    {
     "name": "stderr",
     "output_type": "stream",
     "text": [
      "                                                                                        \r"
     ]
    },
    {
     "name": "stdout",
     "output_type": "stream",
     "text": [
      "[Epoch 11] Train Loss: 31.0813 || Val Loss: 133.5882 | Acc: 0.8256 | F1: 0.8337\n",
      "Best model saved at epoch 11 with F1: 0.8337\n"
     ]
    },
    {
     "name": "stderr",
     "output_type": "stream",
     "text": [
      "                                                                                        \r"
     ]
    },
    {
     "name": "stdout",
     "output_type": "stream",
     "text": [
      "[Epoch 12] Train Loss: 22.2499 || Val Loss: 138.5428 | Acc: 0.8202 | F1: 0.8244\n",
      "No improvement for 1 epochs (patience: 10)\n"
     ]
    },
    {
     "name": "stderr",
     "output_type": "stream",
     "text": [
      "                                                                                        \r"
     ]
    },
    {
     "name": "stdout",
     "output_type": "stream",
     "text": [
      "[Epoch 13] Train Loss: 14.6581 || Val Loss: 160.3394 | Acc: 0.8172 | F1: 0.8059\n",
      "No improvement for 2 epochs (patience: 10)\n"
     ]
    },
    {
     "name": "stderr",
     "output_type": "stream",
     "text": [
      "                                                                                        \r"
     ]
    },
    {
     "name": "stdout",
     "output_type": "stream",
     "text": [
      "[Epoch 14] Train Loss: 11.7805 || Val Loss: 156.7774 | Acc: 0.8284 | F1: 0.8291\n",
      "No improvement for 3 epochs (patience: 10)\n"
     ]
    },
    {
     "name": "stderr",
     "output_type": "stream",
     "text": [
      "                                                                                        \r"
     ]
    },
    {
     "name": "stdout",
     "output_type": "stream",
     "text": [
      "[Epoch 15] Train Loss: 9.7792 || Val Loss: 172.4680 | Acc: 0.8326 | F1: 0.8367\n",
      "Best model saved at epoch 15 with F1: 0.8367\n"
     ]
    },
    {
     "name": "stderr",
     "output_type": "stream",
     "text": [
      "                                                                                        \r"
     ]
    },
    {
     "name": "stdout",
     "output_type": "stream",
     "text": [
      "[Epoch 16] Train Loss: 8.6371 || Val Loss: 178.3339 | Acc: 0.8284 | F1: 0.8324\n",
      "No improvement for 1 epochs (patience: 10)\n"
     ]
    },
    {
     "name": "stderr",
     "output_type": "stream",
     "text": [
      "                                                                                        \r"
     ]
    },
    {
     "name": "stdout",
     "output_type": "stream",
     "text": [
      "[Epoch 17] Train Loss: 9.6180 || Val Loss: 180.9289 | Acc: 0.8282 | F1: 0.8367\n",
      "Best model saved at epoch 17 with F1: 0.8367\n"
     ]
    },
    {
     "name": "stderr",
     "output_type": "stream",
     "text": [
      "                                                                                        \r"
     ]
    },
    {
     "name": "stdout",
     "output_type": "stream",
     "text": [
      "[Epoch 18] Train Loss: 8.7578 || Val Loss: 189.3207 | Acc: 0.8250 | F1: 0.8339\n",
      "No improvement for 1 epochs (patience: 10)\n"
     ]
    },
    {
     "name": "stderr",
     "output_type": "stream",
     "text": [
      "                                                                                         \r"
     ]
    },
    {
     "name": "stdout",
     "output_type": "stream",
     "text": [
      "[Epoch 19] Train Loss: 9.6822 || Val Loss: 185.4161 | Acc: 0.8256 | F1: 0.8262\n",
      "No improvement for 2 epochs (patience: 10)\n"
     ]
    },
    {
     "name": "stderr",
     "output_type": "stream",
     "text": [
      "                                                                                        \r"
     ]
    },
    {
     "name": "stdout",
     "output_type": "stream",
     "text": [
      "[Epoch 20] Train Loss: 8.4223 || Val Loss: 211.9076 | Acc: 0.8210 | F1: 0.8230\n",
      "No improvement for 3 epochs (patience: 10)\n"
     ]
    },
    {
     "name": "stderr",
     "output_type": "stream",
     "text": [
      "                                                                                        \r"
     ]
    },
    {
     "name": "stdout",
     "output_type": "stream",
     "text": [
      "[Epoch 21] Train Loss: 6.7593 || Val Loss: 211.4985 | Acc: 0.8206 | F1: 0.8232\n",
      "No improvement for 4 epochs (patience: 10)\n"
     ]
    },
    {
     "name": "stderr",
     "output_type": "stream",
     "text": [
      "                                                                                        \r"
     ]
    },
    {
     "name": "stdout",
     "output_type": "stream",
     "text": [
      "[Epoch 22] Train Loss: 6.3054 || Val Loss: 214.7807 | Acc: 0.8210 | F1: 0.8245\n",
      "No improvement for 5 epochs (patience: 10)\n"
     ]
    },
    {
     "name": "stderr",
     "output_type": "stream",
     "text": [
      "                                                                                        \r"
     ]
    },
    {
     "name": "stdout",
     "output_type": "stream",
     "text": [
      "[Epoch 23] Train Loss: 5.3947 || Val Loss: 238.9883 | Acc: 0.8218 | F1: 0.8253\n",
      "No improvement for 6 epochs (patience: 10)\n"
     ]
    },
    {
     "name": "stderr",
     "output_type": "stream",
     "text": [
      "                                                                                        \r"
     ]
    },
    {
     "name": "stdout",
     "output_type": "stream",
     "text": [
      "[Epoch 24] Train Loss: 5.5144 || Val Loss: 226.5190 | Acc: 0.8270 | F1: 0.8311\n",
      "No improvement for 7 epochs (patience: 10)\n"
     ]
    },
    {
     "name": "stderr",
     "output_type": "stream",
     "text": [
      "                                                                                        \r"
     ]
    },
    {
     "name": "stdout",
     "output_type": "stream",
     "text": [
      "[Epoch 25] Train Loss: 5.8241 || Val Loss: 239.1202 | Acc: 0.8160 | F1: 0.8178\n",
      "No improvement for 8 epochs (patience: 10)\n"
     ]
    },
    {
     "name": "stderr",
     "output_type": "stream",
     "text": [
      "                                                                                        \r"
     ]
    },
    {
     "name": "stdout",
     "output_type": "stream",
     "text": [
      "[Epoch 26] Train Loss: 5.7940 || Val Loss: 222.4707 | Acc: 0.8264 | F1: 0.8335\n",
      "No improvement for 9 epochs (patience: 10)\n"
     ]
    },
    {
     "name": "stderr",
     "output_type": "stream",
     "text": [
      "                                                                                        "
     ]
    },
    {
     "name": "stdout",
     "output_type": "stream",
     "text": [
      "[Epoch 27] Train Loss: 6.2505 || Val Loss: 232.5555 | Acc: 0.8194 | F1: 0.8228\n",
      "No improvement for 10 epochs (patience: 10)\n",
      "Early stopping at epoch 27. Best F1: 0.8367\n"
     ]
    },
    {
     "name": "stderr",
     "output_type": "stream",
     "text": [
      "\r"
     ]
    }
   ],
   "source": [
    "accuracy_metric = BinaryAccuracy().to(device)\n",
    "f1_metric = BinaryF1Score().to(device)\n",
    "\n",
    "best_f1 = 0\n",
    "patience = 10\n",
    "counter = 0\n",
    "\n",
    "for epoch in range(30):\n",
    "    LSTM_classification.train()\n",
    "    total_loss = 0\n",
    "\n",
    "    train_loop = tqdm(train_dataloader, desc=f'Epoch {epoch+1}/{30} [Training]', leave=False)\n",
    "    for batch in train_loop:\n",
    "        input_ids = batch[\"input_ids\"].to(device)\n",
    "        labels = batch[\"label\"].float().to(device)\n",
    "\n",
    "        optimizer_LSTMC.zero_grad()\n",
    "        outputs = LSTM_classification(input_ids)\n",
    "        loss = criterion(outputs.view(-1), labels)\n",
    "        loss.backward()\n",
    "\n",
    "        torch.nn.utils.clip_grad_norm_(LSTM_classification.parameters(), max_norm=1.0)\n",
    "        optimizer_LSTMC.step()\n",
    "        \n",
    "        total_loss += loss.item()\n",
    "        train_loop.set_postfix(loss=loss.item())\n",
    "    \n",
    "    LSTM_classification.eval()\n",
    "    val_loss = 0\n",
    "    accuracy_metric.reset()\n",
    "    f1_metric.reset()\n",
    "\n",
    "    with torch.no_grad() :\n",
    "        val_loop = tqdm(val_dataloader, desc=f\"Epoch {epoch+1}/{30} [Validation]\", leave=False)\n",
    "        for batch in val_loop:\n",
    "            input_ids = batch[\"input_ids\"].to(device)\n",
    "            labels = batch[\"label\"].float().to(device)\n",
    "\n",
    "            outputs = LSTM_classification(input_ids)\n",
    "            loss = criterion(outputs.view(-1), labels)\n",
    "            val_loss += loss.item()\n",
    "\n",
    "            probs = torch.sigmoid(outputs)\n",
    "            preds = (probs > 0.5).float().view(-1)\n",
    "            accuracy_metric.update(preds, labels)\n",
    "            f1_metric.update(preds, labels)\n",
    "\n",
    "            val_loop.set_postfix(loss=loss.item())\n",
    "\n",
    "    \n",
    "    current_acc = accuracy_metric.compute().item()\n",
    "    current_f1 = f1_metric.compute().item()\n",
    "\n",
    "\n",
    "    print(f\"[Epoch {epoch+1}] Train Loss: {total_loss:.4f} || \"\n",
    "          f\"Val Loss: {val_loss:.4f} | Acc: {current_acc:.4f} | F1: {current_f1:.4f}\")\n",
    "    \n",
    "    \n",
    "    if current_f1 > best_f1:\n",
    "        best_f1 = current_f1\n",
    "        counter = 0\n",
    "        torch.save(LSTM_classification.state_dict(), \"./models/LSTMC.pth\")\n",
    "        print(f\"Best model saved at epoch {epoch+1} with F1: {best_f1:.4f}\")\n",
    "    else:\n",
    "        counter += 1\n",
    "        print(f\"No improvement for {counter} epochs (patience: {patience})\")\n",
    "\n",
    "    if counter >= patience:\n",
    "        print(f\"Early stopping at epoch {epoch+1}. Best F1: {best_f1:.4f}\")\n",
    "        break\n",
    "    \n",
    "    scheduler_LSTMC.step()"
   ]
  },
  {
   "cell_type": "code",
   "execution_count": 173,
   "id": "b35cbd52",
   "metadata": {},
   "outputs": [
    {
     "name": "stderr",
     "output_type": "stream",
     "text": [
      "                                                                                       \r"
     ]
    },
    {
     "name": "stdout",
     "output_type": "stream",
     "text": [
      "[Epoch 1] Train Loss: 433.1312 || Val Loss: 108.3141 | Acc: 0.5282 | F1: 0.6141\n",
      "Best model saved at epoch 1 with F1: 0.6141\n"
     ]
    },
    {
     "name": "stderr",
     "output_type": "stream",
     "text": [
      "                                                                                       \r"
     ]
    },
    {
     "name": "stdout",
     "output_type": "stream",
     "text": [
      "[Epoch 2] Train Loss: 426.1778 || Val Loss: 107.6700 | Acc: 0.5120 | F1: 0.6276\n",
      "Best model saved at epoch 2 with F1: 0.6276\n"
     ]
    },
    {
     "name": "stderr",
     "output_type": "stream",
     "text": [
      "                                                                                       \r"
     ]
    },
    {
     "name": "stdout",
     "output_type": "stream",
     "text": [
      "[Epoch 3] Train Loss: 395.3572 || Val Loss: 96.8271 | Acc: 0.6748 | F1: 0.5955\n",
      "No improvement for 1 epochs (patience: 10)\n"
     ]
    },
    {
     "name": "stderr",
     "output_type": "stream",
     "text": [
      "                                                                                       \r"
     ]
    },
    {
     "name": "stdout",
     "output_type": "stream",
     "text": [
      "[Epoch 4] Train Loss: 313.5064 || Val Loss: 76.1443 | Acc: 0.7978 | F1: 0.7984\n",
      "Best model saved at epoch 4 with F1: 0.7984\n"
     ]
    },
    {
     "name": "stderr",
     "output_type": "stream",
     "text": [
      "                                                                                       \r"
     ]
    },
    {
     "name": "stdout",
     "output_type": "stream",
     "text": [
      "[Epoch 5] Train Loss: 189.9184 || Val Loss: 66.9628 | Acc: 0.8254 | F1: 0.8293\n",
      "Best model saved at epoch 5 with F1: 0.8293\n"
     ]
    },
    {
     "name": "stderr",
     "output_type": "stream",
     "text": [
      "                                                                                        \r"
     ]
    },
    {
     "name": "stdout",
     "output_type": "stream",
     "text": [
      "[Epoch 6] Train Loss: 116.4692 || Val Loss: 73.6480 | Acc: 0.8290 | F1: 0.8211\n",
      "No improvement for 1 epochs (patience: 10)\n"
     ]
    },
    {
     "name": "stderr",
     "output_type": "stream",
     "text": [
      "                                                                                        \r"
     ]
    },
    {
     "name": "stdout",
     "output_type": "stream",
     "text": [
      "[Epoch 7] Train Loss: 70.9535 || Val Loss: 92.4962 | Acc: 0.8324 | F1: 0.8222\n",
      "No improvement for 2 epochs (patience: 10)\n"
     ]
    },
    {
     "name": "stderr",
     "output_type": "stream",
     "text": [
      "                                                                                        \r"
     ]
    },
    {
     "name": "stdout",
     "output_type": "stream",
     "text": [
      "[Epoch 8] Train Loss: 41.9103 || Val Loss: 100.9194 | Acc: 0.8352 | F1: 0.8308\n",
      "Best model saved at epoch 8 with F1: 0.8308\n"
     ]
    },
    {
     "name": "stderr",
     "output_type": "stream",
     "text": [
      "                                                                                        \r"
     ]
    },
    {
     "name": "stdout",
     "output_type": "stream",
     "text": [
      "[Epoch 9] Train Loss: 29.2477 || Val Loss: 125.8242 | Acc: 0.8296 | F1: 0.8248\n",
      "No improvement for 1 epochs (patience: 10)\n"
     ]
    },
    {
     "name": "stderr",
     "output_type": "stream",
     "text": [
      "                                                                                        \r"
     ]
    },
    {
     "name": "stdout",
     "output_type": "stream",
     "text": [
      "[Epoch 10] Train Loss: 22.7832 || Val Loss: 134.1125 | Acc: 0.8340 | F1: 0.8266\n",
      "No improvement for 2 epochs (patience: 10)\n"
     ]
    },
    {
     "name": "stderr",
     "output_type": "stream",
     "text": [
      "                                                                                        \r"
     ]
    },
    {
     "name": "stdout",
     "output_type": "stream",
     "text": [
      "[Epoch 11] Train Loss: 11.1975 || Val Loss: 160.6423 | Acc: 0.8296 | F1: 0.8211\n",
      "No improvement for 3 epochs (patience: 10)\n"
     ]
    },
    {
     "name": "stderr",
     "output_type": "stream",
     "text": [
      "                                                                                        \r"
     ]
    },
    {
     "name": "stdout",
     "output_type": "stream",
     "text": [
      "[Epoch 12] Train Loss: 9.1655 || Val Loss: 170.4012 | Acc: 0.8320 | F1: 0.8340\n",
      "Best model saved at epoch 12 with F1: 0.8340\n"
     ]
    },
    {
     "name": "stderr",
     "output_type": "stream",
     "text": [
      "                                                                                        \r"
     ]
    },
    {
     "name": "stdout",
     "output_type": "stream",
     "text": [
      "[Epoch 13] Train Loss: 7.4148 || Val Loss: 177.9173 | Acc: 0.8340 | F1: 0.8352\n",
      "Best model saved at epoch 13 with F1: 0.8352\n"
     ]
    },
    {
     "name": "stderr",
     "output_type": "stream",
     "text": [
      "                                                                                        \r"
     ]
    },
    {
     "name": "stdout",
     "output_type": "stream",
     "text": [
      "[Epoch 14] Train Loss: 6.2405 || Val Loss: 207.7263 | Acc: 0.8262 | F1: 0.8349\n",
      "No improvement for 1 epochs (patience: 10)\n"
     ]
    },
    {
     "name": "stderr",
     "output_type": "stream",
     "text": [
      "                                                                                        \r"
     ]
    },
    {
     "name": "stdout",
     "output_type": "stream",
     "text": [
      "[Epoch 15] Train Loss: 6.3597 || Val Loss: 189.2761 | Acc: 0.8312 | F1: 0.8333\n",
      "No improvement for 2 epochs (patience: 10)\n"
     ]
    },
    {
     "name": "stderr",
     "output_type": "stream",
     "text": [
      "                                                                                        \r"
     ]
    },
    {
     "name": "stdout",
     "output_type": "stream",
     "text": [
      "[Epoch 16] Train Loss: 6.9975 || Val Loss: 212.4361 | Acc: 0.8312 | F1: 0.8329\n",
      "No improvement for 3 epochs (patience: 10)\n"
     ]
    },
    {
     "name": "stderr",
     "output_type": "stream",
     "text": [
      "                                                                                        \r"
     ]
    },
    {
     "name": "stdout",
     "output_type": "stream",
     "text": [
      "[Epoch 17] Train Loss: 7.6678 || Val Loss: 197.6363 | Acc: 0.8306 | F1: 0.8304\n",
      "No improvement for 4 epochs (patience: 10)\n"
     ]
    },
    {
     "name": "stderr",
     "output_type": "stream",
     "text": [
      "                                                                                        \r"
     ]
    },
    {
     "name": "stdout",
     "output_type": "stream",
     "text": [
      "[Epoch 18] Train Loss: 5.9521 || Val Loss: 193.5636 | Acc: 0.8322 | F1: 0.8345\n",
      "No improvement for 5 epochs (patience: 10)\n"
     ]
    },
    {
     "name": "stderr",
     "output_type": "stream",
     "text": [
      "                                                                                        \r"
     ]
    },
    {
     "name": "stdout",
     "output_type": "stream",
     "text": [
      "[Epoch 19] Train Loss: 6.4616 || Val Loss: 202.8523 | Acc: 0.8326 | F1: 0.8344\n",
      "No improvement for 6 epochs (patience: 10)\n"
     ]
    },
    {
     "name": "stderr",
     "output_type": "stream",
     "text": [
      "                                                                                        \r"
     ]
    },
    {
     "name": "stdout",
     "output_type": "stream",
     "text": [
      "[Epoch 20] Train Loss: 6.1897 || Val Loss: 201.2547 | Acc: 0.8292 | F1: 0.8276\n",
      "No improvement for 7 epochs (patience: 10)\n"
     ]
    },
    {
     "name": "stderr",
     "output_type": "stream",
     "text": [
      "                                                                                         \r"
     ]
    },
    {
     "name": "stdout",
     "output_type": "stream",
     "text": [
      "[Epoch 21] Train Loss: 3.8043 || Val Loss: 202.6709 | Acc: 0.8346 | F1: 0.8375\n",
      "Best model saved at epoch 21 with F1: 0.8375\n"
     ]
    },
    {
     "name": "stderr",
     "output_type": "stream",
     "text": [
      "                                                                                          \r"
     ]
    },
    {
     "name": "stdout",
     "output_type": "stream",
     "text": [
      "[Epoch 22] Train Loss: 3.0748 || Val Loss: 218.7418 | Acc: 0.8322 | F1: 0.8337\n",
      "No improvement for 1 epochs (patience: 10)\n"
     ]
    },
    {
     "name": "stderr",
     "output_type": "stream",
     "text": [
      "                                                                                          \r"
     ]
    },
    {
     "name": "stdout",
     "output_type": "stream",
     "text": [
      "[Epoch 23] Train Loss: 2.5656 || Val Loss: 231.9390 | Acc: 0.8380 | F1: 0.8381\n",
      "Best model saved at epoch 23 with F1: 0.8381\n"
     ]
    },
    {
     "name": "stderr",
     "output_type": "stream",
     "text": [
      "                                                                                        \r"
     ]
    },
    {
     "name": "stdout",
     "output_type": "stream",
     "text": [
      "[Epoch 24] Train Loss: 3.8050 || Val Loss: 229.9200 | Acc: 0.8348 | F1: 0.8307\n",
      "No improvement for 1 epochs (patience: 10)\n"
     ]
    },
    {
     "name": "stderr",
     "output_type": "stream",
     "text": [
      "                                                                                        \r"
     ]
    },
    {
     "name": "stdout",
     "output_type": "stream",
     "text": [
      "[Epoch 25] Train Loss: 3.0988 || Val Loss: 236.2028 | Acc: 0.8336 | F1: 0.8295\n",
      "No improvement for 2 epochs (patience: 10)\n"
     ]
    },
    {
     "name": "stderr",
     "output_type": "stream",
     "text": [
      "                                                                                          \r"
     ]
    },
    {
     "name": "stdout",
     "output_type": "stream",
     "text": [
      "[Epoch 26] Train Loss: 3.8905 || Val Loss: 232.1578 | Acc: 0.8300 | F1: 0.8346\n",
      "No improvement for 3 epochs (patience: 10)\n"
     ]
    },
    {
     "name": "stderr",
     "output_type": "stream",
     "text": [
      "                                                                                         \r"
     ]
    },
    {
     "name": "stdout",
     "output_type": "stream",
     "text": [
      "[Epoch 27] Train Loss: 2.5829 || Val Loss: 237.6860 | Acc: 0.8334 | F1: 0.8340\n",
      "No improvement for 4 epochs (patience: 10)\n"
     ]
    },
    {
     "name": "stderr",
     "output_type": "stream",
     "text": [
      "                                                                                        \r"
     ]
    },
    {
     "name": "stdout",
     "output_type": "stream",
     "text": [
      "[Epoch 28] Train Loss: 2.7102 || Val Loss: 248.5273 | Acc: 0.8258 | F1: 0.8274\n",
      "No improvement for 5 epochs (patience: 10)\n"
     ]
    },
    {
     "name": "stderr",
     "output_type": "stream",
     "text": [
      "                                                                                        \r"
     ]
    },
    {
     "name": "stdout",
     "output_type": "stream",
     "text": [
      "[Epoch 29] Train Loss: 2.1844 || Val Loss: 261.7936 | Acc: 0.8256 | F1: 0.8296\n",
      "No improvement for 6 epochs (patience: 10)\n"
     ]
    },
    {
     "name": "stderr",
     "output_type": "stream",
     "text": [
      "                                                                                         "
     ]
    },
    {
     "name": "stdout",
     "output_type": "stream",
     "text": [
      "[Epoch 30] Train Loss: 2.9129 || Val Loss: 249.6486 | Acc: 0.8324 | F1: 0.8295\n",
      "No improvement for 7 epochs (patience: 10)\n"
     ]
    },
    {
     "name": "stderr",
     "output_type": "stream",
     "text": [
      "\r"
     ]
    }
   ],
   "source": [
    "accuracy_metric = BinaryAccuracy().to(device)\n",
    "f1_metric = BinaryF1Score().to(device)\n",
    "\n",
    "best_f1 = 0\n",
    "patience = 10\n",
    "counter = 0\n",
    "\n",
    "for epoch in range(30):\n",
    "    LSTM_bidirectional.train()\n",
    "    total_loss = 0\n",
    "\n",
    "    train_loop = tqdm(train_dataloader, desc=f'Epoch {epoch+1}/{30} [Training]', leave=False)\n",
    "    for batch in train_loop:\n",
    "        input_ids = batch[\"input_ids\"].to(device)\n",
    "        labels = batch[\"label\"].float().to(device)\n",
    "\n",
    "        optimizer_LSTMB.zero_grad()\n",
    "        outputs = LSTM_bidirectional(input_ids)\n",
    "        loss = criterion(outputs.view(-1), labels)\n",
    "        loss.backward()\n",
    "\n",
    "        torch.nn.utils.clip_grad_norm_(LSTM_bidirectional.parameters(), max_norm=1.0)\n",
    "        optimizer_LSTMB.step()\n",
    "        \n",
    "        total_loss += loss.item()\n",
    "        train_loop.set_postfix(loss=loss.item())\n",
    "    \n",
    "    LSTM_bidirectional.eval()\n",
    "    val_loss = 0\n",
    "    accuracy_metric.reset()\n",
    "    f1_metric.reset()\n",
    "\n",
    "    with torch.no_grad() :\n",
    "        val_loop = tqdm(val_dataloader, desc=f\"Epoch {epoch+1}/{30} [Validation]\", leave=False)\n",
    "        for batch in val_loop:\n",
    "            input_ids = batch[\"input_ids\"].to(device)\n",
    "            labels = batch[\"label\"].float().to(device)\n",
    "\n",
    "            outputs = LSTM_bidirectional(input_ids)\n",
    "            loss = criterion(outputs.view(-1), labels)\n",
    "            val_loss += loss.item()\n",
    "\n",
    "            probs = torch.sigmoid(outputs)\n",
    "            preds = (probs > 0.5).float().view(-1)\n",
    "            accuracy_metric.update(preds, labels)\n",
    "            f1_metric.update(preds, labels)\n",
    "\n",
    "            val_loop.set_postfix(loss=loss.item())\n",
    "\n",
    "    \n",
    "    current_acc = accuracy_metric.compute().item()\n",
    "    current_f1 = f1_metric.compute().item()\n",
    "\n",
    "\n",
    "    print(f\"[Epoch {epoch+1}] Train Loss: {total_loss:.4f} || \"\n",
    "          f\"Val Loss: {val_loss:.4f} | Acc: {current_acc:.4f} | F1: {current_f1:.4f}\")\n",
    "    \n",
    "    \n",
    "    if current_f1 > best_f1:\n",
    "        best_f1 = current_f1\n",
    "        counter = 0\n",
    "        torch.save(LSTM_bidirectional.state_dict(), \"./models/LSTMB.pth\")\n",
    "        print(f\"Best model saved at epoch {epoch+1} with F1: {best_f1:.4f}\")\n",
    "    else:\n",
    "        counter += 1\n",
    "        print(f\"No improvement for {counter} epochs (patience: {patience})\")\n",
    "\n",
    "    if counter >= patience:\n",
    "        print(f\"Early stopping at epoch {epoch+1}. Best F1: {best_f1:.4f}\")\n",
    "        break\n",
    "    \n",
    "    scheduler_LSTMB.step()"
   ]
  },
  {
   "cell_type": "code",
   "execution_count": 174,
   "id": "fdd7276f",
   "metadata": {},
   "outputs": [
    {
     "data": {
      "text/plain": [
       "<All keys matched successfully>"
      ]
     },
     "execution_count": 174,
     "metadata": {},
     "output_type": "execute_result"
    }
   ],
   "source": [
    "LSTM_classification.load_state_dict(torch.load(\"./models/LSTMC.pth\"))\n",
    "LSTM_bidirectional.load_state_dict(torch.load(\"./models/LSTMB.pth\"))"
   ]
  },
  {
   "cell_type": "markdown",
   "id": "32a99762",
   "metadata": {},
   "source": [
    "### Test"
   ]
  },
  {
   "cell_type": "code",
   "execution_count": 175,
   "id": "5791ee89",
   "metadata": {},
   "outputs": [],
   "source": [
    "def creat_heatmap(confusion_matrix) :\n",
    "    plt.figure(figsize=(12, 7))\n",
    "    sns.heatmap(confusion_matrix.compute().to('cpu'),\n",
    "                annot=True, \n",
    "                fmt='d', \n",
    "                cmap='Blues', \n",
    "                linewidths=0.5, \n",
    "                square=True, \n",
    "                cbar_kws={\"shrink\": 0.75}\n",
    "    )\n",
    "\n",
    "\n",
    "    plt.title(\"Confusion Matrix\", fontsize=16)\n",
    "    plt.xlabel(\"Predicted Labels\", fontsize=14)\n",
    "    plt.ylabel(\"True Labels\", fontsize=14)\n",
    "    plt.xticks(fontsize=12)\n",
    "    plt.yticks(fontsize=12)\n",
    "    plt.tight_layout()\n",
    "    plt.show()"
   ]
  },
  {
   "cell_type": "code",
   "execution_count": 192,
   "id": "4a06699e",
   "metadata": {},
   "outputs": [],
   "source": [
    "def Test_verification(model):\n",
    "    accuracy_metric_test = BinaryAccuracy().to(device)\n",
    "    f1_metric_test = BinaryF1Score().to(device)\n",
    "    CF = BinaryConfusionMatrix().to(device)\n",
    "\n",
    "    model.eval()\n",
    "    with torch.no_grad():\n",
    "        val_loop = tqdm(test_dataloader, desc=\"Test [Evaluation]\", leave=False)\n",
    "        for batch in val_loop:\n",
    "            input_ids = batch[\"input_ids\"].to(device)\n",
    "            labels = batch[\"label\"].float().to(device)\n",
    "\n",
    "            outputs = model(input_ids)\n",
    "            probs = torch.sigmoid(outputs)\n",
    "            preds = (probs > 0.5).float().squeeze(1)\n",
    "\n",
    "            accuracy_metric_test.update(preds, labels)\n",
    "            f1_metric_test.update(preds, labels)\n",
    "            CF.update(preds, labels)\n",
    "\n",
    "    print(f\"Test F1: {f1_metric_test.compute().item():.4f}\")\n",
    "    print(f\"Test Accuracy: {accuracy_metric_test.compute().item():.4f}\")\n",
    "\n",
    "    creat_heatmap(CF)\n"
   ]
  },
  {
   "cell_type": "code",
   "execution_count": 193,
   "id": "454a1066",
   "metadata": {},
   "outputs": [
    {
     "name": "stderr",
     "output_type": "stream",
     "text": [
      "                                                                     \r"
     ]
    },
    {
     "name": "stdout",
     "output_type": "stream",
     "text": [
      "Test F1: 0.6156\n",
      "Test Accuracy: 0.5048\n"
     ]
    },
    {
     "data": {
      "image/png": "[encoded data removed]",
      "text/plain": [
       "<Figure size 1200x700 with 2 Axes>"
      ]
     },
     "metadata": {},
     "output_type": "display_data"
    }
   ],
   "source": [
    "Test_verification(RNN_classification)"
   ]
  },
  {
   "cell_type": "code",
   "execution_count": 194,
   "id": "52f10d25",
   "metadata": {},
   "outputs": [
    {
     "name": "stderr",
     "output_type": "stream",
     "text": [
      "                                                                     \r"
     ]
    },
    {
     "name": "stdout",
     "output_type": "stream",
     "text": [
      "Test F1: 0.7173\n",
      "Test Accuracy: 0.7061\n"
     ]
    },
    {
     "data": {
      "image/png": "[encoded data removed]",
      "text/plain": [
       "<Figure size 1200x700 with 2 Axes>"
      ]
     },
     "metadata": {},
     "output_type": "display_data"
    }
   ],
   "source": [
    "Test_verification(RNNC_bidirectional)"
   ]
  },
  {
   "cell_type": "code",
   "execution_count": 195,
   "id": "a14fc180",
   "metadata": {},
   "outputs": [
    {
     "name": "stderr",
     "output_type": "stream",
     "text": [
      "                                                                     \r"
     ]
    },
    {
     "name": "stdout",
     "output_type": "stream",
     "text": [
      "Test F1: 0.8238\n",
      "Test Accuracy: 0.8182\n"
     ]
    },
    {
     "data": {
      "image/png": "[encoded data removed]",
      "text/plain": [
       "<Figure size 1200x700 with 2 Axes>"
      ]
     },
     "metadata": {},
     "output_type": "display_data"
    }
   ],
   "source": [
    "Test_verification(LSTM_classification)"
   ]
  },
  {
   "cell_type": "code",
   "execution_count": 196,
   "id": "ffbc6cff",
   "metadata": {},
   "outputs": [
    {
     "name": "stderr",
     "output_type": "stream",
     "text": [
      "                                                                     \r"
     ]
    },
    {
     "name": "stdout",
     "output_type": "stream",
     "text": [
      "Test F1: 0.8159\n",
      "Test Accuracy: 0.8193\n"
     ]
    },
    {
     "data": {
      "image/png": "[encoded data removed]",
      "text/plain": [
       "<Figure size 1200x700 with 2 Axes>"
      ]
     },
     "metadata": {},
     "output_type": "display_data"
    }
   ],
   "source": [
    "Test_verification(LSTM_bidirectional)"
   ]
  },
  {
   "cell_type": "markdown",
   "id": "9fb3f88f",
   "metadata": {},
   "source": [
    "# 📊 Model Performance Summary\n",
    "\n",
    "## 🧠 Model 1: `RNN`\n",
    "**Best Validation F1:** `0.6168` (Epoch 2)  \n",
    "**Early Stopping:** Epoch 10  \n",
    "**Test F1:** `0.6156`  \n",
    "**Test Accuracy:** `0.5048`\n",
    "\n",
    "| Epoch | Train Loss | Val Loss | Accuracy | F1 Score | Note |\n",
    "|-------|------------|----------|----------|----------|------|\n",
    "| 1     | 435.0708   | 109.1673 | 0.4966   | 0.0210   | ✅ Best |\n",
    "| 2     | 437.2120   | 108.8117 | 0.5074   | 0.6168   | ✅ Best |\n",
    "| ...   | ...        | ...      | ...      | ...      | No improvement |\n",
    "| 10    | 434.1722   | 108.8942 | 0.4986   | 0.2843   | ⛔ Early Stopping |\n",
    "\n",
    "---\n",
    "\n",
    "## 🔁 Model 2: `RNN_bidirectional`\n",
    "**Best Validation F1:** `0.7432` (Epoch 8)  \n",
    "**Early Stopping:** Epoch 16  \n",
    "**Test F1:** `0.7173`  \n",
    "**Test Accuracy:** `0.7061`\n",
    "\n",
    "| Epoch | Train Loss | Val Loss | Accuracy | F1 Score | Note |\n",
    "|-------|------------|----------|----------|----------|------|\n",
    "| 1     | 430.9971   | 105.4120 | 0.5962   | 0.6500   | ✅ Best |\n",
    "| 4     | 325.9368   | 91.9093  | 0.7200   | 0.7324   | ✅ Best |\n",
    "| 5     | 291.3223   | 92.3192  | 0.7352   | 0.7353   | ✅ Best |\n",
    "| 8     | 190.2756   | 114.3085 | 0.7246   | 0.7432   | ✅ Best |\n",
    "| 16    | 64.6346    | 175.3216 | 0.7224   | 0.7277   | ⛔ Early Stopping |\n",
    "\n",
    "---\n",
    "\n",
    "## 📥 Model 3: `LSTM`\n",
    "**Best Validation F1:** `0.8367` (Epochs 15 & 17)  \n",
    "**Early Stopping:** Epoch 27  \n",
    "**Test F1:** `0.8238`  \n",
    "**Test Accuracy:** `0.8182`\n",
    "\n",
    "| Epoch | Train Loss | Val Loss | Accuracy | F1 Score | Note |\n",
    "|-------|------------|----------|----------|----------|------|\n",
    "| 1     | 433.2452   | 108.2218 | 0.5320   | 0.6425   | ✅ Best |\n",
    "| 6     | 162.9144   | 92.7486  | 0.7896   | 0.8083   | ✅ Best |\n",
    "| 8     | 95.4495    | 100.5479 | 0.8174   | 0.8188   | ✅ Best |\n",
    "| 10    | 48.0415    | 121.5900 | 0.8156   | 0.8246   | ✅ Best |\n",
    "| 11    | 31.0813    | 133.5882 | 0.8256   | 0.8337   | ✅ Best |\n",
    "| 15    | 9.7792     | 172.4680 | 0.8326   | 0.8367   | ✅ Best |\n",
    "| 17    | 9.6180     | 180.9289 | 0.8282   | 0.8367   | ✅ Best |\n",
    "| 27    | 6.2505     | 232.5555 | 0.8194   | 0.8228   | ⛔ Early Stopping |\n",
    "\n",
    "---\n",
    "\n",
    "## 🔁 Model 4: `LSTM_bidirectional`\n",
    "**Best Validation F1:** `0.8381` (Epoch 23)  \n",
    "**Early Stopping:** Epoch 30  \n",
    "**Test F1:** `0.8159`  \n",
    "**Test Accuracy:** `0.8193`\n",
    "\n",
    "| Epoch | Train Loss | Val Loss | Accuracy | F1 Score | Note |\n",
    "|-------|------------|----------|----------|----------|------|\n",
    "| 1     | 433.1312   | 108.3141 | 0.5282   | 0.6141   | ✅ Best |\n",
    "| 5     | 189.9184   | 66.9628  | 0.8254   | 0.8293   | ✅ Best |\n",
    "| 8     | 41.9103    | 100.9194 | 0.8352   | 0.8308   | ✅ Best |\n",
    "| 12    | 9.1655     | 170.4012 | 0.8320   | 0.8340   | ✅ Best |\n",
    "| 13    | 7.4148     | 177.9173 | 0.8340   | 0.8352   | ✅ Best |\n",
    "| 21    | 3.8043     | 202.6709 | 0.8346   | 0.8375   | ✅ Best |\n",
    "| 23    | 2.5656     | 231.9390 | 0.8380   | 0.8381   | ✅ Best |\n",
    "| 30    | 2.9129     | 249.6486 | 0.8324   | 0.8295   | ⛔ Early Stopping |\n",
    "\n",
    "---\n",
    "\n",
    "## ✅ **Overall Summary**\n",
    "\n",
    "| Model                | Best Val F1 | Test F1 | Test Accuracy |\n",
    "|---------------------|-------------|---------|----------------|\n",
    "| RNN  | 0.6168      | 0.6156  | 0.5048         |\n",
    "| RNN_bidirectional   | 0.7432      | 0.7173  | 0.7061         |\n",
    "| LSTM                | 0.8367      | 0.8238  | 0.8182         |\n",
    "| LSTM_bidirectional  | **0.8381**  | 0.8159  | **0.8193**     |\n"
   ]
  }
 ],
 "metadata": {
  "kernelspec": {
   "display_name": "torch",
   "language": "python",
   "name": "python3"
  },
  "language_info": {
   "codemirror_mode": {
    "name": "ipython",
    "version": 3
   },
   "file_extension": ".py",
   "mimetype": "text/x-python",
   "name": "python",
   "nbconvert_exporter": "python",
   "pygments_lexer": "ipython3",
   "version": "3.10.18"
  }
 },
 "nbformat": 4,
 "nbformat_minor": 5
}
